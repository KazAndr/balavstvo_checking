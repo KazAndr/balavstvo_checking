{
 "cells": [
  {
   "cell_type": "markdown",
   "metadata": {},
   "source": [
    "Fitting the experimental data by the folowing formula:\n",
    "\n",
    "$$y(P) = b + (m - b)\\cdot \\left( \\frac{S+P+Kd - \\sqrt{(S + P + Kd)^{2} - 4 SP}}{2 S} \\right) $$\n",
    "\n",
    "There are some conditions:\n",
    "+ b = Amin > 0;\n",
    "+ m = Amax;\n",
    "+ Amin < Amax <= 0.4\n",
    "+ Kd > 0\n",
    "\n",
    "We need to search for:\n",
    "\n",
    "+ Kd,\n",
    "+ b,\n",
    "+ m,\n",
    "+ Chi^2\n",
    "+ R^2"
   ]
  },
  {
   "cell_type": "code",
   "execution_count": 41,
   "metadata": {},
   "outputs": [],
   "source": [
    "import os\n",
    "import glob\n",
    "import pandas as pd \n",
    "import matplotlib.pyplot as plt\n",
    "from scipy.optimize import curve_fit, leastsq\n",
    "from scipy.stats import chisquare, linregress"
   ]
  },
  {
   "cell_type": "code",
   "execution_count": 20,
   "metadata": {},
   "outputs": [],
   "source": [
    "def y_P(X, b, m, Kd):\n",
    "    S, P = X\n",
    "    return b + (m - b)*((S + P + Kd - (((S + P + Kd)**2) - 4*S*P)**0.5)/2*S)"
   ]
  },
  {
   "cell_type": "code",
   "execution_count": 72,
   "metadata": {},
   "outputs": [],
   "source": [
    "files = sorted(glob.glob('data/*.csv'))\n",
    "param_table = pd.DataFrame(columns=[\n",
    "    'file',\n",
    "    'b',\n",
    "    'm',\n",
    "    'Kd',\n",
    "    'Chi^2',\n",
    "    'R^2'\n",
    "])"
   ]
  },
  {
   "cell_type": "code",
   "execution_count": 81,
   "metadata": {},
   "outputs": [
    {
     "data": {
      "image/png": "[encoded data removed]",
      "text/plain": [
       "<Figure size 432x288 with 1 Axes>"
      ]
     },
     "metadata": {
      "needs_background": "light"
     },
     "output_type": "display_data"
    }
   ],
   "source": [
    "for idx, file in enumerate(files):\n",
    "    table = pd.read_csv(file, sep='\\t')\n",
    "    \n",
    "    name_smt = os.path.basename(file)[:-4]\n",
    "    y = table['A, anisotropy']\n",
    "    b = table['A, anisotropy'].min()\n",
    "    m = table['A, anisotropy'].max()\n",
    "    Kd = 1\n",
    "    popt,pcov = curve_fit(y_P,(table.S, table.P),y,p0=[b, m, Kd])\n",
    "    b_model, m_model, Kd_model = popt\n",
    "    y_model = y_P((table.S, table.P),*popt)\n",
    "    plt.clf()\n",
    "    plt.title(name_smt)\n",
    "    plt.ylabel('A, anisotropy')\n",
    "    plt.xlabel('P, nM')\n",
    "    plt.plot(table.P, y_model, label='model')\n",
    "    plt.plot(table.P, table['A, anisotropy'], '+', color='red', label='obs')\n",
    "    plt.grid(True, ls='--', color='gray')\n",
    "    plt.legend()\n",
    "    plt.savefig(f'images/{name_smt}.png', format='png', dpi=700)\n",
    "    \n",
    "    param_table.loc[idx] = [\n",
    "        name_smt,\n",
    "        round(b_model, 3),\n",
    "        round(m_model, 3),\n",
    "        round(Kd_model, 2),\n",
    "        '{:.2e}'.format(chisquare(f_obs=y, f_exp=y_model)[0]),\n",
    "        round(linregress(table.P, y_model)[2], 3)\n",
    "    ]"
   ]
  },
  {
   "cell_type": "code",
   "execution_count": 83,
   "metadata": {},
   "outputs": [],
   "source": [
    "param_table.to_csv('fit_params.csv', sep=',')"
   ]
  },
  {
   "cell_type": "code",
   "execution_count": null,
   "metadata": {},
   "outputs": [],
   "source": []
  }
 ],
 "metadata": {
  "kernelspec": {
   "display_name": "Python 3",
   "language": "python",
   "name": "python3"
  },
  "language_info": {
   "codemirror_mode": {
    "name": "ipython",
    "version": 3
   },
   "file_extension": ".py",
   "mimetype": "text/x-python",
   "name": "python",
   "nbconvert_exporter": "python",
   "pygments_lexer": "ipython3",
   "version": "3.7.4"
  }
 },
 "nbformat": 4,
 "nbformat_minor": 4
}
