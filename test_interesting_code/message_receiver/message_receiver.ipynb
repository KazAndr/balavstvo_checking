{
 "cells": [
  {
   "cell_type": "code",
   "execution_count": 33,
   "metadata": {},
   "outputs": [],
   "source": [
    "from imaplib import IMAP4_SSL\n",
    "import email\n",
    "\n",
    "import config"
   ]
  },
  {
   "cell_type": "code",
   "execution_count": 72,
   "metadata": {},
   "outputs": [],
   "source": [
    "YA_HOST = \"imap.yandex.ru\"\n",
    "YA_PORT = 993\n",
    "YA_USER = config.log\n",
    "YA_PASSWORD = config.ps\n",
    "SENDER = \"kaz.prao@bk.ru\""
   ]
  },
  {
   "cell_type": "code",
   "execution_count": 73,
   "metadata": {},
   "outputs": [
    {
     "data": {
      "text/plain": [
       "('OK', [b'LOGIN Completed.'])"
      ]
     },
     "execution_count": 73,
     "metadata": {},
     "output_type": "execute_result"
    }
   ],
   "source": [
    "connection = IMAP4_SSL(host=YA_HOST, port=YA_PORT)\n",
    "connection.login(user=YA_USER, password=YA_PASSWORD)"
   ]
  },
  {
   "cell_type": "code",
   "execution_count": 74,
   "metadata": {},
   "outputs": [
    {
     "data": {
      "text/plain": [
       "('OK',\n",
       " [b'(\\\\Marked \\\\HasNoChildren) \"|\" \"&BB4EMQRBBDUEQAQyBDAEQgQ+BEAEOARP-\"',\n",
       "  b'(\\\\Marked \\\\HasNoChildren) \"|\" \"&BB8EPgRCBDAEPwQ+BDI- &BBI-.&BBA-.\"',\n",
       "  b'(\\\\Marked \\\\HasNoChildren) \"|\" \"&BB8ESAQ4BEAEOgQ+BDI- &BBw-.&BCE-.\"',\n",
       "  b'(\\\\Marked \\\\HasNoChildren) \"|\" \"&BCEEMAQ8BD4ENARDBEAEPgQy- &BBI-.&BBA-.\"',\n",
       "  b'(\\\\Marked \\\\HasNoChildren) \"|\" \"&BCEEQwQ7BDUEOQQ8BDAEPQQ+BDIEMA- &BCE-.&BBA-.\"',\n",
       "  b'(\\\\Marked \\\\HasNoChildren) \"|\" AbstracsADS',\n",
       "  b'(\\\\Marked \\\\HasNoChildren \\\\Drafts) \"|\" Drafts',\n",
       "  b'(\\\\Marked \\\\NoInferiors) \"|\" INBOX',\n",
       "  b'(\\\\Unmarked \\\\HasNoChildren) \"|\" Outbox',\n",
       "  b'(\\\\Marked \\\\HasNoChildren \\\\Sent) \"|\" Sent',\n",
       "  b'(\\\\Marked \\\\HasNoChildren \\\\Junk) \"|\" Spam',\n",
       "  b'(\\\\Marked \\\\HasNoChildren \\\\Trash) \"|\" Trash',\n",
       "  b'(\\\\Marked \\\\HasNoChildren) \"|\" fromGIT',\n",
       "  b'(\\\\Marked \\\\HasNoChildren) \"|\" golang',\n",
       "  b'(\\\\Marked \\\\HasNoChildren) \"|\" hes_clasroon_tasks',\n",
       "  b'(\\\\Marked \\\\HasChildren) \"|\" unimportant',\n",
       "  b'(\\\\Marked \\\\HasNoChildren) \"|\" \"unimportant|&BBQEPgQ8AKAEQwRHBDUEPQRLBEU-\"',\n",
       "  b'(\\\\Unmarked \\\\HasNoChildren) \"|\" \"unimportant|Facebook\"',\n",
       "  b'(\\\\Unmarked \\\\HasNoChildren) \"|\" \"unimportant|MASTER\"',\n",
       "  b'(\\\\Marked \\\\HasNoChildren) \"|\" \"unimportant|VK\"',\n",
       "  b'(\\\\Unmarked \\\\HasNoChildren) \"|\" \"unimportant|phoenix1790@yandex.ru\"'])"
      ]
     },
     "execution_count": 74,
     "metadata": {},
     "output_type": "execute_result"
    }
   ],
   "source": [
    "connection.list()"
   ]
  },
  {
   "cell_type": "code",
   "execution_count": 75,
   "metadata": {},
   "outputs": [
    {
     "data": {
      "text/plain": [
       "('OK', [b'3'])"
      ]
     },
     "execution_count": 75,
     "metadata": {},
     "output_type": "execute_result"
    }
   ],
   "source": [
    "connection.select('hes_clasroon_tasks', )"
   ]
  },
  {
   "cell_type": "code",
   "execution_count": 76,
   "metadata": {},
   "outputs": [
    {
     "data": {
      "text/plain": [
       "('OK', [b'2 3'])"
      ]
     },
     "execution_count": 76,
     "metadata": {},
     "output_type": "execute_result"
    }
   ],
   "source": [
    "#connection.search(None, 'FROM', SENDER, 'UNSEEN')\n",
    "connection.search(None, 'UNSEEN')"
   ]
  },
  {
   "cell_type": "code",
   "execution_count": 77,
   "metadata": {},
   "outputs": [],
   "source": [
    "status, data = connection.fetch(b'3', '(RFC822)')"
   ]
  },
  {
   "cell_type": "code",
   "execution_count": 78,
   "metadata": {},
   "outputs": [],
   "source": [
    "msg = email.message_from_bytes(data[0][1], _class = email.message.EmailMessage)"
   ]
  },
  {
   "cell_type": "code",
   "execution_count": 91,
   "metadata": {},
   "outputs": [
    {
     "data": {
      "text/plain": [
       "'no '"
      ]
     },
     "execution_count": 91,
     "metadata": {},
     "output_type": "execute_result"
    }
   ],
   "source": [
    "msg['Subject']"
   ]
  },
  {
   "cell_type": "code",
   "execution_count": 80,
   "metadata": {},
   "outputs": [
    {
     "data": {
      "text/plain": [
       "'Sun, 24 Nov 2019 19:33:07 +0300'"
      ]
     },
     "execution_count": 80,
     "metadata": {},
     "output_type": "execute_result"
    }
   ],
   "source": [
    "msg['Date']"
   ]
  },
  {
   "cell_type": "code",
   "execution_count": 90,
   "metadata": {},
   "outputs": [
    {
     "data": {
      "text/plain": [
       "'kaz.prao@bk.ru'"
      ]
     },
     "execution_count": 90,
     "metadata": {},
     "output_type": "execute_result"
    }
   ],
   "source": [
    "msg['From'].split()[1][1:-1]"
   ]
  },
  {
   "cell_type": "code",
   "execution_count": 84,
   "metadata": {},
   "outputs": [],
   "source": [
    "payload = msg.get_payload()[0]"
   ]
  },
  {
   "cell_type": "code",
   "execution_count": 85,
   "metadata": {},
   "outputs": [
    {
     "ename": "AttributeError",
     "evalue": "'str' object has no attribute 'get_payload'",
     "output_type": "error",
     "traceback": [
      "\u001b[0;31m---------------------------------------------------------------------------\u001b[0m",
      "\u001b[0;31mAttributeError\u001b[0m                            Traceback (most recent call last)",
      "\u001b[0;32m<ipython-input-85-4d65f12f82a0>\u001b[0m in \u001b[0;36m<module>\u001b[0;34m\u001b[0m\n\u001b[0;32m----> 1\u001b[0;31m \u001b[0mpayload\u001b[0m\u001b[0;34m.\u001b[0m\u001b[0mget_payload\u001b[0m\u001b[0;34m(\u001b[0m\u001b[0;34m)\u001b[0m\u001b[0;34m\u001b[0m\u001b[0;34m\u001b[0m\u001b[0m\n\u001b[0m",
      "\u001b[0;31mAttributeError\u001b[0m: 'str' object has no attribute 'get_payload'"
     ]
    }
   ],
   "source": [
    "payload.get_payload()"
   ]
  },
  {
   "cell_type": "code",
   "execution_count": 86,
   "metadata": {},
   "outputs": [],
   "source": [
    "if msg.is_multipart():\n",
    "    for part in msg.walk():\n",
    "        content_type = part.get_content_type()\n",
    "        filename = part.get_filename()\n",
    "        if filename:\n",
    "            # Нам плохого не надо, в письме может быть всякое барахло\n",
    "            with open(part.get_filename(), 'wb') as new_file:\n",
    "                new_file.write(part.get_payload(decode=True))"
   ]
  },
  {
   "cell_type": "code",
   "execution_count": null,
   "metadata": {},
   "outputs": [],
   "source": []
  }
 ],
 "metadata": {
  "kernelspec": {
   "display_name": "Python 3",
   "language": "python",
   "name": "python3"
  },
  "language_info": {
   "codemirror_mode": {
    "name": "ipython",
    "version": 3
   },
   "file_extension": ".py",
   "mimetype": "text/x-python",
   "name": "python",
   "nbconvert_exporter": "python",
   "pygments_lexer": "ipython3",
   "version": "3.7.4"
  },
  "varInspector": {
   "cols": {
    "lenName": 16,
    "lenType": 16,
    "lenVar": 40
   },
   "kernels_config": {
    "python": {
     "delete_cmd_postfix": "",
     "delete_cmd_prefix": "del ",
     "library": "var_list.py",
     "varRefreshCmd": "print(var_dic_list())"
    },
    "r": {
     "delete_cmd_postfix": ") ",
     "delete_cmd_prefix": "rm(",
     "library": "var_list.r",
     "varRefreshCmd": "cat(var_dic_list()) "
    }
   },
   "types_to_exclude": [
    "module",
    "function",
    "builtin_function_or_method",
    "instance",
    "_Feature"
   ],
   "window_display": false
  }
 },
 "nbformat": 4,
 "nbformat_minor": 2
}
