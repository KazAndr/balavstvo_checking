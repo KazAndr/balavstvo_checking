{
 "cells": [
  {
   "cell_type": "code",
   "execution_count": 1,
   "metadata": {},
   "outputs": [],
   "source": [
    "from imaplib import IMAP4_SSL\n",
    "import email\n",
    "\n",
    "import config"
   ]
  },
  {
   "cell_type": "code",
   "execution_count": 12,
   "metadata": {},
   "outputs": [],
   "source": [
    "YA_HOST = \"imap.yandex.ru\"\n",
    "YA_PORT = 993\n",
    "YA_USER = config.log\n",
    "YA_PASSWORD = config.ps\n",
    "SENDER = \"kaz.prao@bk.ru\""
   ]
  },
  {
   "cell_type": "code",
   "execution_count": 13,
   "metadata": {},
   "outputs": [
    {
     "data": {
      "text/plain": [
       "('OK', [b'LOGIN Completed.'])"
      ]
     },
     "execution_count": 13,
     "metadata": {},
     "output_type": "execute_result"
    }
   ],
   "source": [
    "connection = IMAP4_SSL(host=YA_HOST, port=YA_PORT)\n",
    "connection.login(user=YA_USER, password=YA_PASSWORD)"
   ]
  },
  {
   "cell_type": "code",
   "execution_count": 14,
   "metadata": {},
   "outputs": [
    {
     "data": {
      "text/plain": [
       "('OK',\n",
       " [b'(\\\\Marked \\\\HasNoChildren) \"|\" \"&BB4EMQRBBDUEQAQyBDAEQgQ+BEAEOARP-\"',\n",
       "  b'(\\\\Marked \\\\HasNoChildren) \"|\" \"&BB8EPgRCBDAEPwQ+BDI- &BBI-.&BBA-.\"',\n",
       "  b'(\\\\Marked \\\\HasNoChildren) \"|\" \"&BB8ESAQ4BEAEOgQ+BDI- &BBw-.&BCE-.\"',\n",
       "  b'(\\\\Marked \\\\HasNoChildren) \"|\" \"&BCEEMAQ8BD4ENARDBEAEPgQy- &BBI-.&BBA-.\"',\n",
       "  b'(\\\\Marked \\\\HasNoChildren) \"|\" \"&BCEEQwQ7BDUEOQQ8BDAEPQQ+BDIEMA- &BCE-.&BBA-.\"',\n",
       "  b'(\\\\Marked \\\\HasNoChildren) \"|\" AbstracsADS',\n",
       "  b'(\\\\Marked \\\\HasNoChildren \\\\Drafts) \"|\" Drafts',\n",
       "  b'(\\\\Marked \\\\NoInferiors) \"|\" INBOX',\n",
       "  b'(\\\\Unmarked \\\\HasNoChildren) \"|\" Outbox',\n",
       "  b'(\\\\Marked \\\\HasNoChildren \\\\Sent) \"|\" Sent',\n",
       "  b'(\\\\Marked \\\\HasNoChildren \\\\Junk) \"|\" Spam',\n",
       "  b'(\\\\Marked \\\\HasNoChildren \\\\Trash) \"|\" Trash',\n",
       "  b'(\\\\Marked \\\\HasNoChildren) \"|\" fromGIT',\n",
       "  b'(\\\\Marked \\\\HasNoChildren) \"|\" golang',\n",
       "  b'(\\\\Unmarked \\\\HasNoChildren) \"|\" hes_clasroon_tasks',\n",
       "  b'(\\\\Marked \\\\HasChildren) \"|\" unimportant',\n",
       "  b'(\\\\Marked \\\\HasNoChildren) \"|\" \"unimportant|&BBQEPgQ8AKAEQwRHBDUEPQRLBEU-\"',\n",
       "  b'(\\\\Unmarked \\\\HasNoChildren) \"|\" \"unimportant|Facebook\"',\n",
       "  b'(\\\\Unmarked \\\\HasNoChildren) \"|\" \"unimportant|MASTER\"',\n",
       "  b'(\\\\Marked \\\\HasNoChildren) \"|\" \"unimportant|VK\"',\n",
       "  b'(\\\\Unmarked \\\\HasNoChildren) \"|\" \"unimportant|phoenix1790@yandex.ru\"'])"
      ]
     },
     "execution_count": 14,
     "metadata": {},
     "output_type": "execute_result"
    }
   ],
   "source": [
    "connection.list()"
   ]
  },
  {
   "cell_type": "code",
   "execution_count": 15,
   "metadata": {},
   "outputs": [
    {
     "data": {
      "text/plain": [
       "('OK', [b'3'])"
      ]
     },
     "execution_count": 15,
     "metadata": {},
     "output_type": "execute_result"
    }
   ],
   "source": [
    "connection.select('hes_clasroon_tasks', )"
   ]
  },
  {
   "cell_type": "code",
   "execution_count": 42,
   "metadata": {},
   "outputs": [
    {
     "data": {
      "text/plain": [
       "('OK', [b'1'])"
      ]
     },
     "execution_count": 42,
     "metadata": {},
     "output_type": "execute_result"
    }
   ],
   "source": [
    "#connection.search(None, 'FROM', SENDER, 'UNSEEN')\n",
    "connection.search(None, 'UNSEEN')"
   ]
  },
  {
   "cell_type": "code",
   "execution_count": 43,
   "metadata": {},
   "outputs": [],
   "source": [
    "status, data = connection.fetch(b'1', '(RFC822)')"
   ]
  },
  {
   "cell_type": "code",
   "execution_count": 44,
   "metadata": {},
   "outputs": [],
   "source": [
    "msg = email.message_from_bytes(data[0][1], _class = email.message.EmailMessage)"
   ]
  },
  {
   "cell_type": "code",
   "execution_count": 45,
   "metadata": {},
   "outputs": [
    {
     "data": {
      "text/plain": [
       "'Subject_1'"
      ]
     },
     "execution_count": 45,
     "metadata": {},
     "output_type": "execute_result"
    }
   ],
   "source": [
    "msg['Subject']"
   ]
  },
  {
   "cell_type": "code",
   "execution_count": 46,
   "metadata": {},
   "outputs": [
    {
     "data": {
      "text/plain": [
       "'Sun, 24 Nov 2019 18:41:56 +0300'"
      ]
     },
     "execution_count": 46,
     "metadata": {},
     "output_type": "execute_result"
    }
   ],
   "source": [
    "msg['Date']"
   ]
  },
  {
   "cell_type": "code",
   "execution_count": 47,
   "metadata": {},
   "outputs": [
    {
     "data": {
      "text/plain": [
       "'kaz.prao@bk.ru'"
      ]
     },
     "execution_count": 47,
     "metadata": {},
     "output_type": "execute_result"
    }
   ],
   "source": [
    "msg['From'].split()[1][1:-1]"
   ]
  },
  {
   "cell_type": "code",
   "execution_count": 48,
   "metadata": {},
   "outputs": [
    {
     "data": {
      "text/plain": [
       "'phoenix1790@yandex.ru'"
      ]
     },
     "execution_count": 48,
     "metadata": {},
     "output_type": "execute_result"
    }
   ],
   "source": [
    "msg['To'].split()[1][1:-1]"
   ]
  },
  {
   "cell_type": "code",
   "execution_count": 49,
   "metadata": {},
   "outputs": [],
   "source": [
    "payload = msg.get_payload()[0]"
   ]
  },
  {
   "cell_type": "code",
   "execution_count": 50,
   "metadata": {},
   "outputs": [
    {
     "data": {
      "text/plain": [
       "'<div>Text, текст</div><div>\\xa0</div><div>--\\xa0</div><div>С уважением,</div><div>Казанцев Андрей</div><div>\\xa0</div>'"
      ]
     },
     "execution_count": 50,
     "metadata": {},
     "output_type": "execute_result"
    }
   ],
   "source": [
    "payload.get_payload()"
   ]
  },
  {
   "cell_type": "code",
   "execution_count": 41,
   "metadata": {},
   "outputs": [
    {
     "name": "stdout",
     "output_type": "stream",
     "text": [
      "No attraction\n"
     ]
    }
   ],
   "source": [
    "if msg.is_multipart():\n",
    "    for part in msg.walk():\n",
    "        content_type = part.get_content_type()\n",
    "        filename = part.get_filename()\n",
    "        if filename:\n",
    "            # Нам плохого не надо, в письме может быть всякое барахло\n",
    "            with open(part.get_filename(), 'wb') as new_file:\n",
    "                new_file.write(part.get_payload(decode=True))\n",
    "else:\n",
    "    print('No attraction')"
   ]
  },
  {
   "cell_type": "code",
   "execution_count": 51,
   "metadata": {},
   "outputs": [
    {
     "data": {
      "text/plain": [
       "True"
      ]
     },
     "execution_count": 51,
     "metadata": {},
     "output_type": "execute_result"
    }
   ],
   "source": [
    "msg.is_multipart()"
   ]
  },
  {
   "cell_type": "code",
   "execution_count": 56,
   "metadata": {},
   "outputs": [
    {
     "name": "stdout",
     "output_type": "stream",
     "text": [
      "None\n",
      "None\n",
      "tst.py\n"
     ]
    }
   ],
   "source": [
    "for part in msg.walk():\n",
    "    print(part.get_filename())"
   ]
  },
  {
   "cell_type": "code",
   "execution_count": null,
   "metadata": {},
   "outputs": [],
   "source": []
  }
 ],
 "metadata": {
  "kernelspec": {
   "display_name": "Python 3",
   "language": "python",
   "name": "python3"
  },
  "language_info": {
   "codemirror_mode": {
    "name": "ipython",
    "version": 3
   },
   "file_extension": ".py",
   "mimetype": "text/x-python",
   "name": "python",
   "nbconvert_exporter": "python",
   "pygments_lexer": "ipython3",
   "version": "3.7.4"
  },
  "varInspector": {
   "cols": {
    "lenName": 16,
    "lenType": 16,
    "lenVar": 40
   },
   "kernels_config": {
    "python": {
     "delete_cmd_postfix": "",
     "delete_cmd_prefix": "del ",
     "library": "var_list.py",
     "varRefreshCmd": "print(var_dic_list())"
    },
    "r": {
     "delete_cmd_postfix": ") ",
     "delete_cmd_prefix": "rm(",
     "library": "var_list.r",
     "varRefreshCmd": "cat(var_dic_list()) "
    }
   },
   "types_to_exclude": [
    "module",
    "function",
    "builtin_function_or_method",
    "instance",
    "_Feature"
   ],
   "window_display": false
  }
 },
 "nbformat": 4,
 "nbformat_minor": 2
}
