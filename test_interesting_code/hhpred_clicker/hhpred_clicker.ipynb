{
 "cells": [
  {
   "cell_type": "code",
   "execution_count": 15,
   "metadata": {},
   "outputs": [],
   "source": [
    "import time\n",
    "import pyautogui\n",
    "import pyperclip\n",
    "\n",
    "import pandas as pd"
   ]
  },
  {
   "cell_type": "code",
   "execution_count": 38,
   "metadata": {},
   "outputs": [],
   "source": [
    "def submit(message):\n",
    "    time.sleep(0.5)\n",
    "    pyautogui.doubleClick(TEXTBOX)\n",
    "    time.sleep(1)\n",
    "    pyautogui.hotkey('ctrl', 'a')\n",
    "    pyautogui.press('delete')\n",
    "    pyperclip.copy(message) \n",
    "    time.sleep(0.5)\n",
    "    pyautogui.hotkey('ctrl', 'v')\n",
    "    time.sleep(1.5)\n",
    "    pyautogui.press('\\t')\n",
    "    pyautogui.press('end')\n",
    "    time.sleep(0.3)\n",
    "    pyautogui.click(SUBMIT)\n",
    "    time.sleep(3)\n",
    "    pyautogui.press('home')\n",
    "    time.sleep(0.7)\n",
    "    pyautogui.click(INPUT)\n",
    "    \n",
    "    return None\n",
    "\n",
    "def downloads():\n",
    "    time.sleep(0.5)\n",
    "    pyautogui.click(ELEMENT)\n",
    "    time.sleep(2)\n",
    "    pyautogui.click(DOWNLOAD)\n",
    "    time.sleep(5)\n",
    "    pyautogui.click(CLOSE)\n",
    "    time.sleep(0.5)"
   ]
  },
  {
   "cell_type": "code",
   "execution_count": 37,
   "metadata": {},
   "outputs": [],
   "source": [
    "TEXTBOX = (733, 515)\n",
    "INPUT = (366, 364)\n",
    "SUBMIT = (1196, 585)\n",
    "ELEMENT = (174, 430)\n",
    "DOWNLOAD = (853, 411)\n",
    "CLOSE = (283, 430)"
   ]
  },
  {
   "cell_type": "code",
   "execution_count": 27,
   "metadata": {},
   "outputs": [],
   "source": [
    "table = pd.read_excel('CP012104_1_-_RAST.xls', sheet_name='Sheet1')"
   ]
  },
  {
   "cell_type": "code",
   "execution_count": 28,
   "metadata": {},
   "outputs": [],
   "source": [
    "# Отправка данных на сервер\n",
    "user_answer = pyautogui.confirm('Run the clicker for uploads?')\n",
    "if user_answer == 'OK':\n",
    "    submit('Astrophysics is the best')\n",
    "    for item in table.aa_sequence:\n",
    "        submit(item)"
   ]
  },
  {
   "cell_type": "code",
   "execution_count": 39,
   "metadata": {},
   "outputs": [],
   "source": [
    "element_number = pyautogui.prompt('How many element are for downloads?')\n",
    "element_number = int(element_number)\n",
    "user_answer = pyautogui.confirm('Run the clicker for downloads?')\n",
    "for i in range(element_number):\n",
    "    downloads()"
   ]
  },
  {
   "cell_type": "code",
   "execution_count": 36,
   "metadata": {},
   "outputs": [
    {
     "data": {
      "text/plain": [
       "'72'"
      ]
     },
     "execution_count": 36,
     "metadata": {},
     "output_type": "execute_result"
    }
   ],
   "source": []
  },
  {
   "cell_type": "code",
   "execution_count": null,
   "metadata": {},
   "outputs": [],
   "source": []
  }
 ],
 "metadata": {
  "kernelspec": {
   "display_name": "Python 3",
   "language": "python",
   "name": "python3"
  },
  "language_info": {
   "codemirror_mode": {
    "name": "ipython",
    "version": 3
   },
   "file_extension": ".py",
   "mimetype": "text/x-python",
   "name": "python",
   "nbconvert_exporter": "python",
   "pygments_lexer": "ipython3",
   "version": "3.7.4"
  }
 },
 "nbformat": 4,
 "nbformat_minor": 4
}
