{
 "cells": [
  {
   "cell_type": "code",
   "execution_count": 9,
   "metadata": {},
   "outputs": [],
   "source": [
    "\n",
    "\n",
    "import pandas as pd\n",
    "\n",
    "from selenium import webdriver\n",
    "from selenium.webdriver.common.by import By\n",
    "from selenium.webdriver.support.ui import WebDriverWait\n",
    "from selenium.webdriver.support import expected_conditions as EC\n",
    "from selenium.common.exceptions import TimeoutException"
   ]
  },
  {
   "cell_type": "code",
   "execution_count": 61,
   "metadata": {},
   "outputs": [],
   "source": [
    "def parsing_dscTable(table):\n",
    "    msg = []\n",
    "    if len(table) == 0:\n",
    "        msg.append('-')\n",
    "    else:\n",
    "        table_cut = table[:20][\n",
    "            (~table.Description.str.contains('hypothetical protein', regex=False))\n",
    "        ]\n",
    "\n",
    "        if len(table_cut) == 0:\n",
    "            msg.append('hp')\n",
    "        else:\n",
    "            for idx, row in table.iterrows():\n",
    "                if (\n",
    "                    (('hypothetical protein' not in row['Description'])\n",
    "                     and (\"conserved hypothetical protein\" not in row['Description'])\n",
    "                     and (\"unnamed protein product\" not in row['Description'])\n",
    "                    ) \n",
    "                    and len(msg) < 3):\n",
    "\n",
    "                    msg.append(f\"{row['Description']};{row['E value']}\")\n",
    "                    \n",
    "    return msg"
   ]
  },
  {
   "cell_type": "code",
   "execution_count": 10,
   "metadata": {},
   "outputs": [],
   "source": [
    "table = pd.read_excel('CP012104_1_-_RAST.xls', sheet_name='Sheet1')"
   ]
  },
  {
   "cell_type": "code",
   "execution_count": 55,
   "metadata": {},
   "outputs": [
    {
     "name": "stdout",
     "output_type": "stream",
     "text": [
      "45\n"
     ]
    }
   ],
   "source": [
    "driver = webdriver.Chrome()\n",
    "driver.wait = WebDriverWait(driver, 5)\n",
    "driver.get(f\"https://blast.ncbi.nlm.nih.gov/\"\n",
    "           f\"Blast.cgi?PROGRAM=blastp&PAGE_TYPE=BlastSearch&LINK_LOC=blasthome\")\n",
    "\n",
    "box = driver.wait.until(EC.presence_of_element_located(\n",
    "            (By.NAME, \"QUERY\")))\n",
    "button = driver.wait.until(EC.element_to_be_clickable(\n",
    "            (By.CLASS_NAME, \"blastbutton\")))\n",
    "organism = driver.wait.until(EC.presence_of_element_located(\n",
    "            (By.NAME, \"EQ_MENU\")))\n",
    "add_options = driver.wait.until(EC.element_to_be_clickable(\n",
    "            (By.XPATH, '//*[@id=\"algPar\"]/span[2]')))\n",
    "psi_blast = driver.wait.until(EC.element_to_be_clickable(\n",
    "            (By.XPATH, '//*[@id=\"psiBlast\"]')))\n",
    "\n",
    "box.send_keys(table.aa_sequence[1])\n",
    "organism.send_keys(f'Viruses (taxid:10239)')\n",
    "psi_blast.click()\n",
    "#add_options.click()\n",
    "button.click()\n",
    "input() # !!!Тут надо подумать как грамотно сделать паузу!!!\n",
    "table_result = driver.wait.until(EC.presence_of_element_located(\n",
    "            (By.XPATH, '//*[@id=\"dscTable\"]')))\n",
    "\n",
    "html_table = table_result.get_attribute('outerHTML')\n",
    "table_results = pd.read_html(html_table)[0]\n",
    "table_results = table_results[table_results['E value'] < 0.001]"
   ]
  },
  {
   "cell_type": "code",
   "execution_count": 56,
   "metadata": {},
   "outputs": [],
   "source": []
  },
  {
   "cell_type": "code",
   "execution_count": 57,
   "metadata": {},
   "outputs": [],
   "source": []
  },
  {
   "cell_type": "code",
   "execution_count": 58,
   "metadata": {},
   "outputs": [
    {
     "data": {
      "text/html": [
       "<div>\n",
       "<style scoped>\n",
       "    .dataframe tbody tr th:only-of-type {\n",
       "        vertical-align: middle;\n",
       "    }\n",
       "\n",
       "    .dataframe tbody tr th {\n",
       "        vertical-align: top;\n",
       "    }\n",
       "\n",
       "    .dataframe thead th {\n",
       "        text-align: right;\n",
       "    }\n",
       "</style>\n",
       "<table border=\"1\" class=\"dataframe\">\n",
       "  <thead>\n",
       "    <tr style=\"text-align: right;\">\n",
       "      <th></th>\n",
       "      <th>Select for downloading or viewing reports</th>\n",
       "      <th>Description</th>\n",
       "      <th>Max score</th>\n",
       "      <th>Total score</th>\n",
       "      <th>Query cover</th>\n",
       "      <th>E value</th>\n",
       "      <th>Per. Ident</th>\n",
       "      <th>Accession</th>\n",
       "      <th>Select for PSI blast</th>\n",
       "      <th>Used to build PSSM</th>\n",
       "      <th>Newly added</th>\n",
       "    </tr>\n",
       "  </thead>\n",
       "  <tbody>\n",
       "  </tbody>\n",
       "</table>\n",
       "</div>"
      ],
      "text/plain": [
       "Empty DataFrame\n",
       "Columns: [Select for downloading or viewing reports, Description, Max score, Total score, Query cover, E value, Per. Ident, Accession, Select for PSI blast, Used to build PSSM, Newly added]\n",
       "Index: []"
      ]
     },
     "execution_count": 58,
     "metadata": {},
     "output_type": "execute_result"
    }
   ],
   "source": []
  },
  {
   "cell_type": "code",
   "execution_count": 59,
   "metadata": {},
   "outputs": [],
   "source": []
  },
  {
   "cell_type": "code",
   "execution_count": 60,
   "metadata": {},
   "outputs": [
    {
     "data": {
      "text/plain": [
       "['-']"
      ]
     },
     "execution_count": 60,
     "metadata": {},
     "output_type": "execute_result"
    }
   ],
   "source": [
    "msg"
   ]
  },
  {
   "cell_type": "code",
   "execution_count": null,
   "metadata": {},
   "outputs": [],
   "source": []
  }
 ],
 "metadata": {
  "kernelspec": {
   "display_name": "Python 3",
   "language": "python",
   "name": "python3"
  },
  "language_info": {
   "codemirror_mode": {
    "name": "ipython",
    "version": 3
   },
   "file_extension": ".py",
   "mimetype": "text/x-python",
   "name": "python",
   "nbconvert_exporter": "python",
   "pygments_lexer": "ipython3",
   "version": "3.7.4"
  }
 },
 "nbformat": 4,
 "nbformat_minor": 4
}
