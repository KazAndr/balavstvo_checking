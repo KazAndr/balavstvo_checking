{
 "cells": [
  {
   "cell_type": "code",
   "execution_count": 9,
   "metadata": {},
   "outputs": [],
   "source": [
    "\n",
    "\n",
    "import pandas as pd\n",
    "\n",
    "from selenium import webdriver\n",
    "from selenium.webdriver.common.by import By\n",
    "from selenium.webdriver.support.ui import WebDriverWait\n",
    "from selenium.webdriver.support import expected_conditions as EC\n",
    "from selenium.common.exceptions import TimeoutException"
   ]
  },
  {
   "cell_type": "code",
   "execution_count": 10,
   "metadata": {},
   "outputs": [],
   "source": [
    "table = pd.read_excel('CP012104_1_-_RAST.xls', sheet_name='Sheet1')"
   ]
  },
  {
   "cell_type": "code",
   "execution_count": 19,
   "metadata": {},
   "outputs": [
    {
     "name": "stdout",
     "output_type": "stream",
     "text": [
      "456\n"
     ]
    }
   ],
   "source": [
    "driver = webdriver.Chrome()\n",
    "driver.wait = WebDriverWait(driver, 5)\n",
    "driver.get(f\"https://blast.ncbi.nlm.nih.gov/\"\n",
    "           f\"Blast.cgi?PROGRAM=blastp&PAGE_TYPE=BlastSearch&LINK_LOC=blasthome\")\n",
    "\n",
    "box = driver.wait.until(EC.presence_of_element_located(\n",
    "            (By.NAME, \"QUERY\")))\n",
    "button = driver.wait.until(EC.element_to_be_clickable(\n",
    "            (By.CLASS_NAME, \"blastbutton\")))\n",
    "organism = driver.wait.until(EC.presence_of_element_located(\n",
    "            (By.NAME, \"EQ_MENU\")))\n",
    "add_options = driver.wait.until(EC.element_to_be_clickable(\n",
    "            (By.XPATH, '//*[@id=\"algPar\"]/span[2]')))\n",
    "psi_blast = driver.wait.until(EC.element_to_be_clickable(\n",
    "            (By.XPATH, '//*[@id=\"psiBlast\"]')))\n",
    "\n",
    "box.send_keys(table.aa_sequence[0])\n",
    "organism.send_keys(f'Viruses (taxid:10239)')\n",
    "psi_blast.click()\n",
    "#add_options.click()\n",
    "button.click()\n",
    "input() # !!!Тут надо подумать как грамотно сделать паузу!!!\n",
    "table_result = driver.wait.until(EC.presence_of_element_located(\n",
    "            (By.XPATH, '//*[@id=\"dscTable\"]')))"
   ]
  },
  {
   "cell_type": "code",
   "execution_count": 26,
   "metadata": {},
   "outputs": [],
   "source": [
    "html_table = table_result.get_attribute('outerHTML')"
   ]
  },
  {
   "cell_type": "code",
   "execution_count": 27,
   "metadata": {},
   "outputs": [
    {
     "data": {
      "text/plain": [
       "[  Select for downloading or viewing reports  \\\n",
       " 0           1Select seq ref|YP_009208369.1|   \n",
       " 1           2Select seq ref|YP_004508393.1|   \n",
       " 2           3Select seq ref|YP_009214143.1|   \n",
       " 3               4Select seq emb|VUE37435.1|   \n",
       " 4           5Select seq ref|YP_009797117.1|   \n",
       " 5              6Select seq ref|YP_398628.1|   \n",
       " 6                7Select seq gb|EES90338.1|   \n",
       " \n",
       "                                          Description  Max score  Total score  \\\n",
       " 0  conserved protein of unknown function [Clostri...       63.9         63.9   \n",
       " 1  hypothetical protein phiCD38-2_gp15 [Clostridi...       63.9         63.9   \n",
       " 2  conserved protein of unknown function [Clostri...       62.4         62.4   \n",
       " 3  hypothetical protein with TM2 domain [Roseburi...       56.6         56.6   \n",
       " 4  hypothetical protein [Faecalibacterium phage F...       51.6         51.6   \n",
       " 5  hypothetical protein CST198 [Clostridium phage...       47.8         47.8   \n",
       " 6  conserved hypothetical protein [Clostridium ph...       47.8         47.8   \n",
       " \n",
       "   Query cover       E value Per. Ident  \\\n",
       " 0         96%  1.000000e-12     55.17%   \n",
       " 1         96%  2.000000e-12     55.17%   \n",
       " 2         96%  6.000000e-12     55.17%   \n",
       " 3         93%  6.000000e-10     59.65%   \n",
       " 4         93%  4.000000e-08     51.79%   \n",
       " 5         98%  1.000000e-06     45.76%   \n",
       " 6         98%  1.000000e-06     45.76%   \n",
       " \n",
       "                                            Accession  \\\n",
       " 0  YP_009208369.1(scored below threshold on previ...   \n",
       " 1  YP_004508393.1(scored below threshold on previ...   \n",
       " 2  YP_009214143.1(scored below threshold on previ...   \n",
       " 3  VUE37435.1(scored below threshold on previous ...   \n",
       " 4  YP_009797117.1(scored below threshold on previ...   \n",
       " 5  YP_398628.1(scored below threshold on previous...   \n",
       " 6  EES90338.1(scored below threshold on previous ...   \n",
       " \n",
       "                       Select for PSI blast  Used to build PSSM  Newly added  \n",
       " 0  Select seq YP_009208369.1 for PSI blast                 NaN          NaN  \n",
       " 1  Select seq YP_004508393.1 for PSI blast                 NaN          NaN  \n",
       " 2  Select seq YP_009214143.1 for PSI blast                 NaN          NaN  \n",
       " 3      Select seq VUE37435.1 for PSI blast                 NaN          NaN  \n",
       " 4  Select seq YP_009797117.1 for PSI blast                 NaN          NaN  \n",
       " 5     Select seq YP_398628.1 for PSI blast                 NaN          NaN  \n",
       " 6      Select seq EES90338.1 for PSI blast                 NaN          NaN  ]"
      ]
     },
     "execution_count": 27,
     "metadata": {},
     "output_type": "execute_result"
    }
   ],
   "source": [
    "pd.read_html(html_table)"
   ]
  },
  {
   "cell_type": "code",
   "execution_count": null,
   "metadata": {},
   "outputs": [],
   "source": []
  }
 ],
 "metadata": {
  "kernelspec": {
   "display_name": "Python 3",
   "language": "python",
   "name": "python3"
  },
  "language_info": {
   "codemirror_mode": {
    "name": "ipython",
    "version": 3
   },
   "file_extension": ".py",
   "mimetype": "text/x-python",
   "name": "python",
   "nbconvert_exporter": "python",
   "pygments_lexer": "ipython3",
   "version": "3.7.4"
  }
 },
 "nbformat": 4,
 "nbformat_minor": 4
}
