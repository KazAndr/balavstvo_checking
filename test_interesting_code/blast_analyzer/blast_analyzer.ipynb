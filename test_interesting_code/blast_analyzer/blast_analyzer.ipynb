{
 "cells": [
  {
   "cell_type": "code",
   "execution_count": 9,
   "metadata": {},
   "outputs": [],
   "source": [
    "\n",
    "\n",
    "import pandas as pd\n",
    "\n",
    "from selenium import webdriver\n",
    "from selenium.webdriver.common.by import By\n",
    "from selenium.webdriver.support.ui import WebDriverWait\n",
    "from selenium.webdriver.support import expected_conditions as EC\n",
    "from selenium.common.exceptions import TimeoutException"
   ]
  },
  {
   "cell_type": "code",
   "execution_count": 61,
   "metadata": {},
   "outputs": [],
   "source": [
    "def parsing_dscTable(table):\n",
    "    msg = []\n",
    "    if len(table) == 0:\n",
    "        msg.append('-')\n",
    "    else:\n",
    "        table_cut = table[:20][\n",
    "            (~table.Description.str.contains('hypothetical protein', regex=False))\n",
    "        ]\n",
    "\n",
    "        if len(table_cut) == 0:\n",
    "            msg.append('hp')\n",
    "        else:\n",
    "            for idx, row in table.iterrows():\n",
    "                if (\n",
    "                    (('hypothetical protein' not in row['Description'])\n",
    "                     and (\"conserved hypothetical protein\" not in row['Description'])\n",
    "                     and (\"unnamed protein product\" not in row['Description'])\n",
    "                    ) \n",
    "                    and len(msg) < 3):\n",
    "\n",
    "                    msg.append(f\"{row['Description']};{row['E value']}\")\n",
    "                    \n",
    "    return msg\n",
    "\n",
    "def parsing_dscTable(table):\n",
    "    msg = []\n",
    "    if len(table_results) == 0:\n",
    "        msg.append('-')\n",
    "    else:\n",
    "        for idx, row in table_results.iterrows():\n",
    "            if len(msg) < 3:\n",
    "                msg.append(f'{row[1]};{row[5]}')\n",
    "    \n",
    "    return msg"
   ]
  },
  {
   "cell_type": "code",
   "execution_count": 10,
   "metadata": {},
   "outputs": [],
   "source": [
    "table = pd.read_excel('CP012104_1_-_RAST.xls', sheet_name='Sheet1')"
   ]
  },
  {
   "cell_type": "code",
   "execution_count": 81,
   "metadata": {},
   "outputs": [
    {
     "name": "stdout",
     "output_type": "stream",
     "text": [
      "456\n"
     ]
    },
    {
     "data": {
      "text/plain": [
       "'456'"
      ]
     },
     "execution_count": 81,
     "metadata": {},
     "output_type": "execute_result"
    }
   ],
   "source": [
    "driver = webdriver.Chrome()\n",
    "driver.wait = WebDriverWait(driver, 5)\n",
    "driver.get(f\"https://blast.ncbi.nlm.nih.gov/\"\n",
    "           f\"Blast.cgi?PROGRAM=blastp&PAGE_TYPE=BlastSearch&LINK_LOC=blasthome\")\n",
    "\n",
    "box = driver.wait.until(EC.presence_of_element_located(\n",
    "            (By.NAME, \"QUERY\")))\n",
    "button = driver.wait.until(EC.element_to_be_clickable(\n",
    "            (By.CLASS_NAME, \"blastbutton\")))\n",
    "organism = driver.wait.until(EC.presence_of_element_located(\n",
    "            (By.NAME, \"EQ_MENU\")))\n",
    "add_options = driver.wait.until(EC.element_to_be_clickable(\n",
    "            (By.XPATH, '//*[@id=\"algPar\"]/span[2]')))\n",
    "psi_blast = driver.wait.until(EC.element_to_be_clickable(\n",
    "            (By.XPATH, '//*[@id=\"psiBlast\"]')))\n",
    "\n",
    "box.send_keys(table.aa_sequence[61])\n",
    "organism.send_keys(f'Viruses (taxid:10239)')\n",
    "psi_blast.click()\n",
    "#add_options.click()\n",
    "button.click()\n",
    "input() # !!!Тут надо подумать как грамотно сделать паузу!!!\n",
    "#table_result = driver.wait.until(EC.presence_of_element_located(\n",
    "            #(By.XPATH, '//*[@id=\"dscTable\"]')))\n",
    "\n",
    "#html_table = table_result.get_attribute('outerHTML')\n",
    "#table_results = pd.read_html(html_table)[0]\n",
    "#table_results = table_results[table_results['E value'] < 0.001]\n",
    "\n",
    "\n"
   ]
  },
  {
   "cell_type": "code",
   "execution_count": 83,
   "metadata": {},
   "outputs": [],
   "source": [
    "graphic_summary = driver.wait.until(EC.element_to_be_clickable(\n",
    "            (By.XPATH, '//*[@id=\"btnGrph\"]')))\n",
    "graphic_summary.click()"
   ]
  },
  {
   "cell_type": "code",
   "execution_count": 84,
   "metadata": {},
   "outputs": [],
   "source": [
    "cddInfo = driver.wait.until(EC.element_to_be_clickable(\n",
    "            (By.XPATH, '//*[@id=\"cddInfo\"]/a/img')))\n",
    "cddInfo.click()"
   ]
  },
  {
   "cell_type": "code",
   "execution_count": 110,
   "metadata": {},
   "outputs": [],
   "source": [
    "table_cddInfo = driver.wait.until(EC.presence_of_element_located(\n",
    "            (By.XPATH, '//*[@id=\"std\"]')))\n",
    "html_table = table_cddInfo.get_attribute('outerHTML')\n",
    "table_results = pd.read_html(html_table)[0]\n",
    "# Удаление всего лишнего из таблицы\n",
    "table_results = table_results.iloc[1:, 1:].dropna()[::2]\n",
    "# Оставляем только данные где E-value < 0.001\n",
    "table_results['E_value_float'] = table_results[5].astype(float)\n",
    "table_results = table_results[table_results['E_value_float'] < 0.001]\n",
    "\n"
   ]
  },
  {
   "cell_type": "code",
   "execution_count": 109,
   "metadata": {},
   "outputs": [
    {
     "data": {
      "text/html": [
       "<div>\n",
       "<style scoped>\n",
       "    .dataframe tbody tr th:only-of-type {\n",
       "        vertical-align: middle;\n",
       "    }\n",
       "\n",
       "    .dataframe tbody tr th {\n",
       "        vertical-align: top;\n",
       "    }\n",
       "\n",
       "    .dataframe thead th {\n",
       "        text-align: right;\n",
       "    }\n",
       "</style>\n",
       "<table border=\"1\" class=\"dataframe\">\n",
       "  <thead>\n",
       "    <tr style=\"text-align: right;\">\n",
       "      <th></th>\n",
       "      <th>1</th>\n",
       "      <th>2</th>\n",
       "      <th>3</th>\n",
       "      <th>4</th>\n",
       "      <th>5</th>\n",
       "      <th>E_value_float</th>\n",
       "    </tr>\n",
       "  </thead>\n",
       "  <tbody>\n",
       "    <tr>\n",
       "      <th>1</th>\n",
       "      <td>Sipho_tail</td>\n",
       "      <td>pfam05709</td>\n",
       "      <td>Phage tail protein; This family consists of se...</td>\n",
       "      <td>17-268</td>\n",
       "      <td>3.29e-24</td>\n",
       "      <td>3.290000e-24</td>\n",
       "    </tr>\n",
       "    <tr>\n",
       "      <th>7</th>\n",
       "      <td>YomH</td>\n",
       "      <td>COG4722</td>\n",
       "      <td>Phage-related protein [Mobilome: prophages, tr...</td>\n",
       "      <td>1-264</td>\n",
       "      <td>1.39e-09</td>\n",
       "      <td>1.390000e-09</td>\n",
       "    </tr>\n",
       "    <tr>\n",
       "      <th>13</th>\n",
       "      <td>phi3626_gp14_N</td>\n",
       "      <td>TIGR01633</td>\n",
       "      <td>putative phage tail component, N-terminal doma...</td>\n",
       "      <td>35-132</td>\n",
       "      <td>2.34e-06</td>\n",
       "      <td>2.340000e-06</td>\n",
       "    </tr>\n",
       "  </tbody>\n",
       "</table>\n",
       "</div>"
      ],
      "text/plain": [
       "                 1          2  \\\n",
       "1       Sipho_tail  pfam05709   \n",
       "7             YomH    COG4722   \n",
       "13  phi3626_gp14_N  TIGR01633   \n",
       "\n",
       "                                                    3       4         5  \\\n",
       "1   Phage tail protein; This family consists of se...  17-268  3.29e-24   \n",
       "7   Phage-related protein [Mobilome: prophages, tr...   1-264  1.39e-09   \n",
       "13  putative phage tail component, N-terminal doma...  35-132  2.34e-06   \n",
       "\n",
       "    E_value_float  \n",
       "1    3.290000e-24  \n",
       "7    1.390000e-09  \n",
       "13   2.340000e-06  "
      ]
     },
     "execution_count": 109,
     "metadata": {},
     "output_type": "execute_result"
    }
   ],
   "source": [
    "table_results"
   ]
  },
  {
   "cell_type": "code",
   "execution_count": 111,
   "metadata": {},
   "outputs": [
    {
     "data": {
      "text/plain": [
       "['Sipho_tail;3.29e-24', 'YomH;1.39e-09', 'phi3626_gp14_N;2.34e-06']"
      ]
     },
     "execution_count": 111,
     "metadata": {},
     "output_type": "execute_result"
    }
   ],
   "source": [
    "msg"
   ]
  },
  {
   "cell_type": "code",
   "execution_count": 86,
   "metadata": {},
   "outputs": [
    {
     "data": {
      "text/plain": [
       "['CDwindow-39C2A9E1A726CF15B31D88B8B03B9676',\n",
       " 'CDwindow-3832C108FCA41818F265454200ED3A5D']"
      ]
     },
     "execution_count": 86,
     "metadata": {},
     "output_type": "execute_result"
    }
   ],
   "source": [
    "# открытые табы\n",
    "driver.window_handles"
   ]
  },
  {
   "cell_type": "code",
   "execution_count": 87,
   "metadata": {},
   "outputs": [
    {
     "name": "stderr",
     "output_type": "stream",
     "text": [
      "/home/andr/.pyenv/versions/3.7.4/lib/python3.7/site-packages/ipykernel_launcher.py:2: DeprecationWarning: use driver.switch_to.window instead\n",
      "  \n"
     ]
    }
   ],
   "source": [
    "# перемещание по табам\n",
    "driver.switch_to_window(driver.window_handles[1])"
   ]
  },
  {
   "cell_type": "code",
   "execution_count": 80,
   "metadata": {},
   "outputs": [
    {
     "data": {
      "text/plain": [
       "'<table id=\"std\" class=\"disptbl\">\\n\\t\\t\\t\\t\\t\\t\\t\\t\\t\\t<tbody><tr class=\"ttl\">\\n\\t\\t\\t\\t\\t\\t\\t\\t\\t\\t\\t<td class=\"mswitch\" onclick=\"hMasterSwitchDetail(this);\"><div></div></td>\\n\\t\\t\\t\\t\\t\\t\\t\\t\\t\\t\\t<td>Name</td>\\n\\t\\t\\t\\t\\t\\t\\t\\t\\t\\t\\t<td>Accession</td>\\n\\t\\t\\t\\t\\t\\t\\t\\t\\t\\t\\t<td class=\"descr\">Description</td>\\n\\t\\t\\t\\t\\t\\t\\t\\t\\t\\t\\t<td>Interval</td>\\n\\t\\t\\t\\t\\t\\t\\t\\t\\t\\t\\t<td>E-value</td>\\n\\t\\t\\t\\t\\t\\t\\t\\t\\t\\t</tr>\\n\\t\\t\\t\\t\\t\\t\\t\\t\\t\\t<tr class=\"entry\" id=\"std_0_0\"><td class=\"switch\" onclick=\"hSwitchDetail(this);\"><div></div></td><td>DUF4236</td>\\n<td><a href=\"//www.ncbi.nlm.nih.gov/Structure/cdd/cddsrv.cgi?ascbin=8&amp;maxaln=10&amp;seltype=2&amp;uid=pfam14020\">pfam14020</a></td>\\n<td class=\"descr\"><div>Protein of unknown function (DUF4236); This family of proteins is functionally uncharacterized. ...</div></td>\\n<td class=\"itvl\">3-55</td>\\n<td class=\"eval\">4.55e-19</td>\\n</tr>\\n<tr class=\"detail backstage\"><td class=\"switch\"></td>\\n<td colspan=\"5\"><p>Protein of unknown function (DUF4236); This family of proteins is functionally uncharacterized. This family of proteins is found in bacteria and viruses. Proteins in this family are typically between 69 and 402 amino acids in length.</p><br><div><b>Pssm-ID: </b>379423&nbsp;&nbsp;<b>Cd Length:&nbsp;</b>54&nbsp;&nbsp;<b>Bit Score: </b>71.40&nbsp;&nbsp;<b>E-value: </b>4.55e-19<br><table>\\n<tbody><tr><td><pre><font color=\"#700777\">                         10        20        30        40        50</font>\\n<font color=\"#700777\">                 ....*....|....*....|....*....|....*....|....*....|...</font>\\n<a href=\"https://www.ncbi.nlm.nih.gov/entrez/query.fcgi?cmd=Search&amp;doptcmdl=GenPept&amp;db=Protein&amp;term=Query_20464\">Query_20464</a>   <font color=\"#229922\"> 3 </font><font color=\"#FF4466\">F</font><font color=\"#2233CC\">K</font><font color=\"#FF4466\">FRKSIKI</font><font color=\"#2233CC\">A</font><font color=\"#FF4466\">PGVR</font><font color=\"#2233CC\">M</font><font color=\"#FF4466\">N</font><font color=\"#2233CC\">V</font><font color=\"#FF4466\">SK</font><font color=\"#2233CC\">K</font><font color=\"#FF4466\">G</font><font color=\"#2233CC\">VG</font><font color=\"#FF4466\">VS</font><font color=\"#2233CC\">A</font><font color=\"#FF4466\">GV</font><font color=\"#2233CC\">K</font><font color=\"#FF4466\">GARV</font><font color=\"#2233CC\">ST</font><font color=\"#FF4466\">GP</font><font color=\"#2233CC\">S</font><font color=\"#FF4466\">GT</font><font color=\"#2233CC\">R</font><font color=\"#FF4466\">IT</font><font color=\"#2233CC\">TSV</font><font color=\"#FF4466\">PGTGLSY</font> <font color=\"#229922\">55</font>\\n<a href=\"https://www.ncbi.nlm.nih.gov/entrez/query.fcgi?cmd=Search&amp;doptcmdl=GenPept&amp;db=cdd&amp;term=pfam14020\">Cdd:pfam14020</a> <font color=\"#229922\"> 1 </font><font color=\"#FF4466\">F</font><font color=\"#2233CC\">R</font><font color=\"#FF4466\">FRKSIKI</font><font color=\"#2233CC\">G</font><font color=\"#FF4466\">PGVR</font><font color=\"#2233CC\">L</font><font color=\"#FF4466\">N</font><font color=\"#2233CC\">L</font><font color=\"#FF4466\">SK</font><font color=\"#2233CC\">S</font><font color=\"#FF4466\">G</font><font color=\"#2233CC\">IS</font><font color=\"#FF4466\">VS</font><font color=\"#2233CC\">V</font><font color=\"#FF4466\">GV</font><font color=\"#2233CC\">R</font><font color=\"#FF4466\">GARV</font><font color=\"#2233CC\">TV</font><font color=\"#FF4466\">GP</font><font color=\"#2233CC\">R</font><font color=\"#FF4466\">GT</font><font color=\"#2233CC\">Y</font><font color=\"#FF4466\">IT</font><font color=\"#2233CC\">VGI</font><font color=\"#FF4466\">PGTGLSY</font> <font color=\"#229922\">53</font>\\n</pre></td></tr>\\n</tbody></table>\\n</div></td>\\n</tr>\\n\\n\\t\\t\\t\\t\\t\\t\\t\\t\\t\\t<tr class=\"ttl\">\\n\\t\\t\\t\\t\\t\\t\\t\\t\\t\\t\\t<td colspan=\"6\">&nbsp;</td>\\n\\t\\t\\t\\t\\t\\t\\t\\t\\t\\t</tr>\\n\\t\\t\\t\\t\\t\\t\\t\\t\\t</tbody></table>'"
      ]
     },
     "execution_count": 80,
     "metadata": {},
     "output_type": "execute_result"
    }
   ],
   "source": [
    "html_table"
   ]
  },
  {
   "cell_type": "code",
   "execution_count": null,
   "metadata": {},
   "outputs": [],
   "source": []
  }
 ],
 "metadata": {
  "kernelspec": {
   "display_name": "Python 3",
   "language": "python",
   "name": "python3"
  },
  "language_info": {
   "codemirror_mode": {
    "name": "ipython",
    "version": 3
   },
   "file_extension": ".py",
   "mimetype": "text/x-python",
   "name": "python",
   "nbconvert_exporter": "python",
   "pygments_lexer": "ipython3",
   "version": "3.7.4"
  }
 },
 "nbformat": 4,
 "nbformat_minor": 4
}
