{
 "cells": [
  {
   "cell_type": "markdown",
   "metadata": {},
   "source": [
    "## Чтение файлов"
   ]
  },
  {
   "cell_type": "code",
   "execution_count": 35,
   "metadata": {},
   "outputs": [],
   "source": [
    "with open('seq_database.fasta', 'r') as file:\n",
    "    content = file.readlines()"
   ]
  },
  {
   "cell_type": "code",
   "execution_count": 36,
   "metadata": {},
   "outputs": [],
   "source": [
    "with open('Term_hmmsearch.out', 'r') as file:\n",
    "    term_hmmsearch = file.readlines()"
   ]
  },
  {
   "cell_type": "code",
   "execution_count": 37,
   "metadata": {},
   "outputs": [],
   "source": [
    "with open('TMP_hmmsearch.out', 'r') as file:\n",
    "    tmp_hmmsearch = file.readlines()"
   ]
  },
  {
   "cell_type": "code",
   "execution_count": 38,
   "metadata": {},
   "outputs": [],
   "source": [
    "with open('MCP_hmmsearch.out', 'r') as file:\n",
    "    mcp_hmmsearch = file.readlines()"
   ]
  },
  {
   "cell_type": "code",
   "execution_count": 39,
   "metadata": {},
   "outputs": [],
   "source": [
    "with open('ParA_hmmsearch.out', 'r') as file:\n",
    "    para_hmmsearch = file.readlines()"
   ]
  },
  {
   "cell_type": "code",
   "execution_count": 40,
   "metadata": {},
   "outputs": [],
   "source": [
    "with open('ParM_hmmsearch.out', 'r') as file:\n",
    "    parm_hmmsearch = file.readlines()"
   ]
  },
  {
   "cell_type": "code",
   "execution_count": 41,
   "metadata": {},
   "outputs": [],
   "source": [
    "with open('XerC_hmmsearch.out', 'r') as file:\n",
    "    xerc_hmmsearch = file.readlines()"
   ]
  },
  {
   "cell_type": "markdown",
   "metadata": {},
   "source": [
    "## Поиск вхождений плазмит в группы"
   ]
  },
  {
   "cell_type": "code",
   "execution_count": 42,
   "metadata": {},
   "outputs": [],
   "source": [
    "prot_names = []\n",
    "for item in content:\n",
    "    try:\n",
    "        prot_name = item.split('_prot_')[0].split('|')[1]\n",
    "        if prot_name not in prot_names:\n",
    "            prot_names.append(prot_name)\n",
    "        else:\n",
    "            continue\n",
    "    except IndexError:\n",
    "        continue"
   ]
  },
  {
   "cell_type": "code",
   "execution_count": 46,
   "metadata": {},
   "outputs": [],
   "source": [
    "term_hmmsearch_dict = dict.fromkeys(prot_names, 0)\n",
    "tmp_hmmsearch_dict = dict.fromkeys(prot_names, 0)\n",
    "mcp_hmmsearch_dict = dict.fromkeys(prot_names, 0)\n",
    "para_hmmsearch_dict = dict.fromkeys(prot_names, 0)\n",
    "parm_hmmsearch_dict = dict.fromkeys(prot_names, 0)\n",
    "xerc_hmmsearch_dict = dict.fromkeys(prot_names, 0)"
   ]
  },
  {
   "cell_type": "code",
   "execution_count": 47,
   "metadata": {},
   "outputs": [],
   "source": [
    "loop_content = (\n",
    "    (term_hmmsearch, term_hmmsearch_dict),\n",
    "    (tmp_hmmsearch, tmp_hmmsearch_dict),\n",
    "    (mcp_hmmsearch, mcp_hmmsearch_dict),\n",
    "    (para_hmmsearch, para_hmmsearch_dict),\n",
    "    (parm_hmmsearch, parm_hmmsearch_dict),\n",
    "    (xerc_hmmsearch, xerc_hmmsearch_dict)\n",
    "    \n",
    ")\n",
    "\n",
    "for prot_name in prot_names:\n",
    "    for lines, dict_prot in loop_content:\n",
    "        for line in lines:\n",
    "            try:\n",
    "                prot_name_line = line.split('_prot_')[0].split('|')[1]\n",
    "            except IndexError:\n",
    "                continue\n",
    "            if prot_name == prot_name_line:\n",
    "                dict_prot[prot_name] +=1\n"
   ]
  },
  {
   "cell_type": "code",
   "execution_count": 48,
   "metadata": {},
   "outputs": [],
   "source": [
    "with open('resultsmatch.out', 'w') as file:\n",
    "    file.write(\n",
    "        f'Plasmids\\tTerm\\tTmp\\tMcp\\tParA\\tParM\\tXerC\\t'\n",
    "        f'TCT\\tTCTPa\\tTCTPm\\tTCTPaPm\\tTCTX\\tTCTPPX\\n'\n",
    "    )\n",
    "    \n",
    "    for prot_name in prot_names:\n",
    "        file.write(f'{prot_name}\\t')\n",
    "        file.write(f'{term_hmmsearch_dict[prot_name]}\\t')\n",
    "        file.write(f'{tmp_hmmsearch_dict[prot_name]}\\t')\n",
    "        file.write(f'{mcp_hmmsearch_dict[prot_name]}\\t')\n",
    "        file.write(f'{para_hmmsearch_dict[prot_name]}\\t')\n",
    "        file.write(f'{parm_hmmsearch_dict[prot_name]}\\t')\n",
    "        file.write(f'{xerc_hmmsearch_dict[prot_name]}\\t')\n",
    "        \n",
    "        # TCT\n",
    "        if (term_hmmsearch_dict[prot_name] != 0\n",
    "            and tmp_hmmsearch_dict[prot_name] != 0\n",
    "            and mcp_hmmsearch_dict[prot_name] != 0\n",
    "           ):\n",
    "            file.write(f'+\\t')\n",
    "        else:\n",
    "            file.write(f' \\t')\n",
    "        \n",
    "        #TCTPa\n",
    "        if (term_hmmsearch_dict[prot_name] != 0\n",
    "            and tmp_hmmsearch_dict[prot_name] != 0\n",
    "            and mcp_hmmsearch_dict[prot_name] != 0\n",
    "            and para_hmmsearch_dict[prot_name] != 0\n",
    "           ):\n",
    "            file.write(f'+\\t')\n",
    "        else:\n",
    "            file.write(f' \\t')\n",
    "            \n",
    "        #TCTPm\n",
    "        if (term_hmmsearch_dict[prot_name] != 0\n",
    "            and tmp_hmmsearch_dict[prot_name] != 0\n",
    "            and mcp_hmmsearch_dict[prot_name] != 0\n",
    "            and parm_hmmsearch_dict[prot_name] != 0\n",
    "           ):\n",
    "            file.write(f'+\\t')\n",
    "        else:\n",
    "            file.write(f' \\t')\n",
    "        \n",
    "        #TCTPaPm\n",
    "        if (term_hmmsearch_dict[prot_name] != 0\n",
    "            and tmp_hmmsearch_dict[prot_name] != 0\n",
    "            and mcp_hmmsearch_dict[prot_name] != 0\n",
    "            and para_hmmsearch_dict[prot_name] != 0\n",
    "            and parm_hmmsearch_dict[prot_name] != 0\n",
    "           ):\n",
    "            file.write(f'+\\t')\n",
    "        else:\n",
    "            file.write(f' \\t')\n",
    "        \n",
    "        #TCTX\n",
    "        if (term_hmmsearch_dict[prot_name] != 0\n",
    "            and tmp_hmmsearch_dict[prot_name] != 0\n",
    "            and mcp_hmmsearch_dict[prot_name] != 0\n",
    "            and xerc_hmmsearch_dict[prot_name] != 0\n",
    "           ):\n",
    "            file.write(f'+\\t')\n",
    "        else:\n",
    "            file.write(f' \\t')\n",
    "            \n",
    "        #TCTPPX\n",
    "        if (term_hmmsearch_dict[prot_name] != 0\n",
    "            and tmp_hmmsearch_dict[prot_name] != 0\n",
    "            and mcp_hmmsearch_dict[prot_name] != 0\n",
    "            and para_hmmsearch_dict[prot_name] != 0\n",
    "            and parm_hmmsearch_dict[prot_name] != 0\n",
    "            and xerc_hmmsearch_dict[prot_name] != 0\n",
    "           ):\n",
    "            file.write(f'+\\n')\n",
    "        else:\n",
    "            file.write(f' \\n')\n",
    "            "
   ]
  },
  {
   "cell_type": "markdown",
   "metadata": {},
   "source": [
    "## Парсинг данных из файлов (locus_tag, protein_id, E-value_1,E-value_1)"
   ]
  },
  {
   "cell_type": "code",
   "execution_count": 34,
   "metadata": {},
   "outputs": [],
   "source": [
    "term_hmmsearch_pars = dict.fromkeys(prot_names, [])\n",
    "tmp_hmmsearch_pars = dict.fromkeys(prot_names, [])\n",
    "mcp_hmmsearch_pars = dict.fromkeys(prot_names, [])\n",
    "para_hmmsearch_pars = dict.fromkeys(prot_names, [])\n",
    "parm_hmmsearch_pars = dict.fromkeys(prot_names, [])\n",
    "xerc_hmmsearch_pars = dict.fromkeys(prot_names, [])"
   ]
  },
  {
   "cell_type": "code",
   "execution_count": null,
   "metadata": {},
   "outputs": [],
   "source": []
  }
 ],
 "metadata": {
  "kernelspec": {
   "display_name": "Python 3",
   "language": "python",
   "name": "python3"
  },
  "language_info": {
   "codemirror_mode": {
    "name": "ipython",
    "version": 3
   },
   "file_extension": ".py",
   "mimetype": "text/x-python",
   "name": "python",
   "nbconvert_exporter": "python",
   "pygments_lexer": "ipython3",
   "version": "3.7.4"
  }
 },
 "nbformat": 4,
 "nbformat_minor": 4
}
