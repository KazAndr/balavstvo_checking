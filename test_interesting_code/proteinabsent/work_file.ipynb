{
 "cells": [
  {
   "cell_type": "code",
   "execution_count": 50,
   "metadata": {},
   "outputs": [],
   "source": [
    "with open('seq_database.fasta', 'r') as file:\n",
    "    content = file.readlines()"
   ]
  },
  {
   "cell_type": "code",
   "execution_count": 51,
   "metadata": {},
   "outputs": [],
   "source": [
    "with open('Term_hmmsearch.out', 'r') as file:\n",
    "    term_hmmsearch = file.readlines()"
   ]
  },
  {
   "cell_type": "code",
   "execution_count": 52,
   "metadata": {},
   "outputs": [],
   "source": [
    "with open('TMP_hmmsearch.out', 'r') as file:\n",
    "    tmp_hmmsearch = file.readlines()"
   ]
  },
  {
   "cell_type": "code",
   "execution_count": 53,
   "metadata": {},
   "outputs": [],
   "source": [
    "with open('MCP_hmmsearch.out', 'r') as file:\n",
    "    mcp_hmmsearch = file.readlines()"
   ]
  },
  {
   "cell_type": "code",
   "execution_count": 54,
   "metadata": {},
   "outputs": [],
   "source": [
    "prot_names = []\n",
    "for item in content:\n",
    "    try:\n",
    "        prot_name = item.split('_prot_')[0].split('|')[1]\n",
    "        if prot_name not in prot_names:\n",
    "            prot_names.append(prot_name)\n",
    "        else:\n",
    "            continue\n",
    "    except IndexError:\n",
    "        continue"
   ]
  },
  {
   "cell_type": "code",
   "execution_count": 55,
   "metadata": {},
   "outputs": [],
   "source": [
    "term_hmmsearch_dict = dict.fromkeys(prot_names, 0)\n",
    "tmp_hmmsearch_dict = dict.fromkeys(prot_names, 0)\n",
    "mcp_hmmsearch_dict = dict.fromkeys(prot_names, 0)"
   ]
  },
  {
   "cell_type": "code",
   "execution_count": 56,
   "metadata": {},
   "outputs": [],
   "source": [
    "for prot_name in prot_names:\n",
    "    for line in term_hmmsearch:\n",
    "        if prot_name in line:\n",
    "            term_hmmsearch_dict[prot_name] +=1\n",
    "    for line in tmp_hmmsearch:\n",
    "        if prot_name in line:\n",
    "            tmp_hmmsearch_dict[prot_name] +=1\n",
    "    for line in mcp_hmmsearch:\n",
    "        if prot_name in line:\n",
    "            mcp_hmmsearch_dict[prot_name] +=1"
   ]
  },
  {
   "cell_type": "code",
   "execution_count": 49,
   "metadata": {},
   "outputs": [],
   "source": [
    "with open('resultsmatch.out', 'w') as file:\n",
    "    file.write('Plasmids\\tTerm\\tTmp\\tMcp\\n')\n",
    "    \n",
    "    for prot_name in prot_names:\n",
    "        file.write(f'{prot_name}\\t')\n",
    "        file.write(f'{term_hmmsearch_dict[prot_name]}\\t')\n",
    "        file.write(f'{tmp_hmmsearch_dict[prot_name]}\\t')\n",
    "        file.write(f'{mcp_hmmsearch_dict[prot_name]}\\n')"
   ]
  },
  {
   "cell_type": "code",
   "execution_count": null,
   "metadata": {},
   "outputs": [],
   "source": []
  }
 ],
 "metadata": {
  "kernelspec": {
   "display_name": "Python 3",
   "language": "python",
   "name": "python3"
  },
  "language_info": {
   "codemirror_mode": {
    "name": "ipython",
    "version": 3
   },
   "file_extension": ".py",
   "mimetype": "text/x-python",
   "name": "python",
   "nbconvert_exporter": "python",
   "pygments_lexer": "ipython3",
   "version": "3.7.4"
  }
 },
 "nbformat": 4,
 "nbformat_minor": 4
}
