{
 "cells": [
  {
   "cell_type": "markdown",
   "metadata": {},
   "source": [
    "## Чтение файлов"
   ]
  },
  {
   "cell_type": "code",
   "execution_count": 50,
   "metadata": {},
   "outputs": [],
   "source": [
    "with open('seq_database.fasta', 'r') as file:\n",
    "    content = file.readlines()"
   ]
  },
  {
   "cell_type": "code",
   "execution_count": 51,
   "metadata": {},
   "outputs": [],
   "source": [
    "with open('Term_hmmsearch.out', 'r') as file:\n",
    "    term_hmmsearch = file.readlines()"
   ]
  },
  {
   "cell_type": "code",
   "execution_count": 52,
   "metadata": {},
   "outputs": [],
   "source": [
    "with open('TMP_hmmsearch.out', 'r') as file:\n",
    "    tmp_hmmsearch = file.readlines()"
   ]
  },
  {
   "cell_type": "code",
   "execution_count": 53,
   "metadata": {},
   "outputs": [],
   "source": [
    "with open('MCP_hmmsearch.out', 'r') as file:\n",
    "    mcp_hmmsearch = file.readlines()"
   ]
  },
  {
   "cell_type": "code",
   "execution_count": 54,
   "metadata": {},
   "outputs": [],
   "source": [
    "with open('ParA_hmmsearch.out', 'r') as file:\n",
    "    para_hmmsearch = file.readlines()"
   ]
  },
  {
   "cell_type": "code",
   "execution_count": 55,
   "metadata": {},
   "outputs": [],
   "source": [
    "with open('ParM_hmmsearch.out', 'r') as file:\n",
    "    parm_hmmsearch = file.readlines()"
   ]
  },
  {
   "cell_type": "code",
   "execution_count": 56,
   "metadata": {},
   "outputs": [],
   "source": [
    "with open('XerC_hmmsearch.out', 'r') as file:\n",
    "    xerc_hmmsearch = file.readlines()"
   ]
  },
  {
   "cell_type": "markdown",
   "metadata": {},
   "source": [
    "## Поиск вхождений плазмит в группы"
   ]
  },
  {
   "cell_type": "code",
   "execution_count": 57,
   "metadata": {},
   "outputs": [],
   "source": [
    "prot_names = []\n",
    "for item in content:\n",
    "    try:\n",
    "        prot_name = item.split('_prot_')[0].split('|')[1]\n",
    "        if prot_name not in prot_names:\n",
    "            prot_names.append(prot_name)\n",
    "        else:\n",
    "            continue\n",
    "    except IndexError:\n",
    "        continue"
   ]
  },
  {
   "cell_type": "code",
   "execution_count": 58,
   "metadata": {},
   "outputs": [],
   "source": [
    "term_hmmsearch_dict = dict.fromkeys(prot_names, 0)\n",
    "tmp_hmmsearch_dict = dict.fromkeys(prot_names, 0)\n",
    "mcp_hmmsearch_dict = dict.fromkeys(prot_names, 0)\n",
    "para_hmmsearch_dict = dict.fromkeys(prot_names, 0)\n",
    "parm_hmmsearch_dict = dict.fromkeys(prot_names, 0)\n",
    "xerc_hmmsearch_dict = dict.fromkeys(prot_names, 0)"
   ]
  },
  {
   "cell_type": "code",
   "execution_count": 59,
   "metadata": {},
   "outputs": [],
   "source": [
    "loop_content = (\n",
    "    (term_hmmsearch, term_hmmsearch_dict),\n",
    "    (tmp_hmmsearch, tmp_hmmsearch_dict),\n",
    "    (mcp_hmmsearch, mcp_hmmsearch_dict),\n",
    "    (para_hmmsearch, para_hmmsearch_dict),\n",
    "    (parm_hmmsearch, parm_hmmsearch_dict),\n",
    "    (xerc_hmmsearch, xerc_hmmsearch_dict)\n",
    "    \n",
    ")\n",
    "\n",
    "for prot_name in prot_names:\n",
    "    for lines, dict_prot in loop_content:\n",
    "        for line in lines:\n",
    "            try:\n",
    "                prot_name_line = line.split('_prot_')[0].split('|')[1]\n",
    "            except IndexError:\n",
    "                continue\n",
    "            if prot_name == prot_name_line:\n",
    "                dict_prot[prot_name] +=1\n"
   ]
  },
  {
   "cell_type": "code",
   "execution_count": 61,
   "metadata": {},
   "outputs": [],
   "source": [
    "with open('resultsmatch.out', 'w') as file:\n",
    "    file.write(\n",
    "        f'Plasmids\\tTerm\\tTmp\\tMcp\\tParA\\tParM\\tXerC\\t'\n",
    "        f'TCT\\tTCTPa\\tTCTPm\\tTCTPaPm\\tTCTX\\tTCTPaX\\tTCTPPX\\n'\n",
    "    )\n",
    "    \n",
    "    for prot_name in prot_names:\n",
    "        file.write(f'{prot_name}\\t')\n",
    "        file.write(f'{term_hmmsearch_dict[prot_name]}\\t')\n",
    "        file.write(f'{tmp_hmmsearch_dict[prot_name]}\\t')\n",
    "        file.write(f'{mcp_hmmsearch_dict[prot_name]}\\t')\n",
    "        file.write(f'{para_hmmsearch_dict[prot_name]}\\t')\n",
    "        file.write(f'{parm_hmmsearch_dict[prot_name]}\\t')\n",
    "        file.write(f'{xerc_hmmsearch_dict[prot_name]}\\t')\n",
    "        \n",
    "        # TCT\n",
    "        if (term_hmmsearch_dict[prot_name] != 0\n",
    "            and tmp_hmmsearch_dict[prot_name] != 0\n",
    "            and mcp_hmmsearch_dict[prot_name] != 0\n",
    "           ):\n",
    "            file.write(f'+\\t')\n",
    "        else:\n",
    "            file.write(f' \\t')\n",
    "        \n",
    "        #TCTPa\n",
    "        if (term_hmmsearch_dict[prot_name] != 0\n",
    "            and tmp_hmmsearch_dict[prot_name] != 0\n",
    "            and mcp_hmmsearch_dict[prot_name] != 0\n",
    "            and para_hmmsearch_dict[prot_name] != 0\n",
    "           ):\n",
    "            file.write(f'+\\t')\n",
    "        else:\n",
    "            file.write(f' \\t')\n",
    "            \n",
    "        #TCTPm\n",
    "        if (term_hmmsearch_dict[prot_name] != 0\n",
    "            and tmp_hmmsearch_dict[prot_name] != 0\n",
    "            and mcp_hmmsearch_dict[prot_name] != 0\n",
    "            and parm_hmmsearch_dict[prot_name] != 0\n",
    "           ):\n",
    "            file.write(f'+\\t')\n",
    "        else:\n",
    "            file.write(f' \\t')\n",
    "        \n",
    "        #TCTPaPm\n",
    "        if (term_hmmsearch_dict[prot_name] != 0\n",
    "            and tmp_hmmsearch_dict[prot_name] != 0\n",
    "            and mcp_hmmsearch_dict[prot_name] != 0\n",
    "            and para_hmmsearch_dict[prot_name] != 0\n",
    "            and parm_hmmsearch_dict[prot_name] != 0\n",
    "           ):\n",
    "            file.write(f'+\\t')\n",
    "        else:\n",
    "            file.write(f' \\t')\n",
    "        \n",
    "        #TCTX\n",
    "        if (term_hmmsearch_dict[prot_name] != 0\n",
    "            and tmp_hmmsearch_dict[prot_name] != 0\n",
    "            and mcp_hmmsearch_dict[prot_name] != 0\n",
    "            and xerc_hmmsearch_dict[prot_name] != 0\n",
    "           ):\n",
    "            file.write(f'+\\t')\n",
    "        else:\n",
    "            file.write(f' \\t')\n",
    "            \n",
    "        #TCTRaX\n",
    "        if (term_hmmsearch_dict[prot_name] != 0\n",
    "            and tmp_hmmsearch_dict[prot_name] != 0\n",
    "            and mcp_hmmsearch_dict[prot_name] != 0\n",
    "            and para_hmmsearch_dict[prot_name] != 0\n",
    "            and xerc_hmmsearch_dict[prot_name] != 0\n",
    "           ):\n",
    "            file.write(f'+\\t')\n",
    "        else:\n",
    "            file.write(f' \\t')\n",
    "            \n",
    "        #TCTPPX\n",
    "        if (term_hmmsearch_dict[prot_name] != 0\n",
    "            and tmp_hmmsearch_dict[prot_name] != 0\n",
    "            and mcp_hmmsearch_dict[prot_name] != 0\n",
    "            and para_hmmsearch_dict[prot_name] != 0\n",
    "            and parm_hmmsearch_dict[prot_name] != 0\n",
    "            and xerc_hmmsearch_dict[prot_name] != 0\n",
    "           ):\n",
    "            file.write(f'+\\n')\n",
    "        else:\n",
    "            file.write(f' \\n')\n",
    "            "
   ]
  },
  {
   "cell_type": "markdown",
   "metadata": {},
   "source": [
    "## Парсинг данных из файлов (locus_tag, protein_id, E-value_1,E-value_1)"
   ]
  },
  {
   "cell_type": "code",
   "execution_count": 145,
   "metadata": {},
   "outputs": [],
   "source": [
    "term_hmmsearch_pars = {}\n",
    "tmp_hmmsearch_pars = {}\n",
    "mcp_hmmsearch_pars = {}\n",
    "para_hmmsearch_pars = {}\n",
    "parm_hmmsearch_pars = {}\n",
    "xerc_hmmsearch_pars = {}"
   ]
  },
  {
   "cell_type": "code",
   "execution_count": 146,
   "metadata": {},
   "outputs": [],
   "source": [
    "N_E1 = 4\n",
    "N_E2 = 7"
   ]
  },
  {
   "cell_type": "code",
   "execution_count": 147,
   "metadata": {},
   "outputs": [],
   "source": [
    "loop_content = (\n",
    "    (term_hmmsearch, term_hmmsearch_pars),\n",
    "    (tmp_hmmsearch, tmp_hmmsearch_pars),\n",
    "    (mcp_hmmsearch, mcp_hmmsearch_pars),\n",
    "    (para_hmmsearch, para_hmmsearch_pars),\n",
    "    (parm_hmmsearch, parm_hmmsearch_pars),\n",
    "    (xerc_hmmsearch, xerc_hmmsearch_pars)\n",
    "    \n",
    ")\n",
    "\n",
    "for prot_name in prot_names:\n",
    "    for lines, dict_prot in loop_content:\n",
    "        for line in lines:\n",
    "            try:\n",
    "                prot_name_line = line.split('_prot_')[0].split('|')[1]\n",
    "            except IndexError:\n",
    "                continue\n",
    "            \n",
    "            if prot_name == prot_name_line:\n",
    "                splt_line = line.split()\n",
    "                \n",
    "                try:\n",
    "                    protein_id = line.split('protein_id=')[1].split(']')[0]\n",
    "                except IndexError:\n",
    "                    protein_id = '-'\n",
    "                try:\n",
    "                    locus_tag = line.split('locus_tag=')[1].split(']')[0]\n",
    "                except IndexError:\n",
    "                    locus_tag = '-'\n",
    "                    \n",
    "                if prot_name in dict_prot:\n",
    "                    dict_prot[prot_name].append(\n",
    "                        (\n",
    "                            prot_name_line,\n",
    "                            locus_tag,\n",
    "                            protein_id,\n",
    "                            splt_line[N_E1],\n",
    "                            splt_line[N_E2]\n",
    "                        )\n",
    "                \n",
    "                    )\n",
    "                else:\n",
    "                     dict_prot[prot_name] = [(\n",
    "                        (\n",
    "                            prot_name_line,\n",
    "                            locus_tag,\n",
    "                            protein_id,\n",
    "                            splt_line[N_E1],\n",
    "                            splt_line[N_E2])\n",
    "                     )]"
   ]
  },
  {
   "cell_type": "code",
   "execution_count": 159,
   "metadata": {},
   "outputs": [],
   "source": [
    "loop_content = (\n",
    "    ('term_hmmsearch_locus_tag_Evalue.out', term_hmmsearch_pars),\n",
    "    ('tmp_hmmsearch_locus_tag_Evalue.out', tmp_hmmsearch_pars),\n",
    "    ('mcp_hmmsearch_locus_tag_Evalue.out', mcp_hmmsearch_pars),\n",
    "    ('para_hmmsearch_locus_tag_Evalue.out', para_hmmsearch_pars),\n",
    "    ('parm_hmmsearch_locus_tag_Evalue.out', parm_hmmsearch_pars),\n",
    "    ('xerc_hmmsearch_locus_tag_Evalue.out', xerc_hmmsearch_pars)\n",
    "    \n",
    ")\n",
    "\n",
    "for filename, dict_prot in loop_content:\n",
    "        with open(filename, 'w') as file:\n",
    "            file.write(f'Plasmids\\tlocus_tag\\tprotein_id\\tE-value_1\\tE-value_2\\n')\n",
    "            for prot_name in prot_names:\n",
    "                try:\n",
    "                    for item in dict_prot[prot_name]:\n",
    "                        file.write(f'{item[0]}\\t{item[1]}\\t{item[2]}\\t{item[3]}\\t{item[3]}\\n')\n",
    "                except KeyError:\n",
    "                    pass"
   ]
  },
  {
   "cell_type": "code",
   "execution_count": 153,
   "metadata": {},
   "outputs": [
    {
     "data": {
      "text/plain": [
       "('AAEK01000020.1', 'BCE_G9241_pBCXO1_0020', 'EAL13918.1', '5.1e-18', '8.8e-18')"
      ]
     },
     "execution_count": 153,
     "metadata": {},
     "output_type": "execute_result"
    }
   ],
   "source": [
    "item"
   ]
  },
  {
   "cell_type": "code",
   "execution_count": 157,
   "metadata": {},
   "outputs": [
    {
     "name": "stdout",
     "output_type": "stream",
     "text": [
      "('DQ889678.1', 'pPER272_0259', 'ABK01233.1', '1.5e-39', '1.1e-37')\n",
      "('DQ889678.1', 'pPER272_0193', 'ABK01238.1', '1.9e-31', '2.5e-31')\n",
      "('DQ889678.1', 'pPER272_0172', 'ABK01117.1', '4.4e-20', '5.4e-20')\n",
      "('DQ889678.1', 'pPER272_0025', 'ABK01026.1', '1.6e-16', '8.8e-16')\n"
     ]
    }
   ],
   "source": [
    "for i in dict_prot['DQ889678.1']: print(i)"
   ]
  },
  {
   "cell_type": "code",
   "execution_count": null,
   "metadata": {},
   "outputs": [],
   "source": []
  }
 ],
 "metadata": {
  "kernelspec": {
   "display_name": "Python 3",
   "language": "python",
   "name": "python3"
  },
  "language_info": {
   "codemirror_mode": {
    "name": "ipython",
    "version": 3
   },
   "file_extension": ".py",
   "mimetype": "text/x-python",
   "name": "python",
   "nbconvert_exporter": "python",
   "pygments_lexer": "ipython3",
   "version": "3.7.4"
  }
 },
 "nbformat": 4,
 "nbformat_minor": 4
}
