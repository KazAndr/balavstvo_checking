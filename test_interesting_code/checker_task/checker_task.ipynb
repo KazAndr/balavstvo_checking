{
 "cells": [
  {
   "cell_type": "code",
   "execution_count": 1,
   "metadata": {},
   "outputs": [],
   "source": [
    "import os\n",
    "import sys\n",
    "import glob\n",
    "\n",
    "from subprocess import Popen, PIPE, STDOUT, call"
   ]
  },
  {
   "cell_type": "code",
   "execution_count": 2,
   "metadata": {},
   "outputs": [],
   "source": [
    "from set_test import list_test"
   ]
  },
  {
   "cell_type": "code",
   "execution_count": 3,
   "metadata": {},
   "outputs": [
    {
     "data": {
      "text/plain": [
       "['./tasks/__pycache__',\n",
       " './tasks/task1.py',\n",
       " './tasks/task2.py',\n",
       " './tasks/task3.py']"
      ]
     },
     "execution_count": 3,
     "metadata": {},
     "output_type": "execute_result"
    }
   ],
   "source": [
    "files = sorted(glob.glob('./tasks/*'))\n",
    "files"
   ]
  },
  {
   "cell_type": "code",
   "execution_count": 4,
   "metadata": {},
   "outputs": [
    {
     "data": {
      "text/plain": [
       "256"
      ]
     },
     "execution_count": 4,
     "metadata": {},
     "output_type": "execute_result"
    }
   ],
   "source": [
    "os.system('python ./tasks/task1.py')"
   ]
  },
  {
   "cell_type": "code",
   "execution_count": 5,
   "metadata": {},
   "outputs": [
    {
     "data": {
      "text/plain": [
       "'9\\n'"
      ]
     },
     "execution_count": 5,
     "metadata": {},
     "output_type": "execute_result"
    }
   ],
   "source": [
    "py = 'python'\n",
    "file = './tasks/task1.py'\n",
    "\n",
    "p = Popen('python ./tasks/task1.py',\n",
    "          stdout=PIPE, stdin=PIPE, stderr=STDOUT, shell=True)\n",
    "grep_stdout = p.communicate(input=b'3\\n3\\n3\\n', timeout=6*60)[0]\n",
    "#type(grep_stdout.decode('866', errors='ignore')) # Для винды 10 кодировка по умолчанию 866\n",
    "grep_stdout.decode()"
   ]
  },
  {
   "cell_type": "code",
   "execution_count": null,
   "metadata": {},
   "outputs": [],
   "source": []
  },
  {
   "cell_type": "code",
   "execution_count": 5,
   "metadata": {},
   "outputs": [
    {
     "data": {
      "text/plain": [
       "'9\\n'"
      ]
     },
     "execution_count": 5,
     "metadata": {},
     "output_type": "execute_result"
    }
   ],
   "source": [
    "#grep_stdout.decode('866', errors='ignore')\n",
    "grep_stdout.decode()"
   ]
  },
  {
   "cell_type": "code",
   "execution_count": 34,
   "metadata": {},
   "outputs": [
    {
     "data": {
      "text/plain": [
       "''"
      ]
     },
     "execution_count": 34,
     "metadata": {},
     "output_type": "execute_result"
    }
   ],
   "source": [
    "p = Popen('python -m pycodestyle --ignore=E265,W292 ./tasks/task1.py', stdout=PIPE, stdin=PIPE, stderr=STDOUT, shell=True)\n",
    "grep_stdout = p.communicate()[0]\n",
    "#type(grep_stdout.decode('866', errors='ignore')) # Для винды 10 кодировка по умолчанию 866\n",
    "grep_stdout.decode()"
   ]
  },
  {
   "cell_type": "code",
   "execution_count": 35,
   "metadata": {},
   "outputs": [],
   "source": [
    "def pep8_checker(filename):\n",
    "    \"\"\"\n",
    "    Check codestyle by pycodestyle\n",
    "    \"\"\"\n",
    "    p = Popen(f'python -m pycodestyle --ignore=E265,W292 {filename}',\n",
    "              stdout=PIPE, stdin=PIPE, stderr=STDOUT, shell=True)\n",
    "    grep_stdout = p.communicate()[0]\n",
    "    #type(grep_stdout.decode('866', errors='ignore')) # Для винды 10 кодировка по умолчанию 866\n",
    "    pystyle_message = grep_stdout.decode()\n",
    "    if pystyle_message:\n",
    "        return 'NOPEP8', pystyle_message\n",
    "    else:\n",
    "        return 'OK', 'Your codestyle is PEP8'"
   ]
  },
  {
   "cell_type": "code",
   "execution_count": 36,
   "metadata": {},
   "outputs": [
    {
     "data": {
      "text/plain": [
       "('OK', 'Your codestyle is PEP8')"
      ]
     },
     "execution_count": 36,
     "metadata": {},
     "output_type": "execute_result"
    }
   ],
   "source": [
    "pep8_checker('./tasks/task1.py')"
   ]
  },
  {
   "cell_type": "code",
   "execution_count": 25,
   "metadata": {},
   "outputs": [],
   "source": [
    "def result_checker(filename, input_data, output_data):\n",
    "    \"\"\"\n",
    "    Check results of programs\n",
    "    \"\"\"\n",
    "    p = Popen(f'python {filename}', stdout=PIPE, stdin=PIPE, stderr=STDOUT, shell=True)\n",
    "    grep_stdout = p.communicate(input=input_data, timeout=6*60)[0]\n",
    "    if grep_stdout.decode() == output_data:\n",
    "        return \"Test is passed\"\n",
    "    else:\n",
    "        return \"Test isn't passed\", grep_stdout.decode()"
   ]
  },
  {
   "cell_type": "code",
   "execution_count": 33,
   "metadata": {},
   "outputs": [
    {
     "name": "stdout",
     "output_type": "stream",
     "text": [
      "Test is passed\n",
      "Test is passed\n",
      "Test is passed\n",
      "Test is passed\n",
      "Test is passed\n"
     ]
    }
   ],
   "source": [
    "test_input = [b'3\\n3\\n3\\n', b'1\\n1\\n-2\\n', b'3\\n3\\n3\\n', b'3\\n3\\n3\\n', b'3\\n3\\n3\\n']\n",
    "test_output = ['9\\n', '0\\n', '9\\n','9\\n','9\\n']\n",
    "\n",
    "for tst_in, tst_out in zip(test_input, test_output):\n",
    "    print(result_checker('./tasks/task1.py', tst_in, tst_out))"
   ]
  },
  {
   "cell_type": "markdown",
   "metadata": {},
   "source": [
    "## Создем код, способный проверять функции в модулях"
   ]
  },
  {
   "cell_type": "code",
   "execution_count": 39,
   "metadata": {},
   "outputs": [],
   "source": [
    "import importlib.util\n",
    "import multiprocessing, time, signal"
   ]
  },
  {
   "cell_type": "code",
   "execution_count": 44,
   "metadata": {},
   "outputs": [],
   "source": [
    "default_path = (\n",
    "    f'/home/andr/Yandex.Disk/3.Programing/'\n",
    "    f'balovstvo&checking/test_interesting_code/checker_task'\n",
    ")\n",
    "task_path = './tasks/'\n",
    "os.chdir(default_path)"
   ]
  },
  {
   "cell_type": "code",
   "execution_count": 45,
   "metadata": {},
   "outputs": [],
   "source": [
    "def sleeper():\n",
    "    time.sleep(10)\n",
    "    \n",
    "def executor(module, name_function, arguments):\n",
    "    exec(f'result = spec.{name_function}{arguments}')"
   ]
  },
  {
   "cell_type": "code",
   "execution_count": 46,
   "metadata": {},
   "outputs": [
    {
     "name": "stdout",
     "output_type": "stream",
     "text": [
      "Process worker was stopped\n"
     ]
    }
   ],
   "source": [
    "os.chdir(task_path)\n",
    "spec = importlib.import_module('task2', 'task2.py')\n",
    "importlib.reload(spec)\n",
    "func_name = 'my_range'\n",
    "input_part = '(5, 7, 8)'\n",
    "sl = multiprocessing.Process(target=sleeper)\n",
    "wr = multiprocessing.Process(target=executor, args=(spec, func_name, input_part))\n",
    "sl.start()\n",
    "wr.start()\n",
    "while True:\n",
    "    if not sl.is_alive():\n",
    "        wr.terminate()\n",
    "        print('Process worker was stopped')\n",
    "        break\n",
    "del spec\n",
    "os.chdir(default_path)"
   ]
  },
  {
   "cell_type": "code",
   "execution_count": 47,
   "metadata": {},
   "outputs": [
    {
     "ename": "NameError",
     "evalue": "name 'spec' is not defined",
     "output_type": "error",
     "traceback": [
      "\u001b[0;31m---------------------------------------------------------------------------\u001b[0m",
      "\u001b[0;31mNameError\u001b[0m                                 Traceback (most recent call last)",
      "\u001b[0;32m<ipython-input-47-190da955963e>\u001b[0m in \u001b[0;36m<module>\u001b[0;34m\u001b[0m\n\u001b[0;32m----> 1\u001b[0;31m \u001b[0mspec\u001b[0m\u001b[0;34m\u001b[0m\u001b[0;34m\u001b[0m\u001b[0m\n\u001b[0m",
      "\u001b[0;31mNameError\u001b[0m: name 'spec' is not defined"
     ]
    }
   ],
   "source": []
  },
  {
   "cell_type": "code",
   "execution_count": 9,
   "metadata": {},
   "outputs": [
    {
     "ename": "NameError",
     "evalue": "name 'spec' is not defined",
     "output_type": "error",
     "traceback": [
      "\u001b[0;31m---------------------------------------------------------------------------\u001b[0m",
      "\u001b[0;31mNameError\u001b[0m                                 Traceback (most recent call last)",
      "\u001b[0;32m<ipython-input-9-cb41eac0b3f6>\u001b[0m in \u001b[0;36m<module>\u001b[0;34m\u001b[0m\n\u001b[0;32m----> 1\u001b[0;31m \u001b[0mexec\u001b[0m\u001b[0;34m(\u001b[0m\u001b[0;34mf'result = spec.{func_name}{input_part}'\u001b[0m\u001b[0;34m)\u001b[0m\u001b[0;34m\u001b[0m\u001b[0;34m\u001b[0m\u001b[0m\n\u001b[0m",
      "\u001b[0;32m<string>\u001b[0m in \u001b[0;36m<module>\u001b[0;34m\u001b[0m\n",
      "\u001b[0;31mNameError\u001b[0m: name 'spec' is not defined"
     ]
    }
   ],
   "source": [
    "exec(f'result = spec.{func_name}{input_part}')"
   ]
  },
  {
   "cell_type": "code",
   "execution_count": 10,
   "metadata": {},
   "outputs": [],
   "source": [
    "def retr_func(a, b): return a + b\n",
    "a = 5\n",
    "b = 6\n",
    "inp = (a, b)\n",
    "result = None\n",
    "test_str = '\"a\" , \"6\"'\n",
    "string_code = (f'result = {retr_func(*inp)}')\n",
    "exec(string_code)"
   ]
  },
  {
   "cell_type": "code",
   "execution_count": 11,
   "metadata": {},
   "outputs": [
    {
     "data": {
      "text/plain": [
       "11"
      ]
     },
     "execution_count": 11,
     "metadata": {},
     "output_type": "execute_result"
    }
   ],
   "source": [
    "result"
   ]
  },
  {
   "cell_type": "code",
   "execution_count": 12,
   "metadata": {},
   "outputs": [],
   "source": [
    "def result_checker_function(filename, name_function, input_data, output_data):\n",
    "    try:\n",
    "        spec = importlib.import_module(filename[:-3], filename)\n",
    "        importlib.reload(spec)\n",
    "    except:\n",
    "        return \"Error\", f'Error in your file {filename}: {sys.exc_info()}'\n",
    "\n",
    "    try:\n",
    "        exec(f\"global result; result = spec.{name_function}{input_data}\")\n",
    "    except:\n",
    "        return \"Error\", f'Error in your file {filename}: {sys.exc_info()}'\n",
    "    \n",
    "    if result == output_data:\n",
    "        return \"Test is passed\", \"It is correct.\"\n",
    "    else:\n",
    "        return \"Test isn't passed\", result\n",
    "    del spec\n",
    "    try:\n",
    "        del sys.modules[filename[:-3]]\n",
    "    except KeyError:\n",
    "        pass\n",
    "    \n",
    "    return None"
   ]
  },
  {
   "cell_type": "code",
   "execution_count": 13,
   "metadata": {},
   "outputs": [
    {
     "name": "stdout",
     "output_type": "stream",
     "text": [
      "(3, 6, 2) [3, 5] (3, 6, 2)\n",
      "(0, 10, 3) [0, 3, 6, 9] (0, 10, 3)\n",
      "(10, 0, 3) [] (10, 0, 3)\n",
      "(10, 0, -3) [10, 7, 4, 1] (10, 0, -3)\n",
      "(-5, 10, 3) [-5, -2, 1, 4, 7] (-5, 10, 3)\n",
      "Run check input and output\n"
     ]
    }
   ],
   "source": [
    "os.chdir(default_path)\n",
    "for test in list_test:\n",
    "    if test[0] == 'codeinout':\n",
    "        print('Run check input and output')\n",
    "    elif test[0] == 'function':\n",
    "        for idx_test, item_test in enumerate(test[-1]):\n",
    "            os.chdir(task_path)\n",
    "            msg, out = result_checker_function(\n",
    "                'task2.py', \n",
    "                test[1], \n",
    "                item_test[0], \n",
    "                item_test[1])\n",
    "            \n",
    "            if msg == \"Test is passed\":\n",
    "                print(\"Test is passed\")\n",
    "            elif msg == 'Error':\n",
    "                print(out)\n",
    "            elif msg == \"Test isn't passed\":\n",
    "                print(item_test[0], item_test[1], out)\n",
    "            else:\n",
    "                print('Unexpected condition!!!')\n",
    "            os.chdir(default_path)"
   ]
  },
  {
   "cell_type": "code",
   "execution_count": 23,
   "metadata": {},
   "outputs": [],
   "source": []
  },
  {
   "cell_type": "code",
   "execution_count": 32,
   "metadata": {},
   "outputs": [],
   "source": []
  },
  {
   "cell_type": "code",
   "execution_count": 35,
   "metadata": {},
   "outputs": [],
   "source": []
  },
  {
   "cell_type": "code",
   "execution_count": 36,
   "metadata": {},
   "outputs": [
    {
     "name": "stdout",
     "output_type": "stream",
     "text": [
      "Sleeper stoped\n",
      "Process worker was stopped\n"
     ]
    }
   ],
   "source": []
  },
  {
   "cell_type": "code",
   "execution_count": 37,
   "metadata": {},
   "outputs": [
    {
     "data": {
      "text/plain": [
       "False"
      ]
     },
     "execution_count": 37,
     "metadata": {},
     "output_type": "execute_result"
    }
   ],
   "source": [
    "sl.is_alive()"
   ]
  },
  {
   "cell_type": "code",
   "execution_count": 38,
   "metadata": {},
   "outputs": [
    {
     "data": {
      "text/plain": [
       "False"
      ]
     },
     "execution_count": 38,
     "metadata": {},
     "output_type": "execute_result"
    }
   ],
   "source": [
    "wr.is_alive()"
   ]
  },
  {
   "cell_type": "code",
   "execution_count": null,
   "metadata": {},
   "outputs": [],
   "source": []
  }
 ],
 "metadata": {
  "kernelspec": {
   "display_name": "Python 3",
   "language": "python",
   "name": "python3"
  },
  "language_info": {
   "codemirror_mode": {
    "name": "ipython",
    "version": 3
   },
   "file_extension": ".py",
   "mimetype": "text/x-python",
   "name": "python",
   "nbconvert_exporter": "python",
   "pygments_lexer": "ipython3",
   "version": "3.7.4"
  },
  "varInspector": {
   "cols": {
    "lenName": 16,
    "lenType": 16,
    "lenVar": 40
   },
   "kernels_config": {
    "python": {
     "delete_cmd_postfix": "",
     "delete_cmd_prefix": "del ",
     "library": "var_list.py",
     "varRefreshCmd": "print(var_dic_list())"
    },
    "r": {
     "delete_cmd_postfix": ") ",
     "delete_cmd_prefix": "rm(",
     "library": "var_list.r",
     "varRefreshCmd": "cat(var_dic_list()) "
    }
   },
   "types_to_exclude": [
    "module",
    "function",
    "builtin_function_or_method",
    "instance",
    "_Feature"
   ],
   "window_display": false
  }
 },
 "nbformat": 4,
 "nbformat_minor": 2
}
