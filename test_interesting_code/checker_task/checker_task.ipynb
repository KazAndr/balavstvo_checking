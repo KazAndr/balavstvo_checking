{
 "cells": [
  {
   "cell_type": "code",
   "execution_count": 1,
   "metadata": {},
   "outputs": [],
   "source": [
    "import os\n",
    "import glob\n",
    "\n",
    "from subprocess import Popen, PIPE, STDOUT, call"
   ]
  },
  {
   "cell_type": "code",
   "execution_count": 2,
   "metadata": {},
   "outputs": [
    {
     "data": {
      "text/plain": [
       "['./tasks/task1.py']"
      ]
     },
     "execution_count": 2,
     "metadata": {},
     "output_type": "execute_result"
    }
   ],
   "source": [
    "files = sorted(glob.glob('./tasks/*'))\n",
    "files"
   ]
  },
  {
   "cell_type": "code",
   "execution_count": 3,
   "metadata": {},
   "outputs": [
    {
     "data": {
      "text/plain": [
       "256"
      ]
     },
     "execution_count": 3,
     "metadata": {},
     "output_type": "execute_result"
    }
   ],
   "source": [
    "os.system('python ./tasks/task1.py')"
   ]
  },
  {
   "cell_type": "code",
   "execution_count": 4,
   "metadata": {},
   "outputs": [
    {
     "data": {
      "text/plain": [
       "str"
      ]
     },
     "execution_count": 4,
     "metadata": {},
     "output_type": "execute_result"
    }
   ],
   "source": [
    "py = 'python'\n",
    "file = './tasks/task1.py'\n",
    "\n",
    "p = Popen('python ./tasks/task1.py', stdout=PIPE, stdin=PIPE, stderr=STDOUT, shell=True)\n",
    "grep_stdout = p.communicate(input=b'3\\n3\\n3\\n')[0]\n",
    "#type(grep_stdout.decode('866', errors='ignore')) # Для винды 10 кодировка по умолчанию 866\n",
    "type(grep_stdout.decode())"
   ]
  },
  {
   "cell_type": "code",
   "execution_count": 5,
   "metadata": {},
   "outputs": [
    {
     "data": {
      "text/plain": [
       "'9\\n'"
      ]
     },
     "execution_count": 5,
     "metadata": {},
     "output_type": "execute_result"
    }
   ],
   "source": [
    "#grep_stdout.decode('866', errors='ignore')\n",
    "grep_stdout.decode()"
   ]
  },
  {
   "cell_type": "code",
   "execution_count": 9,
   "metadata": {},
   "outputs": [
    {
     "data": {
      "text/plain": [
       "\"./tasks/task1.py:1:10: E401 multiple imports on one line\\n./tasks/task1.py:6:2: E225 missing whitespace around operator\\n./tasks/task1.py:7:2: E225 missing whitespace around operator\\n./tasks/task1.py:8:2: E225 missing whitespace around operator\\n./tasks/task1.py:10:4: E111 indentation is not a multiple of four\\n./tasks/task1.py:13:6: E211 whitespace before '('\\n\""
      ]
     },
     "execution_count": 9,
     "metadata": {},
     "output_type": "execute_result"
    }
   ],
   "source": [
    "p = Popen('python -m pycodestyle --ignore=E265,W292 ./tasks/task1.py', stdout=PIPE, stdin=PIPE, stderr=STDOUT, shell=True)\n",
    "grep_stdout = p.communicate()[0]\n",
    "#type(grep_stdout.decode('866', errors='ignore')) # Для винды 10 кодировка по умолчанию 866\n",
    "grep_stdout.decode()"
   ]
  },
  {
   "cell_type": "code",
   "execution_count": 24,
   "metadata": {},
   "outputs": [],
   "source": [
    "def pep8_checker(filename):\n",
    "    \"\"\"\n",
    "    Check codestyle by pycodestyle\n",
    "    \"\"\"\n",
    "    p = Popen(f'python -m pycodestyle {filename}',\n",
    "              stdout=PIPE, stdin=PIPE, stderr=STDOUT, shell=True)\n",
    "    grep_stdout = p.communicate()[0]\n",
    "    #type(grep_stdout.decode('866', errors='ignore')) # Для винды 10 кодировка по умолчанию 866\n",
    "    pystyle_message = grep_stdout.decode()\n",
    "    if pystyle_message:\n",
    "        return 'NOPEP8', pystyle_message\n",
    "    else:\n",
    "        return 'OK', 'Your codestyle is PEP8'"
   ]
  },
  {
   "cell_type": "code",
   "execution_count": 28,
   "metadata": {},
   "outputs": [
    {
     "data": {
      "text/plain": [
       "('NOPEP8', \"./tasks/task1.py:5:6: E211 whitespace before '('\\n\")"
      ]
     },
     "execution_count": 28,
     "metadata": {},
     "output_type": "execute_result"
    }
   ],
   "source": [
    "pep8_checker('./tasks/task1.py')"
   ]
  },
  {
   "cell_type": "code",
   "execution_count": 29,
   "metadata": {},
   "outputs": [],
   "source": [
    "def result_checker(filename, input_data, output_data):\n",
    "    \"\"\"\n",
    "    Check results of programs\n",
    "    \"\"\"\n",
    "    p = Popen(f'python {filename}', stdout=PIPE, stdin=PIPE, stderr=STDOUT, shell=True)\n",
    "    grep_stdout = p.communicate(input=input_data)[0]\n",
    "    if grep_stdout.decode() == output_data:\n",
    "        return \"Test is passed\"\n",
    "    else:\n",
    "        return \"Test isn't passed\""
   ]
  },
  {
   "cell_type": "code",
   "execution_count": 32,
   "metadata": {},
   "outputs": [
    {
     "data": {
      "text/plain": [
       "'Test is passed'"
      ]
     },
     "execution_count": 32,
     "metadata": {},
     "output_type": "execute_result"
    }
   ],
   "source": [
    "result_checker('./tasks/task1.py', b'3\\n3\\n3\\n', '9\\n')"
   ]
  },
  {
   "cell_type": "code",
   "execution_count": null,
   "metadata": {},
   "outputs": [],
   "source": []
  }
 ],
 "metadata": {
  "kernelspec": {
   "display_name": "Python 3",
   "language": "python",
   "name": "python3"
  },
  "language_info": {
   "codemirror_mode": {
    "name": "ipython",
    "version": 3
   },
   "file_extension": ".py",
   "mimetype": "text/x-python",
   "name": "python",
   "nbconvert_exporter": "python",
   "pygments_lexer": "ipython3",
   "version": "3.7.4"
  },
  "varInspector": {
   "cols": {
    "lenName": 16,
    "lenType": 16,
    "lenVar": 40
   },
   "kernels_config": {
    "python": {
     "delete_cmd_postfix": "",
     "delete_cmd_prefix": "del ",
     "library": "var_list.py",
     "varRefreshCmd": "print(var_dic_list())"
    },
    "r": {
     "delete_cmd_postfix": ") ",
     "delete_cmd_prefix": "rm(",
     "library": "var_list.r",
     "varRefreshCmd": "cat(var_dic_list()) "
    }
   },
   "types_to_exclude": [
    "module",
    "function",
    "builtin_function_or_method",
    "instance",
    "_Feature"
   ],
   "window_display": false
  }
 },
 "nbformat": 4,
 "nbformat_minor": 2
}
