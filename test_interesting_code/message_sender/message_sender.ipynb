{
 "cells": [
  {
   "cell_type": "code",
   "execution_count": 5,
   "metadata": {},
   "outputs": [],
   "source": [
    "import smtplib\n",
    "import config"
   ]
  },
  {
   "cell_type": "code",
   "execution_count": 9,
   "metadata": {},
   "outputs": [],
   "source": [
    "BODY = \"\\r\\n\".join((\n",
    "        \"From: %s\" % from_addr,\n",
    "        \"To: %s\" % to_addr,\n",
    "        \"Subject: %s\" % subject ,\n",
    "        \"\",\n",
    "        body_text\n",
    "    ))"
   ]
  },
  {
   "cell_type": "code",
   "execution_count": 23,
   "metadata": {},
   "outputs": [
    {
     "data": {
      "text/plain": [
       "(221, b'2.0.0 Closing connection.')"
      ]
     },
     "execution_count": 23,
     "metadata": {},
     "output_type": "execute_result"
    }
   ],
   "source": []
  },
  {
   "cell_type": "code",
   "execution_count": 29,
   "metadata": {},
   "outputs": [],
   "source": [
    "def send_email(host, subject, to_addr, from_addr, body_text):\n",
    "    \"\"\"\n",
    "    Send an email\n",
    "    \"\"\"\n",
    "    \n",
    "    BODY = \"\\r\\n\".join((\n",
    "        \"From: %s\" % from_addr,\n",
    "        \"To: %s\" % to_addr,\n",
    "        \"Subject: %s\" % subject ,\n",
    "        \"\",\n",
    "        body_text\n",
    "    ))\n",
    "    \n",
    "    server = smtplib.SMTP_SSL(host)\n",
    "    #server.starttls()\n",
    "    server.login(config.log,config.ps)\n",
    "    #server.sendmail('От кого', [кому], Тело письма)\n",
    "    server.sendmail('Phoenix1790@yandex.ru', [to_addr], BODY)\n",
    "    server.quit()"
   ]
  },
  {
   "cell_type": "code",
   "execution_count": 32,
   "metadata": {},
   "outputs": [],
   "source": [
    "host = 'smtp.yandex.ru:465'\n",
    "subject = \"Test 2 email from Python\"\n",
    "to_addr = \"elinxt@bk.ru\"\n",
    "from_addr = \"kaz.prao@bk.ru\"\n",
    "body_text = \"Python rules them all again!\""
   ]
  },
  {
   "cell_type": "code",
   "execution_count": 33,
   "metadata": {},
   "outputs": [],
   "source": [
    "send_email(host, subject, to_addr, from_addr, body_text)"
   ]
  },
  {
   "cell_type": "code",
   "execution_count": null,
   "metadata": {},
   "outputs": [],
   "source": []
  }
 ],
 "metadata": {
  "kernelspec": {
   "display_name": "Python 3",
   "language": "python",
   "name": "python3"
  },
  "language_info": {
   "codemirror_mode": {
    "name": "ipython",
    "version": 3
   },
   "file_extension": ".py",
   "mimetype": "text/x-python",
   "name": "python",
   "nbconvert_exporter": "python",
   "pygments_lexer": "ipython3",
   "version": "3.7.4"
  },
  "varInspector": {
   "cols": {
    "lenName": 16,
    "lenType": 16,
    "lenVar": 40
   },
   "kernels_config": {
    "python": {
     "delete_cmd_postfix": "",
     "delete_cmd_prefix": "del ",
     "library": "var_list.py",
     "varRefreshCmd": "print(var_dic_list())"
    },
    "r": {
     "delete_cmd_postfix": ") ",
     "delete_cmd_prefix": "rm(",
     "library": "var_list.r",
     "varRefreshCmd": "cat(var_dic_list()) "
    }
   },
   "types_to_exclude": [
    "module",
    "function",
    "builtin_function_or_method",
    "instance",
    "_Feature"
   ],
   "window_display": false
  }
 },
 "nbformat": 4,
 "nbformat_minor": 2
}
