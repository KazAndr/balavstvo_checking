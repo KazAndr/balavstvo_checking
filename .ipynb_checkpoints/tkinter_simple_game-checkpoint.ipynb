{
 "cells": [
  {
   "cell_type": "code",
   "execution_count": 59,
   "metadata": {
    "collapsed": false
   },
   "outputs": [
    {
     "name": "stdout",
     "output_type": "stream",
     "text": [
      "Once deleted, variables cannot be recovered. Proceed (y/[n])? y\n"
     ]
    }
   ],
   "source": [
    "reset"
   ]
  },
  {
   "cell_type": "code",
   "execution_count": 60,
   "metadata": {
    "collapsed": true
   },
   "outputs": [],
   "source": [
    "import tkinter as tk"
   ]
  },
  {
   "cell_type": "code",
   "execution_count": 61,
   "metadata": {
    "collapsed": true
   },
   "outputs": [],
   "source": [
    "#Constants\n",
    "HEIGHT = 480\n",
    "WIDTH = 640\n",
    "BG_COLOR = \"white\""
   ]
  },
  {
   "cell_type": "code",
   "execution_count": 62,
   "metadata": {
    "collapsed": false
   },
   "outputs": [],
   "source": [
    "class Balls(object):\n",
    "    def __init__(self, x, y, r, color, dx=0, dy=0):\n",
    "        self.x = x\n",
    "        self.y = y\n",
    "        self.r = r\n",
    "        self.color = color\n",
    "        self.dx = dx\n",
    "        self.dy = dy\n",
    "    \n",
    "    def draw(self):\n",
    "        canvas.create_oval(self.x - self.r, self.y - self.r, self.x + self.r, self.y + self.r, fill=self.color)\n",
    "        \n",
    "    def hide(self):\n",
    "        canvas.create_oval(self.x - self.r, self.y - self.r, self.x + self.r, self.y + self.r, fill=BG_COLOR,\n",
    "                          outline=BG_COLOR)\n",
    "    def move(self):\n",
    "        self.hide()\n",
    "        self.x += self.dx\n",
    "        self.y += self.dy\n",
    "        self.draw()"
   ]
  },
  {
   "cell_type": "code",
   "execution_count": 67,
   "metadata": {
    "collapsed": true
   },
   "outputs": [],
   "source": [
    "def main_loop():\n",
    "    if \"main_ball\" in globals():\n",
    "        main_ball.move()\n",
    "    root.after(100, main_loop)"
   ]
  },
  {
   "cell_type": "code",
   "execution_count": 68,
   "metadata": {
    "collapsed": true
   },
   "outputs": [],
   "source": [
    "def mouse_click(event):\n",
    "    global main_ball\n",
    "    if event.num == 1:\n",
    "        main_ball = Balls(event.x, event.y, 30, \"blue\", 1, 1 )\n",
    "        main_ball.draw()\n",
    "    else:\n",
    "        main_ball.hide()"
   ]
  },
  {
   "cell_type": "code",
   "execution_count": 70,
   "metadata": {
    "collapsed": false
   },
   "outputs": [],
   "source": [
    "root = tk.Tk()\n",
    "root.title(\"Booooools\")\n",
    "canvas = tk.Canvas(root, width=WIDTH, height=HEIGHT, bg=BG_COLOR)\n",
    "canvas.pack()\n",
    "canvas.bind('<Button-1>', mouse_click)\n",
    "canvas.bind('<Button-2>', mouse_click, \"+\")\n",
    "canvas.bind('<Button-3>', mouse_click, \"+\")\n",
    "main_loop()\n",
    "root.mainloop()"
   ]
  },
  {
   "cell_type": "code",
   "execution_count": null,
   "metadata": {
    "collapsed": true
   },
   "outputs": [],
   "source": []
  }
 ],
 "metadata": {
  "kernelspec": {
   "display_name": "Python 3",
   "language": "python",
   "name": "python3"
  },
  "language_info": {
   "codemirror_mode": {
    "name": "ipython",
    "version": 3
   },
   "file_extension": ".py",
   "mimetype": "text/x-python",
   "name": "python",
   "nbconvert_exporter": "python",
   "pygments_lexer": "ipython3",
   "version": "3.4.5"
  }
 },
 "nbformat": 4,
 "nbformat_minor": 0
}
