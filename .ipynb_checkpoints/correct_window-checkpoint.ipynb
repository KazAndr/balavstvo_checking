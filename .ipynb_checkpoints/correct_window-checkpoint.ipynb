{
 "cells": [
  {
   "cell_type": "code",
   "execution_count": 20,
   "metadata": {},
   "outputs": [
    {
     "name": "stdout",
     "output_type": "stream",
     "text": [
      "Once deleted, variables cannot be recovered. Proceed (y/[n])? y\n"
     ]
    }
   ],
   "source": [
    "reset"
   ]
  },
  {
   "cell_type": "code",
   "execution_count": 1,
   "metadata": {
    "collapsed": true
   },
   "outputs": [],
   "source": [
    "import pandas as pd\n",
    "import numpy as np\n",
    "import os\n",
    "import re\n",
    "import glob"
   ]
  },
  {
   "cell_type": "code",
   "execution_count": 2,
   "metadata": {
    "collapsed": true
   },
   "outputs": [],
   "source": [
    "# пути для windows\n",
    "files_directory = os.path.dirname('C:\\\\Users\\\\Andrey\\\\YandexDisk\\\\3.Программирование\\\\balovstvo&checking\\\\folder_for_files\\\\')"
   ]
  },
  {
   "cell_type": "code",
   "execution_count": null,
   "metadata": {
    "collapsed": true
   },
   "outputs": [],
   "source": [
    "# пути для Linux\n",
    "files_directory = os.path.dirname('/home/andrey/Yandex.Disk/3.Программирование/balovstvo&checking/folder_for_files/')"
   ]
  },
  {
   "cell_type": "code",
   "execution_count": 3,
   "metadata": {
    "collapsed": true
   },
   "outputs": [],
   "source": [
    "os.chdir(files_directory)"
   ]
  },
  {
   "cell_type": "code",
   "execution_count": 4,
   "metadata": {
    "collapsed": true
   },
   "outputs": [],
   "source": [
    "average_profile_files = sorted(glob.glob('*.cvs'))"
   ]
  },
  {
   "cell_type": "code",
   "execution_count": 5,
   "metadata": {},
   "outputs": [
    {
     "data": {
      "text/plain": [
       "['15.09.2014_average_profile_0301+19.cvs',\n",
       " '15.10.2014_average_profile_0301+19.cvs',\n",
       " '15.11.2014_average_profile_0301+19.cvs',\n",
       " '16.02.2014_average_profile_0301+19.cvs',\n",
       " '16.03.2014_average_profile_0301+19.cvs',\n",
       " '16.04.2014_average_profile_0301+19.cvs',\n",
       " '16.09.2014_average_profile_0301+19.cvs',\n",
       " '16.10.2014_average_profile_0301+19.cvs',\n",
       " '16.12.2014_average_profile_0301+19.cvs',\n",
       " '17.01.2014_average_profile_0301+19.cvs',\n",
       " '17.02.2014_average_profile_0301+19.cvs',\n",
       " '17.03.2014_average_profile_0301+19.cvs',\n",
       " '17.04.2014_average_profile_0301+19.cvs',\n",
       " '18.02.2014_average_profile_0301+19.cvs',\n",
       " '18.03.2014_average_profile_0301+19.cvs',\n",
       " '18.04.2014_average_profile_0301+19.cvs',\n",
       " '19.02.2014_average_profile_0301+19.cvs',\n",
       " '19.03.2014_average_profile_0301+19.cvs',\n",
       " '19.04.2014_average_profile_0301+19.cvs',\n",
       " '20.01.2014_average_profile_0301+19.cvs',\n",
       " '20.04.2014_average_profile_0301+19.cvs',\n",
       " '20.05.2014_average_profile_0301+19.cvs',\n",
       " '20.08.2014_average_profile_0301+19.cvs',\n",
       " '20.09.2014_average_profile_0301+19.cvs',\n",
       " '20.10.2014_average_profile_0301+19.cvs',\n",
       " '20.12.2014_average_profile_0301+19.cvs',\n",
       " '21.01.2014_average_profile_0301+19.cvs',\n",
       " '21.02.2014_average_profile_0301+19.cvs',\n",
       " '21.03.2014_average_profile_0301+19.cvs',\n",
       " '21.04.2014_average_profile_0301+19.cvs',\n",
       " '21.05.2014_average_profile_0301+19.cvs',\n",
       " '21.08.2014_average_profile_0301+19.cvs',\n",
       " '21.09.2014_average_profile_0301+19.cvs',\n",
       " '21.10.2014_average_profile_0301+19.cvs',\n",
       " '21.12.2014_average_profile_0301+19.cvs',\n",
       " '22.02.2014_average_profile_0301+19.cvs',\n",
       " '22.03.2014_average_profile_0301+19.cvs',\n",
       " '22.04.2014_average_profile_0301+19.cvs',\n",
       " '22.05.2014_average_profile_0301+19.cvs',\n",
       " '22.08.2014_average_profile_0301+19.cvs',\n",
       " '22.09.2014_average_profile_0301+19.cvs',\n",
       " '22.10.2014_average_profile_0301+19.cvs',\n",
       " '22.11.2014_average_profile_0301+19.cvs',\n",
       " '22.12.2014_average_profile_0301+19.cvs',\n",
       " '23.01.2014_average_profile_0301+19.cvs',\n",
       " '23.02.2014_average_profile_0301+19.cvs',\n",
       " '23.03.2014_average_profile_0301+19.cvs',\n",
       " '23.08.2014_average_profile_0301+19.cvs',\n",
       " '23.09.2014_average_profile_0301+19.cvs',\n",
       " '23.10.2014_average_profile_0301+19.cvs',\n",
       " '23.11.2014_average_profile_0301+19.cvs',\n",
       " '23.12.2014_average_profile_0301+19.cvs',\n",
       " '24.02.2014_average_profile_0301+19.cvs',\n",
       " '24.08.2014_average_profile_0301+19.cvs',\n",
       " '24.09.2014_average_profile_0301+19.cvs',\n",
       " '24.10.2014_average_profile_0301+19.cvs',\n",
       " '24.11.2014_average_profile_0301+19.cvs',\n",
       " '25.03.2014_average_profile_0301+19.cvs',\n",
       " '25.04.2014_average_profile_0301+19.cvs',\n",
       " '25.08.2014_average_profile_0301+19.cvs',\n",
       " '25.09.2014_average_profile_0301+19.cvs',\n",
       " '25.10.2014_average_profile_0301+19.cvs',\n",
       " '25.12.2014_average_profile_0301+19.cvs',\n",
       " '26.02.2014_average_profile_0301+19.cvs',\n",
       " '26.05.2014_average_profile_0301+19.cvs',\n",
       " '26.08.2014_average_profile_0301+19.cvs',\n",
       " '26.09.2014_average_profile_0301+19.cvs',\n",
       " '26.10.2014_average_profile_0301+19.cvs',\n",
       " '26.11.2014_average_profile_0301+19.cvs',\n",
       " '26.12.2014_average_profile_0301+19.cvs',\n",
       " '27.02.2014_average_profile_0301+19.cvs',\n",
       " '27.03.2014_average_profile_0301+19.cvs',\n",
       " '27.06.2014_average_profile_0301+19.cvs',\n",
       " '27.08.2014_average_profile_0301+19.cvs',\n",
       " '27.10.2014_average_profile_0301+19.cvs',\n",
       " '28.01.2014_average_profile_0301+19.cvs',\n",
       " '28.03.2014_average_profile_0301+19.cvs',\n",
       " '28.06.2014_average_profile_0301+19.cvs',\n",
       " '28.08.2014_average_profile_0301+19.cvs',\n",
       " '28.10.2014_average_profile_0301+19.cvs',\n",
       " '28.11.2014_average_profile_0301+19.cvs',\n",
       " '28.12.2014_average_profile_0301+19.cvs',\n",
       " '29.01.2014_average_profile_0301+19.cvs',\n",
       " '29.06.2014_average_profile_0301+19.cvs',\n",
       " '29.08.2014_average_profile_0301+19.cvs',\n",
       " '29.09.2014_average_profile_0301+19.cvs',\n",
       " '29.10.2014_average_profile_0301+19.cvs',\n",
       " '29.11.2014_average_profile_0301+19.cvs',\n",
       " '30.01.2014_average_profile_0301+19.cvs',\n",
       " '30.04.2014_average_profile_0301+19.cvs',\n",
       " '30.08.2014_average_profile_0301+19.cvs',\n",
       " '30.09.2014_average_profile_0301+19.cvs',\n",
       " '30.10.2014_average_profile_0301+19.cvs',\n",
       " '30.11.2014_average_profile_0301+19.cvs',\n",
       " '31.10.2014_average_profile_0301+19.cvs',\n",
       " '31.12.2014_average_profile_0301+19.cvs']"
      ]
     },
     "execution_count": 5,
     "metadata": {},
     "output_type": "execute_result"
    }
   ],
   "source": [
    "average_profile_files"
   ]
  },
  {
   "cell_type": "code",
   "execution_count": null,
   "metadata": {},
   "outputs": [],
   "source": []
  },
  {
   "cell_type": "code",
   "execution_count": 6,
   "metadata": {
    "collapsed": true
   },
   "outputs": [],
   "source": [
    "def read_pv_header(filename): # Ф-ия считывания заголовка в словарь и последовательности импульсов в таблицу\n",
    "    \n",
    "    #global header # Определение гломальной переменной словаря для заголовка\n",
    "    \n",
    "    header = dict()\n",
    "    \n",
    "    header_list = [] # Определение вспомогательного списка для работы регулярной конструкции\n",
    "\n",
    "    \n",
    "    f = open(filename, 'r')\n",
    "\n",
    "    #first_line = f.readline() # Считывание количества параметров из файла\n",
    "    \n",
    "    # Блок записи заголовка через регулярную конструкцию в словарь\n",
    "\n",
    "    header_re = re.compile(r'(?P<key>\\w*)\\s*(?P<value>.*)')\n",
    "    average_profile_re = re.compile(r'(?P<key>\\w*)\\s*(?P<value>.*)') \n",
    "\n",
    "    #res_dict = header_re.search(first_line).groupdict()\n",
    "\n",
    "    #header_list.append(res_dict[\"key\"])\n",
    "\n",
    "    for k in range(8):\n",
    "        line = f.readline()\n",
    "        res_dict = header_re.search(line).groupdict()\n",
    "        header_list.append(res_dict[\"key\"])\n",
    "        header[res_dict[\"key\"]] = res_dict[\"value\"] \n",
    "    \n",
    "    f.close()\n",
    "    \n",
    "    return header\n",
    "    "
   ]
  },
  {
   "cell_type": "code",
   "execution_count": 7,
   "metadata": {},
   "outputs": [],
   "source": [
    "def write_pv_header(file, filename, header):\n",
    "    \n",
    "    \n",
    "    ap_to_file = open(filename[:-4] + \"_red.csv\", 'w')\n",
    "    ap_to_file.write('name ' + header['name'])\n",
    "    ap_to_file.write('\\n')\n",
    "    ap_to_file.write('date ' + header['date'])\n",
    "    ap_to_file.write('\\n')\n",
    "    ap_to_file.write('time ' + header['time'])\n",
    "    ap_to_file.write('\\n')\n",
    "    ap_to_file.write('period ' + header['period'])\n",
    "    ap_to_file.write('\\n')\n",
    "    ap_to_file.write('numpuls ' + header['numpuls'])\n",
    "    ap_to_file.write('\\n')\n",
    "    ap_to_file.write('tay ' + header['tay'])\n",
    "    ap_to_file.write('\\n')\n",
    "    ap_to_file.write('numpointwin ' + str(len(file)))\n",
    "    ap_to_file.write('\\n')\n",
    "    ap_to_file.write('Fcomp ' + header['Fcomp'])\n",
    "    ap_to_file.write('\\n')\n",
    "    ap_to_file.write('\\n')\n",
    "    ap_to_file.write('time flux') # Добавление подписей колонок\n",
    "    ap_to_file.write('\\n')\n",
    "    ap_to_file.write('\\n')\n",
    "\n",
    "\n",
    "    ap_to_file.close()\n",
    "\n",
    "\n",
    "    with open(filename[:-4] + \"_red.csv\", 'a') as f:\n",
    "             file['flux'].to_csv(f, sep =' ', header=False)\n",
    "    \n",
    "    return"
   ]
  },
  {
   "cell_type": "code",
   "execution_count": 9,
   "metadata": {},
   "outputs": [],
   "source": [
    "for filename in average_profile_files:\n",
    "    header = read_pv_header(filename)\n",
    "    average_profile = pd.read_csv(filename, sep = ' ', header=8)\n",
    "    if int(header['numpointwin']) == 570:\n",
    "        pass\n",
    "    else:\n",
    "        average_profile = average_profile[:570] # подгон под размер окна\n",
    "    write_pv_header(average_profile, filename, header)\n",
    "    "
   ]
  },
  {
   "cell_type": "code",
   "execution_count": null,
   "metadata": {},
   "outputs": [],
   "source": []
  },
  {
   "cell_type": "code",
   "execution_count": null,
   "metadata": {
    "collapsed": true
   },
   "outputs": [],
   "source": []
  }
 ],
 "metadata": {
  "kernelspec": {
   "display_name": "Python 3",
   "language": "python",
   "name": "python3"
  },
  "language_info": {
   "codemirror_mode": {
    "name": "ipython",
    "version": 3
   },
   "file_extension": ".py",
   "mimetype": "text/x-python",
   "name": "python",
   "nbconvert_exporter": "python",
   "pygments_lexer": "ipython3",
   "version": "3.5.2"
  }
 },
 "nbformat": 4,
 "nbformat_minor": 1
}
