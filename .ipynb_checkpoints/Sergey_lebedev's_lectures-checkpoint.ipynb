{
 "cells": [
  {
   "cell_type": "code",
   "execution_count": 1,
   "metadata": {
    "collapsed": false
   },
   "outputs": [
    {
     "name": "stdout",
     "output_type": "stream",
     "text": [
      "Once deleted, variables cannot be recovered. Proceed (y/[n])? y\n"
     ]
    }
   ],
   "source": [
    "reset"
   ]
  },
  {
   "cell_type": "code",
   "execution_count": 3,
   "metadata": {
    "collapsed": false
   },
   "outputs": [],
   "source": [
    "def unicue(iterabls, seen = set()):\n",
    "    acc = []\n",
    "    for item in iterabls:\n",
    "        if item not in seen:\n",
    "            seen.add(item)\n",
    "            acc.append(item)\n",
    "    return acc"
   ]
  },
  {
   "cell_type": "code",
   "execution_count": 9,
   "metadata": {
    "collapsed": true
   },
   "outputs": [],
   "source": [
    "x = [1, 1, 2, 2, 3, 3]"
   ]
  },
  {
   "cell_type": "code",
   "execution_count": 5,
   "metadata": {
    "collapsed": false
   },
   "outputs": [
    {
     "data": {
      "text/plain": [
       "[1, 2, 3]"
      ]
     },
     "execution_count": 5,
     "metadata": {},
     "output_type": "execute_result"
    }
   ],
   "source": [
    "unicue(x)"
   ]
  },
  {
   "cell_type": "code",
   "execution_count": 6,
   "metadata": {
    "collapsed": false
   },
   "outputs": [
    {
     "data": {
      "text/plain": [
       "[]"
      ]
     },
     "execution_count": 6,
     "metadata": {},
     "output_type": "execute_result"
    }
   ],
   "source": [
    "unicue(x) \n",
    "\"\"\"\n",
    "судя по всему seen подгружается в память и становиться значением по умолчанию после исполнения функции\n",
    "тем самым вызов функции от новго массива не вернет элементы уже находящиеся в seen.\n",
    "проверка значения по умолчанию осуществляется путем команды \n",
    "unicue.__defaults__\n",
    "\n",
    "\"\"\""
   ]
  },
  {
   "cell_type": "code",
   "execution_count": 7,
   "metadata": {
    "collapsed": false
   },
   "outputs": [
    {
     "data": {
      "text/plain": [
       "({1, 2, 3},)"
      ]
     },
     "execution_count": 7,
     "metadata": {},
     "output_type": "execute_result"
    }
   ],
   "source": [
    "unicue.__defaults__"
   ]
  },
  {
   "cell_type": "markdown",
   "metadata": {},
   "source": [
    "# Правило: Никогда не использовать изменяемые объекты в качестве объектов по умолчанию!"
   ]
  },
  {
   "cell_type": "markdown",
   "metadata": {},
   "source": [
    "Ситуацию может изенить следующий код:"
   ]
  },
  {
   "cell_type": "code",
   "execution_count": 8,
   "metadata": {
    "collapsed": true
   },
   "outputs": [],
   "source": [
    "def unicue(iterabls, seen =None):\n",
    "    seen = set(seen or []) # None ---falsy\n",
    "    acc = []\n",
    "    for item in iterabls:\n",
    "        if item not in seen:\n",
    "            seen.add(item)\n",
    "            acc.append(item)\n",
    "    return acc"
   ]
  },
  {
   "cell_type": "code",
   "execution_count": 10,
   "metadata": {
    "collapsed": false
   },
   "outputs": [
    {
     "data": {
      "text/plain": [
       "[1, 2, 3]"
      ]
     },
     "execution_count": 10,
     "metadata": {},
     "output_type": "execute_result"
    }
   ],
   "source": [
    "unicue(x)"
   ]
  },
  {
   "cell_type": "code",
   "execution_count": 11,
   "metadata": {
    "collapsed": false
   },
   "outputs": [
    {
     "data": {
      "text/plain": [
       "[1, 2, 3]"
      ]
     },
     "execution_count": 11,
     "metadata": {},
     "output_type": "execute_result"
    }
   ],
   "source": [
    "unicue(x)"
   ]
  },
  {
   "cell_type": "markdown",
   "metadata": {},
   "source": []
  },
  {
   "cell_type": "code",
   "execution_count": 5,
   "metadata": {
    "collapsed": false
   },
   "outputs": [],
   "source": [
    "a = range(6)"
   ]
  },
  {
   "cell_type": "code",
   "execution_count": 8,
   "metadata": {
    "collapsed": false
   },
   "outputs": [
    {
     "data": {
      "text/plain": [
       "0"
      ]
     },
     "execution_count": 8,
     "metadata": {},
     "output_type": "execute_result"
    }
   ],
   "source": [
    "a[0]"
   ]
  },
  {
   "cell_type": "code",
   "execution_count": 9,
   "metadata": {
    "collapsed": false
   },
   "outputs": [
    {
     "data": {
      "text/plain": [
       "{'In': ['',\n",
       "  'a = [range(6), 6]',\n",
       "  'a',\n",
       "  'a = [*range(6), 6]',\n",
       "  'a = *range(6)',\n",
       "  'a = range(6)',\n",
       "  'a',\n",
       "  'a[1]',\n",
       "  'a[0]',\n",
       "  'globals()'],\n",
       " 'Out': {2: [range(0, 6), 6], 6: range(0, 6), 7: 1, 8: 0},\n",
       " '_': 0,\n",
       " '_2': [range(0, 6), 6],\n",
       " '_6': range(0, 6),\n",
       " '_7': 1,\n",
       " '_8': 0,\n",
       " '__': 1,\n",
       " '___': range(0, 6),\n",
       " '__builtin__': <module 'builtins' (built-in)>,\n",
       " '__builtins__': <module 'builtins' (built-in)>,\n",
       " '__doc__': 'Automatically created module for IPython interactive environment',\n",
       " '__loader__': None,\n",
       " '__name__': '__main__',\n",
       " '__package__': None,\n",
       " '__spec__': None,\n",
       " '_dh': ['/home/andrey/Yandex.Disk/3.Программирование/balovstvo&checking'],\n",
       " '_i': 'a[0]',\n",
       " '_i1': 'a = [range(6), 6]',\n",
       " '_i2': 'a',\n",
       " '_i3': 'a = [*range(6), 6]',\n",
       " '_i4': 'a = *range(6)',\n",
       " '_i5': 'a = range(6)',\n",
       " '_i6': 'a',\n",
       " '_i7': 'a[1]',\n",
       " '_i8': 'a[0]',\n",
       " '_i9': 'globals()',\n",
       " '_ih': ['',\n",
       "  'a = [range(6), 6]',\n",
       "  'a',\n",
       "  'a = [*range(6), 6]',\n",
       "  'a = *range(6)',\n",
       "  'a = range(6)',\n",
       "  'a',\n",
       "  'a[1]',\n",
       "  'a[0]',\n",
       "  'globals()'],\n",
       " '_ii': 'a[1]',\n",
       " '_iii': 'a',\n",
       " '_oh': {2: [range(0, 6), 6], 6: range(0, 6), 7: 1, 8: 0},\n",
       " '_sh': <module 'IPython.core.shadowns' from '/home/andrey/programming/miniconda3/lib/python3.4/site-packages/IPython/core/shadowns.py'>,\n",
       " 'a': range(0, 6),\n",
       " 'exit': <IPython.core.autocall.ZMQExitAutocall at 0x7f51f87adf98>,\n",
       " 'get_ipython': <bound method ZMQInteractiveShell.get_ipython of <ipykernel.zmqshell.ZMQInteractiveShell object at 0x7f51fa003160>>,\n",
       " 'quit': <IPython.core.autocall.ZMQExitAutocall at 0x7f51f87adf98>}"
      ]
     },
     "execution_count": 9,
     "metadata": {},
     "output_type": "execute_result"
    }
   ],
   "source": [
    "globals()"
   ]
  },
  {
   "cell_type": "code",
   "execution_count": 10,
   "metadata": {
    "collapsed": false
   },
   "outputs": [
    {
     "data": {
      "text/plain": [
       "{'In': ['',\n",
       "  'a = [range(6), 6]',\n",
       "  'a',\n",
       "  'a = [*range(6), 6]',\n",
       "  'a = *range(6)',\n",
       "  'a = range(6)',\n",
       "  'a',\n",
       "  'a[1]',\n",
       "  'a[0]',\n",
       "  'globals()',\n",
       "  'locals()'],\n",
       " 'Out': {2: [range(0, 6), 6], 6: range(0, 6), 7: 1, 8: 0, 9: {...}},\n",
       " '_': {...},\n",
       " '_2': [range(0, 6), 6],\n",
       " '_6': range(0, 6),\n",
       " '_7': 1,\n",
       " '_8': 0,\n",
       " '_9': {...},\n",
       " '__': 0,\n",
       " '___': 1,\n",
       " '__builtin__': <module 'builtins' (built-in)>,\n",
       " '__builtins__': <module 'builtins' (built-in)>,\n",
       " '__doc__': 'Automatically created module for IPython interactive environment',\n",
       " '__loader__': None,\n",
       " '__name__': '__main__',\n",
       " '__package__': None,\n",
       " '__spec__': None,\n",
       " '_dh': ['/home/andrey/Yandex.Disk/3.Программирование/balovstvo&checking'],\n",
       " '_i': 'globals()',\n",
       " '_i1': 'a = [range(6), 6]',\n",
       " '_i10': 'locals()',\n",
       " '_i2': 'a',\n",
       " '_i3': 'a = [*range(6), 6]',\n",
       " '_i4': 'a = *range(6)',\n",
       " '_i5': 'a = range(6)',\n",
       " '_i6': 'a',\n",
       " '_i7': 'a[1]',\n",
       " '_i8': 'a[0]',\n",
       " '_i9': 'globals()',\n",
       " '_ih': ['',\n",
       "  'a = [range(6), 6]',\n",
       "  'a',\n",
       "  'a = [*range(6), 6]',\n",
       "  'a = *range(6)',\n",
       "  'a = range(6)',\n",
       "  'a',\n",
       "  'a[1]',\n",
       "  'a[0]',\n",
       "  'globals()',\n",
       "  'locals()'],\n",
       " '_ii': 'a[0]',\n",
       " '_iii': 'a[1]',\n",
       " '_oh': {2: [range(0, 6), 6], 6: range(0, 6), 7: 1, 8: 0, 9: {...}},\n",
       " '_sh': <module 'IPython.core.shadowns' from '/home/andrey/programming/miniconda3/lib/python3.4/site-packages/IPython/core/shadowns.py'>,\n",
       " 'a': range(0, 6),\n",
       " 'exit': <IPython.core.autocall.ZMQExitAutocall at 0x7f51f87adf98>,\n",
       " 'get_ipython': <bound method ZMQInteractiveShell.get_ipython of <ipykernel.zmqshell.ZMQInteractiveShell object at 0x7f51fa003160>>,\n",
       " 'quit': <IPython.core.autocall.ZMQExitAutocall at 0x7f51f87adf98>}"
      ]
     },
     "execution_count": 10,
     "metadata": {},
     "output_type": "execute_result"
    }
   ],
   "source": [
    "locals()"
   ]
  },
  {
   "cell_type": "code",
   "execution_count": null,
   "metadata": {
    "collapsed": true
   },
   "outputs": [],
   "source": []
  }
 ],
 "metadata": {
  "kernelspec": {
   "display_name": "Python 3",
   "language": "python",
   "name": "python3"
  },
  "language_info": {
   "codemirror_mode": {
    "name": "ipython",
    "version": 3
   },
   "file_extension": ".py",
   "mimetype": "text/x-python",
   "name": "python",
   "nbconvert_exporter": "python",
   "pygments_lexer": "ipython3",
   "version": "3.4.5"
  }
 },
 "nbformat": 4,
 "nbformat_minor": 0
}
