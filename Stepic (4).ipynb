{
 "cells": [
  {
   "cell_type": "code",
   "execution_count": 66,
   "metadata": {
    "collapsed": false
   },
   "outputs": [
    {
     "name": "stdout",
     "output_type": "stream",
     "text": [
      "Once deleted, variables cannot be recovered. Proceed (y/[n])? y\n"
     ]
    }
   ],
   "source": [
    "reset"
   ]
  },
  {
   "cell_type": "code",
   "execution_count": 6,
   "metadata": {
    "collapsed": false
   },
   "outputs": [
    {
     "name": "stdout",
     "output_type": "stream",
     "text": [
      "1\n",
      "1\n",
      "4\n"
     ]
    }
   ],
   "source": [
    "b = [i for i in input().split()]\n",
    "if str(b[0]) == 'end' :\n",
    "    print()\n",
    "elif len(b) == 1:\n",
    "    t = input()\n",
    "    print(int(b[0])*4)\n",
    "else:\n",
    "    a = [[0 for j in range(len(b))] for k in range(len(b))]\n",
    "    n = 0\n",
    "    for i in range(len(b)):\n",
    "            a[n][i] = int(b[i])\n",
    "    while n < len(b)-1 :# осуществление считывания до достижения прямоугольной размерности матрицы\n",
    "        n +=1\n",
    "        b = [int(i) for i in input().split()]\n",
    "        for i in range(len(b)):\n",
    "            a[n][i] = b [i]\n",
    "    t = input()\n",
    "    #print(a)\n",
    "    \n",
    "    d = [[0 for i in range(len(b))] for j in range(len(b))]\n",
    "    for i in range(len(b)): # расчет и обработка исключений\n",
    "        for j in range(len(b)):\n",
    "            if (i-1 < 0) and (j - 1 < 0):\n",
    "                d[i][j] = a[len(b)-1][j]+a[i+1][j]+a[i][-1]+a[i][j+1]\n",
    "            elif (i+1 > len(b)-1) and (j - 1 < 0): \n",
    "                d[i][j] = a[i-1][j]+a[0][j]+a[i][-1]+a[i][j+1]\n",
    "            elif (i-1 < 0) and (j + 1 > len(b)-1): \n",
    "                d[i][j] = a[len(b)-1][j]+a[i+1][j]+a[i][j-1]+a[i][0]\n",
    "            elif (i+1 > len(b)-1) and (j + 1 > len(b)-1): \n",
    "                d[i][j] = a[i-1][j]+a[0][j]+a[i][j-1]+a[i][0]\n",
    "            elif i-1 < 0:\n",
    "                d[i][j] = a[len(b)-1][j]+a[i+1][j]+a[i][j-1]+a[i][j+1]\n",
    "            elif j - 1 < 0:\n",
    "                d[i][j] = a[i-1][j]+a[i+1][j]+a[i][-1]+a[i][j+1]\n",
    "            elif i+1 > len(b)-1:\n",
    "                d[i][j] = a[i-1][j]+a[0][j]+a[i][j-1]+a[i][j+1]\n",
    "            elif j + 1 > len(b)-1:\n",
    "                d[i][j] = a[i-1][j]+a[i+1][j]+a[i][j-1]+a[i][0]\n",
    "            else: \n",
    "                d[i][j] = a[i-1][j]+a[i+1][j]+a[i][j-1]+a[i][j+1]\n",
    "    #for i in range(len(b)):\n",
    "        #for j in range(len(b)):\n",
    "            #print(a[i][j], end=' ')\n",
    "       # print()\n",
    "    for i in range(len(b)):\n",
    "        for j in range(len(b)):\n",
    "            print(d[i][j], end=' ')\n",
    "        print()"
   ]
  },
  {
   "cell_type": "code",
   "execution_count": 6,
   "metadata": {
    "collapsed": false
   },
   "outputs": [
    {
     "name": "stdout",
     "output_type": "stream",
     "text": [
      "6\n",
      "[[0, 0, 0, 0, 0, 0], [0, 0, 0, 0, 0, 0], [0, 0, 0, 0, 0, 0], [0, 0, 0, 0, 0, 0], [0, 0, 0, 0, 0, 0], [0, 0, 0, 0, 0, 0]]\n",
      "[1, 2, 3, 4, 5, 6, 7, 8, 9, 10, 11, 12, 13, 14, 15, 16, 17, 18, 19, 20, 21, 22, 23, 24, 25, 26, 27, 28, 29, 30, 31, 32, 33, 34, 35, 36]\n"
     ]
    }
   ],
   "source": [
    "x = int(input())\n",
    "massiv = [[0 for j in range(x)] for k in range(x)]\n",
    "print(massiv)\n",
    "values = [i for i in range(1, (x**2)+1)]\n",
    "print(values)"
   ]
  },
  {
   "cell_type": "code",
   "execution_count": 101,
   "metadata": {
    "collapsed": false
   },
   "outputs": [
    {
     "data": {
      "text/plain": [
       "0"
      ]
     },
     "execution_count": 101,
     "metadata": {},
     "output_type": "execute_result"
    }
   ],
   "source": [
    "massiv[0][3]"
   ]
  },
  {
   "cell_type": "code",
   "execution_count": 115,
   "metadata": {
    "collapsed": false
   },
   "outputs": [],
   "source": [
    "i, j , count = 0, 0, 0\n",
    "for k in values:\n",
    "    if j != len(massiv[0]) - 1:\n",
    "        massiv[i][j] = k\n",
    "        j +=1 \n",
    "    elif j == len(massiv[0]) - 1 and i != len(massiv[0]):\n",
    "        massiv[i][j] = k\n",
    "        i += 1\n",
    "    else:\n",
    "        pass"
   ]
  },
  {
   "cell_type": "code",
   "execution_count": 118,
   "metadata": {
    "collapsed": false
   },
   "outputs": [],
   "source": [
    "i, j , count = (len(massiv[0])) - 1, (len(massiv[0])) - 1, (len(massiv[0]))\n",
    "for k in values:\n",
    "    if j != 0:\n",
    "        massiv[i][j] = k\n",
    "        j -=1 \n",
    "    elif j == 0 and i != 0:\n",
    "        massiv[i][j] = k\n",
    "        i -= 1\n",
    "    else:\n",
    "        pass"
   ]
  },
  {
   "cell_type": "code",
   "execution_count": 10,
   "metadata": {
    "collapsed": false
   },
   "outputs": [
    {
     "name": "stdout",
     "output_type": "stream",
     "text": [
      "11 0 -1 -2 -3 -4 \n",
      "12 1 20 19 18 17 \n",
      "13 2 21 32 31 30 \n",
      "14 3 22 33 36 29 \n",
      "15 4 23 34 35 28 \n",
      "16 5 24 25 26 27 \n"
     ]
    }
   ],
   "source": [
    "for i in range(x):\n",
    "        for j in range(x):\n",
    "            print(massiv[i][j], end=' ')\n",
    "        print()"
   ]
  },
  {
   "cell_type": "code",
   "execution_count": 3,
   "metadata": {
    "collapsed": true
   },
   "outputs": [],
   "source": [
    "# С хабра. x,y — координаты, s — сторона квадрата. \n",
    "import math\n",
    "def spiral(x,y,s):\n",
    "    diag = list()\n",
    "    for i in getUnsortDiag(s):\n",
    "        diag[(len(diag)+1)//2:(len(diag)+1)//2] = [i]\n",
    "    x -= 1\n",
    "    y -= 1\n",
    "    halfS = math.ceil(float(s)/2)\n",
    "    if (x == y): return diag[x]\n",
    "    if (x > y <= s-x-1 and y+1 < halfS): return diag[y]+x-y\n",
    "    if (halfS <= x > y): return diag[x]-x+y\n",
    "    if (s-x-1 <= y >= halfS): return diag[y]-x+y\n",
    "    return diag[x+1]+x-y        \n",
    "\n",
    "def getUnsortDiag(s):\n",
    "    res, step, changeStep = 1, (s-1)*2, False\n",
    "    for i in range(s):\n",
    "        yield res\n",
    "        res += step\n",
    "        if changeStep:\n",
    "            step -= 4\n",
    "        changeStep = ~changeStep"
   ]
  },
  {
   "cell_type": "code",
   "execution_count": 9,
   "metadata": {
    "collapsed": false
   },
   "outputs": [],
   "source": [
    "for i in range(x):\n",
    "        for j in range(x):\n",
    "            massiv[i][j] = spiral(i,j,x)\n",
    "            \n",
    "        "
   ]
  },
  {
   "cell_type": "code",
   "execution_count": 5,
   "metadata": {
    "collapsed": false
   },
   "outputs": [
    {
     "data": {
      "text/plain": [
       "11"
      ]
     },
     "execution_count": 5,
     "metadata": {},
     "output_type": "execute_result"
    }
   ],
   "source": [
    "test_list"
   ]
  },
  {
   "cell_type": "code",
   "execution_count": 11,
   "metadata": {
    "collapsed": false
   },
   "outputs": [
    {
     "name": "stdout",
     "output_type": "stream",
     "text": [
      "  39  24  40  12  40   5   8  37  24  18\n",
      "  26   1  39  47  25  16  34  31  22   8\n",
      "  33   4   6  44  44  14  10  33  17  29\n",
      "  30  46   8  34  43  14  46  46  19  20\n",
      "   8   8   4  39   5  23  23  43  35   6\n",
      "  45  10  28  11  10  29  21  19  27   4\n",
      "  37   5  16  40  14  34  48  24   1  37\n",
      "  39  47   2  22   2  15  17  19   9  41\n",
      "  48   3  48  25  47   4  36  31  18  13\n",
      "   5   2  40  49  28  16  50  24  35  43\n",
      "\n",
      "  39  24  40  12  40   5   8  37  24  18\n",
      "   8  22  31  34  16  25  47  39   1  26\n",
      "  33   4   6  44  44  14  10  33  17  29\n",
      "  20  19  46  46  14  43  34   8  46  30\n",
      "   8   8   4  39   5  23  23  43  35   6\n",
      "   4  27  19  21  29  10  11  28  10  45\n",
      "  37   5  16  40  14  34  48  24   1  37\n",
      "  41   9  19  17  15   2  22   2  47  39\n",
      "  48   3  48  25  47   4  36  31  18  13\n",
      "  43  35  24  50  16  28  49  40   2   5\n"
     ]
    }
   ],
   "source": [
    "import random\n",
    " \n",
    "a = [random.randint(1,50) for x in range(100)]\n",
    " \n",
    "for n in range(0,99,10):\n",
    "    print ('%4d' * 10 % tuple(a[n:n+10]))\n",
    " \n",
    "print ('')\n",
    " \n",
    "for n in range(0,99,10):\n",
    "    if n//10 % 2: t = tuple(a[n+9:n-1:-1])\n",
    "    else: t = tuple(a[n:n+10])\n",
    "    print ('%4d' * 10 % t)"
   ]
  },
  {
   "cell_type": "code",
   "execution_count": 127,
   "metadata": {
    "collapsed": false
   },
   "outputs": [
    {
     "name": "stdout",
     "output_type": "stream",
     "text": [
      "2\n",
      "create foo glob\n",
      "create bar glob\n"
     ]
    }
   ],
   "source": [
    "step = int(input())\n",
    "glob = []\n",
    "global_names = {'glob': glob}\n",
    "\n",
    "def create(namespace, patern):\n",
    "    global_names[patern].append(namespace)\n",
    "    return\n",
    "\n",
    "def add(namespace, var):\n",
    "    return\n",
    "\n",
    "def get(namespace, var):\n",
    "    return\n",
    "\n",
    "\n",
    "func = {'create': create, 'add': add, 'get' : get}\n",
    "\n",
    "while step != 0:\n",
    "    b = input().split()\n",
    "    func[b[0]](b[1],b[2])\n",
    "    \n",
    "    step -= 1"
   ]
  },
  {
   "cell_type": "code",
   "execution_count": 128,
   "metadata": {
    "collapsed": false
   },
   "outputs": [
    {
     "data": {
      "text/plain": [
       "['foo', 'bar']"
      ]
     },
     "execution_count": 128,
     "metadata": {},
     "output_type": "execute_result"
    }
   ],
   "source": [
    "glob"
   ]
  },
  {
   "cell_type": "code",
   "execution_count": 124,
   "metadata": {
    "collapsed": false
   },
   "outputs": [
    {
     "name": "stdout",
     "output_type": "stream",
     "text": [
      "create foo global\n"
     ]
    }
   ],
   "source": [
    "b = input().split()"
   ]
  },
  {
   "cell_type": "code",
   "execution_count": 125,
   "metadata": {
    "collapsed": false
   },
   "outputs": [
    {
     "data": {
      "text/plain": [
       "['create', 'foo', 'global']"
      ]
     },
     "execution_count": 125,
     "metadata": {},
     "output_type": "execute_result"
    }
   ],
   "source": [
    "b"
   ]
  },
  {
   "cell_type": "code",
   "execution_count": 67,
   "metadata": {
    "collapsed": true
   },
   "outputs": [],
   "source": [
    "f = open('dataset_3363_2.txt', 'r')\n",
    "test_list = f.readline()"
   ]
  },
  {
   "cell_type": "code",
   "execution_count": 68,
   "metadata": {
    "collapsed": false
   },
   "outputs": [
    {
     "data": {
      "text/plain": [
       "'L18r17M1L15I13J8p17F6n2K13A18p1C13S19K7L12f16G12S20T6U6I18l7B8e5j1h2b20i13d15E18p4K3u7w20K20f3H13U7s4w14o14g10P19s1K20m7\\n'"
      ]
     },
     "execution_count": 68,
     "metadata": {},
     "output_type": "execute_result"
    }
   ],
   "source": [
    "test_list"
   ]
  },
  {
   "cell_type": "code",
   "execution_count": 69,
   "metadata": {
    "collapsed": true
   },
   "outputs": [],
   "source": [
    "word_set = []\n",
    "digital_set = []"
   ]
  },
  {
   "cell_type": "code",
   "execution_count": 70,
   "metadata": {
    "collapsed": false
   },
   "outputs": [],
   "source": [
    "# проверка пройдена\n",
    "for i in range(len(test_list)):\n",
    "    try:\n",
    "        if test_list[i].isdigit():\n",
    "            if test_list[i+1].isdigit():\n",
    "                digital_set.append(int(test_list[i] + test_list[i+1]))\n",
    "            elif test_list[i-1].isdigit():\n",
    "                continue\n",
    "            else:\n",
    "                digital_set.append(int(test_list[i]))\n",
    "        else:\n",
    "            word_set.append(test_list[i])\n",
    "    except:\n",
    "        word_set.append(test_list[i])\n",
    "        \n",
    "s = ''\n",
    "for i in range(len(digital_set)):\n",
    "    s += word_set[i]*digital_set[i]\n",
    "    \n",
    "a = open('answer_1.txt', 'w')\n",
    "a.write(s)\n",
    "\n",
    "f.close()\n",
    "a.close()"
   ]
  },
  {
   "cell_type": "code",
   "execution_count": 202,
   "metadata": {
    "collapsed": false
   },
   "outputs": [],
   "source": [
    "f = open('dataset_3363_3.txt', 'r')\n",
    "test_list = f.readlines()"
   ]
  },
  {
   "cell_type": "code",
   "execution_count": 203,
   "metadata": {
    "collapsed": false
   },
   "outputs": [],
   "source": [
    "full_s = ''\n",
    "for i in range(len(test_list)):\n",
    "    full_s += ' ' + test_list[i][:-1]"
   ]
  },
  {
   "cell_type": "code",
   "execution_count": 204,
   "metadata": {
    "collapsed": false
   },
   "outputs": [
    {
     "data": {
      "text/plain": [
       "' UZXd dXpcdbTa YcdUYYca YcdUYYca UZXd ZaZb ZaZb daapZbZ a YcdUYYca aUbTYp YcaYaTY ZaZb YcdUYYca ZaZb ZdUYaX pTXdUpbT UcUpUpT ppUdUU Up ppUdUU XT bZacYYTb XT ppUdUU UdTT UZcp YddX aU XppdYpa UdTT ddXTTYpY TYYcdcUdd cTZYZacY ppUdUU XT YTcd XaT ppTY YT YdTYUp UYaYdb dXYbp Tcca Tcca daTYXd XYYp c XYYp Tcca c aTcXbcZU dTYTT d bT XppT XYYp daTYXd UYXp bYXTUUb Tcca dd XppT dTYTT YdcUcdp XaTcdcZ ZTdXYbYcb XTYdc adZp daTYXd pYdaXUa XppT d adZp adZp b aUpaX bYYXZTYp d Xbab bTcXYc ccXT XpbbXc XpTTd UYTUXYXYa aTXXZUd U UTXZUTT aTXXZUd U UTXZUTT aTXXZUd ddaac XUZTpUXU XTdU Z cZTpZTap U aUbX U U XUZcY XUZTpUXU U aXcZ aXcZ p aZ aY dX dY cbYZpcZU ddYbp XZZb abaTd pYXUcUc Ub YYddTp XZZb UpY daXabc XdTUZdU Xdp cbYZpcZU XbpacZZ c pTcXXdZp XZYXcZ Zpba ppUbd pU dUc XbpacZZ aY YXXpcX aXcZ pbXdUXpb UacZZ bdacXX ccUUdUp XbpacZZ ZcYXabU dUc Ypaa UUbXcT UacZZ UXX pppUc baTXXT pppUc pZUUbbpdU Y cdUTUbaXd Y Y aYYdYY ZaZZZUU pZTbTXX dTapXXY pZTbTXX ZUX XXbbaapTU pab UppYapY ZcpZbbbZX dpYZ Y pppUc YpcY bU TZYccUpaY pab YXpX TTZc TcZZ XZUX pbYdUpcap Uc Uc dpYZ pab TbX YpcY Y pppUc cpXbb ZaZp pZac TbcYXZTcZ pbTcUbcdc pbTcUbcdc TbcYXZTcZ pTdTTc aaZpadTUZ TbcYXZTcZ pTdTTc XXZ UZUp TbcYXZTcZ pTdTTc YTdc XcccbdYp p T p p TpbpYbc YTppT YTppT bUcZU dZUc bUcZU babcabZ'"
      ]
     },
     "execution_count": 204,
     "metadata": {},
     "output_type": "execute_result"
    }
   ],
   "source": [
    "full_s"
   ]
  },
  {
   "cell_type": "code",
   "execution_count": 205,
   "metadata": {
    "collapsed": false
   },
   "outputs": [],
   "source": [
    "full_s = full_s.lower()"
   ]
  },
  {
   "cell_type": "code",
   "execution_count": 206,
   "metadata": {
    "collapsed": false
   },
   "outputs": [],
   "source": [
    "list_simbols = full_s.split(' ')"
   ]
  },
  {
   "cell_type": "code",
   "execution_count": 207,
   "metadata": {
    "collapsed": false
   },
   "outputs": [
    {
     "data": {
      "text/plain": [
       "['',\n",
       " 'uzxd',\n",
       " 'dxpcdbta',\n",
       " 'ycduyyca',\n",
       " 'ycduyyca',\n",
       " 'uzxd',\n",
       " 'zazb',\n",
       " 'zazb',\n",
       " 'daapzbz',\n",
       " 'a',\n",
       " 'ycduyyca',\n",
       " 'aubtyp',\n",
       " 'ycayaty',\n",
       " 'zazb',\n",
       " 'ycduyyca',\n",
       " 'zazb',\n",
       " 'zduyax',\n",
       " 'ptxdupbt',\n",
       " 'ucupupt',\n",
       " 'ppuduu',\n",
       " 'up',\n",
       " 'ppuduu',\n",
       " 'xt',\n",
       " 'bzacyytb',\n",
       " 'xt',\n",
       " 'ppuduu',\n",
       " 'udtt',\n",
       " 'uzcp',\n",
       " 'yddx',\n",
       " 'au',\n",
       " 'xppdypa',\n",
       " 'udtt',\n",
       " 'ddxttypy',\n",
       " 'tyycdcudd',\n",
       " 'ctzyzacy',\n",
       " 'ppuduu',\n",
       " 'xt',\n",
       " 'ytcd',\n",
       " 'xat',\n",
       " 'ppty',\n",
       " 'yt',\n",
       " 'ydtyup',\n",
       " 'uyaydb',\n",
       " 'dxybp',\n",
       " 'tcca',\n",
       " 'tcca',\n",
       " 'datyxd',\n",
       " 'xyyp',\n",
       " 'c',\n",
       " 'xyyp',\n",
       " 'tcca',\n",
       " 'c',\n",
       " 'atcxbczu',\n",
       " 'dtytt',\n",
       " 'd',\n",
       " 'bt',\n",
       " 'xppt',\n",
       " 'xyyp',\n",
       " 'datyxd',\n",
       " 'uyxp',\n",
       " 'byxtuub',\n",
       " 'tcca',\n",
       " 'dd',\n",
       " 'xppt',\n",
       " 'dtytt',\n",
       " 'ydcucdp',\n",
       " 'xatcdcz',\n",
       " 'ztdxybycb',\n",
       " 'xtydc',\n",
       " 'adzp',\n",
       " 'datyxd',\n",
       " 'pydaxua',\n",
       " 'xppt',\n",
       " 'd',\n",
       " 'adzp',\n",
       " 'adzp',\n",
       " 'b',\n",
       " 'aupax',\n",
       " 'byyxztyp',\n",
       " 'd',\n",
       " 'xbab',\n",
       " 'btcxyc',\n",
       " 'ccxt',\n",
       " 'xpbbxc',\n",
       " 'xpttd',\n",
       " 'uytuxyxya',\n",
       " 'atxxzud',\n",
       " 'u',\n",
       " 'utxzutt',\n",
       " 'atxxzud',\n",
       " 'u',\n",
       " 'utxzutt',\n",
       " 'atxxzud',\n",
       " 'ddaac',\n",
       " 'xuztpuxu',\n",
       " 'xtdu',\n",
       " 'z',\n",
       " 'cztpztap',\n",
       " 'u',\n",
       " 'aubx',\n",
       " 'u',\n",
       " 'u',\n",
       " 'xuzcy',\n",
       " 'xuztpuxu',\n",
       " 'u',\n",
       " 'axcz',\n",
       " 'axcz',\n",
       " 'p',\n",
       " 'az',\n",
       " 'ay',\n",
       " 'dx',\n",
       " 'dy',\n",
       " 'cbyzpczu',\n",
       " 'ddybp',\n",
       " 'xzzb',\n",
       " 'abatd',\n",
       " 'pyxucuc',\n",
       " 'ub',\n",
       " 'yyddtp',\n",
       " 'xzzb',\n",
       " 'upy',\n",
       " 'daxabc',\n",
       " 'xdtuzdu',\n",
       " 'xdp',\n",
       " 'cbyzpczu',\n",
       " 'xbpaczz',\n",
       " 'c',\n",
       " 'ptcxxdzp',\n",
       " 'xzyxcz',\n",
       " 'zpba',\n",
       " 'ppubd',\n",
       " 'pu',\n",
       " 'duc',\n",
       " 'xbpaczz',\n",
       " 'ay',\n",
       " 'yxxpcx',\n",
       " 'axcz',\n",
       " 'pbxduxpb',\n",
       " 'uaczz',\n",
       " 'bdacxx',\n",
       " 'ccuudup',\n",
       " 'xbpaczz',\n",
       " 'zcyxabu',\n",
       " 'duc',\n",
       " 'ypaa',\n",
       " 'uubxct',\n",
       " 'uaczz',\n",
       " 'uxx',\n",
       " 'pppuc',\n",
       " 'batxxt',\n",
       " 'pppuc',\n",
       " 'pzuubbpdu',\n",
       " 'y',\n",
       " 'cdutubaxd',\n",
       " 'y',\n",
       " 'y',\n",
       " 'ayydyy',\n",
       " 'zazzzuu',\n",
       " 'pztbtxx',\n",
       " 'dtapxxy',\n",
       " 'pztbtxx',\n",
       " 'zux',\n",
       " 'xxbbaaptu',\n",
       " 'pab',\n",
       " 'uppyapy',\n",
       " 'zcpzbbbzx',\n",
       " 'dpyz',\n",
       " 'y',\n",
       " 'pppuc',\n",
       " 'ypcy',\n",
       " 'bu',\n",
       " 'tzyccupay',\n",
       " 'pab',\n",
       " 'yxpx',\n",
       " 'ttzc',\n",
       " 'tczz',\n",
       " 'xzux',\n",
       " 'pbydupcap',\n",
       " 'uc',\n",
       " 'uc',\n",
       " 'dpyz',\n",
       " 'pab',\n",
       " 'tbx',\n",
       " 'ypcy',\n",
       " 'y',\n",
       " 'pppuc',\n",
       " 'cpxbb',\n",
       " 'zazp',\n",
       " 'pzac',\n",
       " 'tbcyxztcz',\n",
       " 'pbtcubcdc',\n",
       " 'pbtcubcdc',\n",
       " 'tbcyxztcz',\n",
       " 'ptdttc',\n",
       " 'aazpadtuz',\n",
       " 'tbcyxztcz',\n",
       " 'ptdttc',\n",
       " 'xxz',\n",
       " 'uzup',\n",
       " 'tbcyxztcz',\n",
       " 'ptdttc',\n",
       " 'ytdc',\n",
       " 'xcccbdyp',\n",
       " 'p',\n",
       " 't',\n",
       " 'p',\n",
       " 'p',\n",
       " 'tpbpybc',\n",
       " 'ytppt',\n",
       " 'ytppt',\n",
       " 'buczu',\n",
       " 'dzuc',\n",
       " 'buczu',\n",
       " 'babcabz']"
      ]
     },
     "execution_count": 207,
     "metadata": {},
     "output_type": "execute_result"
    }
   ],
   "source": [
    "list_simbols"
   ]
  },
  {
   "cell_type": "code",
   "execution_count": 208,
   "metadata": {
    "collapsed": true
   },
   "outputs": [],
   "source": [
    "unic_simbols = []\n",
    "for i in list_simbols:\n",
    "    if i in unic_simbols:\n",
    "        continue\n",
    "    else:\n",
    "        unic_simbols.append(i)"
   ]
  },
  {
   "cell_type": "code",
   "execution_count": 209,
   "metadata": {
    "collapsed": false
   },
   "outputs": [],
   "source": [
    "unic_simbols.remove('')"
   ]
  },
  {
   "cell_type": "code",
   "execution_count": 210,
   "metadata": {
    "collapsed": false
   },
   "outputs": [],
   "source": [
    "dic_count = {}\n",
    "for i in range(len(unic_simbols)):\n",
    "    dic_count[unic_simbols[i]] = list_simbols.count(unic_simbols[i])"
   ]
  },
  {
   "cell_type": "code",
   "execution_count": 211,
   "metadata": {
    "collapsed": false
   },
   "outputs": [
    {
     "data": {
      "text/plain": [
       "{'a': 1,\n",
       " 'aazpadtuz': 1,\n",
       " 'abatd': 1,\n",
       " 'adzp': 3,\n",
       " 'atcxbczu': 1,\n",
       " 'atxxzud': 3,\n",
       " 'au': 1,\n",
       " 'aubtyp': 1,\n",
       " 'aubx': 1,\n",
       " 'aupax': 1,\n",
       " 'axcz': 3,\n",
       " 'ay': 2,\n",
       " 'ayydyy': 1,\n",
       " 'az': 1,\n",
       " 'b': 1,\n",
       " 'babcabz': 1,\n",
       " 'batxxt': 1,\n",
       " 'bdacxx': 1,\n",
       " 'bt': 1,\n",
       " 'btcxyc': 1,\n",
       " 'bu': 1,\n",
       " 'buczu': 2,\n",
       " 'byxtuub': 1,\n",
       " 'byyxztyp': 1,\n",
       " 'bzacyytb': 1,\n",
       " 'c': 3,\n",
       " 'cbyzpczu': 2,\n",
       " 'ccuudup': 1,\n",
       " 'ccxt': 1,\n",
       " 'cdutubaxd': 1,\n",
       " 'cpxbb': 1,\n",
       " 'ctzyzacy': 1,\n",
       " 'cztpztap': 1,\n",
       " 'd': 3,\n",
       " 'daapzbz': 1,\n",
       " 'datyxd': 3,\n",
       " 'daxabc': 1,\n",
       " 'dd': 1,\n",
       " 'ddaac': 1,\n",
       " 'ddxttypy': 1,\n",
       " 'ddybp': 1,\n",
       " 'dpyz': 2,\n",
       " 'dtapxxy': 1,\n",
       " 'dtytt': 2,\n",
       " 'duc': 2,\n",
       " 'dx': 1,\n",
       " 'dxpcdbta': 1,\n",
       " 'dxybp': 1,\n",
       " 'dy': 1,\n",
       " 'dzuc': 1,\n",
       " 'p': 4,\n",
       " 'pab': 3,\n",
       " 'pbtcubcdc': 2,\n",
       " 'pbxduxpb': 1,\n",
       " 'pbydupcap': 1,\n",
       " 'pppuc': 4,\n",
       " 'ppty': 1,\n",
       " 'ppubd': 1,\n",
       " 'ppuduu': 4,\n",
       " 'ptcxxdzp': 1,\n",
       " 'ptdttc': 3,\n",
       " 'ptxdupbt': 1,\n",
       " 'pu': 1,\n",
       " 'pydaxua': 1,\n",
       " 'pyxucuc': 1,\n",
       " 'pzac': 1,\n",
       " 'pztbtxx': 2,\n",
       " 'pzuubbpdu': 1,\n",
       " 't': 1,\n",
       " 'tbcyxztcz': 4,\n",
       " 'tbx': 1,\n",
       " 'tcca': 4,\n",
       " 'tczz': 1,\n",
       " 'tpbpybc': 1,\n",
       " 'ttzc': 1,\n",
       " 'tyycdcudd': 1,\n",
       " 'tzyccupay': 1,\n",
       " 'u': 6,\n",
       " 'uaczz': 2,\n",
       " 'ub': 1,\n",
       " 'uc': 2,\n",
       " 'ucupupt': 1,\n",
       " 'udtt': 2,\n",
       " 'up': 1,\n",
       " 'uppyapy': 1,\n",
       " 'upy': 1,\n",
       " 'utxzutt': 2,\n",
       " 'uubxct': 1,\n",
       " 'uxx': 1,\n",
       " 'uyaydb': 1,\n",
       " 'uytuxyxya': 1,\n",
       " 'uyxp': 1,\n",
       " 'uzcp': 1,\n",
       " 'uzup': 1,\n",
       " 'uzxd': 2,\n",
       " 'xat': 1,\n",
       " 'xatcdcz': 1,\n",
       " 'xbab': 1,\n",
       " 'xbpaczz': 3,\n",
       " 'xcccbdyp': 1,\n",
       " 'xdp': 1,\n",
       " 'xdtuzdu': 1,\n",
       " 'xpbbxc': 1,\n",
       " 'xppdypa': 1,\n",
       " 'xppt': 3,\n",
       " 'xpttd': 1,\n",
       " 'xt': 3,\n",
       " 'xtdu': 1,\n",
       " 'xtydc': 1,\n",
       " 'xuzcy': 1,\n",
       " 'xuztpuxu': 2,\n",
       " 'xxbbaaptu': 1,\n",
       " 'xxz': 1,\n",
       " 'xyyp': 3,\n",
       " 'xzux': 1,\n",
       " 'xzyxcz': 1,\n",
       " 'xzzb': 2,\n",
       " 'y': 5,\n",
       " 'ycayaty': 1,\n",
       " 'ycduyyca': 4,\n",
       " 'ydcucdp': 1,\n",
       " 'yddx': 1,\n",
       " 'ydtyup': 1,\n",
       " 'ypaa': 1,\n",
       " 'ypcy': 2,\n",
       " 'yt': 1,\n",
       " 'ytcd': 1,\n",
       " 'ytdc': 1,\n",
       " 'ytppt': 2,\n",
       " 'yxpx': 1,\n",
       " 'yxxpcx': 1,\n",
       " 'yyddtp': 1,\n",
       " 'z': 1,\n",
       " 'zazb': 4,\n",
       " 'zazp': 1,\n",
       " 'zazzzuu': 1,\n",
       " 'zcpzbbbzx': 1,\n",
       " 'zcyxabu': 1,\n",
       " 'zduyax': 1,\n",
       " 'zpba': 1,\n",
       " 'ztdxybycb': 1,\n",
       " 'zux': 1}"
      ]
     },
     "execution_count": 211,
     "metadata": {},
     "output_type": "execute_result"
    }
   ],
   "source": [
    "dic_count"
   ]
  },
  {
   "cell_type": "code",
   "execution_count": 212,
   "metadata": {
    "collapsed": false
   },
   "outputs": [],
   "source": [
    "max_value = 0\n",
    "max_key = ''\n",
    "for key in dic_count:\n",
    "    if dic_count[key] > max_value:\n",
    "        max_value = dic_count[key]\n",
    "        max_key = key\n",
    "    elif dic_count[key] == max_value:\n",
    "        if key > max_key:\n",
    "            max_value = dic_count[key]\n",
    "            max_key = key\n",
    "        else:\n",
    "            continue\n",
    "    else:\n",
    "        continue"
   ]
  },
  {
   "cell_type": "code",
   "execution_count": 213,
   "metadata": {
    "collapsed": false
   },
   "outputs": [
    {
     "name": "stdout",
     "output_type": "stream",
     "text": [
      "u 6\n"
     ]
    }
   ],
   "source": [
    "print(max_key, max_value)"
   ]
  },
  {
   "cell_type": "code",
   "execution_count": 215,
   "metadata": {
    "collapsed": false
   },
   "outputs": [
    {
     "data": {
      "text/plain": [
       "6"
      ]
     },
     "execution_count": 215,
     "metadata": {},
     "output_type": "execute_result"
    }
   ],
   "source": [
    "list_simbols.count('u')"
   ]
  },
  {
   "cell_type": "code",
   "execution_count": 189,
   "metadata": {
    "collapsed": true
   },
   "outputs": [],
   "source": [
    "f.close()"
   ]
  },
  {
   "cell_type": "code",
   "execution_count": 216,
   "metadata": {
    "collapsed": false
   },
   "outputs": [],
   "source": [
    "a = open('answer_2.txt', 'w')\n",
    "a.write(str(max_key) + ' ' + str(max_value))\n",
    "a.close()"
   ]
  },
  {
   "cell_type": "code",
   "execution_count": 191,
   "metadata": {
    "collapsed": false
   },
   "outputs": [
    {
     "name": "stdout",
     "output_type": "stream",
     "text": [
      "u 6\n"
     ]
    }
   ],
   "source": [
    "# со степика\n",
    "s=[]\n",
    "with open('dataset_3363_3.txt', 'r') as e:\n",
    "      for line in e:\n",
    "        s += line.strip().lower().split()\n",
    "s1 = {}\n",
    "j = 1\n",
    "s2 = {}\n",
    "for i in range(len(s)):\n",
    "    s1[s[i]] = s.count(s[i])\n",
    "for keys, values in s1.items():\n",
    "    if values == max(s1.values()):\n",
    "        s2[keys] = values\n",
    "for keys, values in s2.items():\n",
    "    if keys == min(s2.keys()):\n",
    "        print(keys, values)"
   ]
  },
  {
   "cell_type": "code",
   "execution_count": 193,
   "metadata": {
    "collapsed": false
   },
   "outputs": [],
   "source": [
    "a = open('answer_2.txt', 'w')\n",
    "a.write(str(keys) + ' ' + str(values))\n",
    "a.close()"
   ]
  },
  {
   "cell_type": "code",
   "execution_count": 245,
   "metadata": {
    "collapsed": true
   },
   "outputs": [],
   "source": [
    "s=[]\n",
    "with open('dataset_3363_4.txt', 'r') as file:\n",
    "      for line in file:\n",
    "        s += line.strip().split()"
   ]
  },
  {
   "cell_type": "code",
   "execution_count": 246,
   "metadata": {
    "collapsed": true
   },
   "outputs": [],
   "source": [
    "import numpy "
   ]
  },
  {
   "cell_type": "code",
   "execution_count": 247,
   "metadata": {
    "collapsed": false
   },
   "outputs": [],
   "source": [
    "name_student = []\n",
    "average_rate = []\n",
    "mathem_rate = []\n",
    "physic_rate = []\n",
    "russian_rate = []\n",
    "for item in s:\n",
    "    a = item.split(';')\n",
    "    name_student.append(a[0])\n",
    "    average_rate.append((int(a[1]) + int(a[2]) + int(a[3]))/3)\n",
    "    mathem_rate.append(int(a[1]))\n",
    "    physic_rate.append(int(a[2]))\n",
    "    russian_rate.append(int(a[3]))\n",
    "\n",
    "with open('answer_3.txt', 'w') as file:\n",
    "    for i in range(len(name_student)):\n",
    "        file.write(str(average_rate[i]) + '\\n')\n",
    "    file.write('{} {} {}'.format(numpy.mean(mathem_rate), numpy.mean(physic_rate), numpy.mean(russian_rate)))        "
   ]
  },
  {
   "cell_type": "code",
   "execution_count": 248,
   "metadata": {
    "collapsed": false
   },
   "outputs": [
    {
     "data": {
      "text/plain": [
       "64.11643835616438"
      ]
     },
     "execution_count": 248,
     "metadata": {},
     "output_type": "execute_result"
    }
   ],
   "source": [
    "numpy.mean(mathem_rate)"
   ]
  },
  {
   "cell_type": "code",
   "execution_count": 258,
   "metadata": {
    "collapsed": false
   },
   "outputs": [
    {
     "name": "stdout",
     "output_type": "stream",
     "text": [
      "3\n",
      "Зенит;3;Спартак;1\n",
      "Спартак;1;ЦСКА;1\n",
      "ЦСКА;0;Зенит;2\n"
     ]
    }
   ],
   "source": [
    "step = int(input())\n",
    "first_comand = []\n",
    "second_comand = []\n",
    "'''\n",
    "Зенит;3;Спартак;1\n",
    "Спартак;1;ЦСКА;1\n",
    "ЦСКА;0;Зенит;2\n",
    "'''\n",
    "while step != 0:\n",
    "    b = input().split(';')\n",
    "    first_comand.append((b[0],b[1]))\n",
    "    second_comand.append((b[2],b[3]))\n",
    "    \n",
    "    step -= 1"
   ]
  },
  {
   "cell_type": "code",
   "execution_count": 259,
   "metadata": {
    "collapsed": false
   },
   "outputs": [
    {
     "data": {
      "text/plain": [
       "[('Зенит', '3'), ('Спартак', '1'), ('ЦСКА', '0')]"
      ]
     },
     "execution_count": 259,
     "metadata": {},
     "output_type": "execute_result"
    }
   ],
   "source": [
    "first_comand"
   ]
  },
  {
   "cell_type": "code",
   "execution_count": 260,
   "metadata": {
    "collapsed": false
   },
   "outputs": [
    {
     "data": {
      "text/plain": [
       "[('Спартак', '1'), ('ЦСКА', '1'), ('Зенит', '2')]"
      ]
     },
     "execution_count": 260,
     "metadata": {},
     "output_type": "execute_result"
    }
   ],
   "source": [
    "second_comand"
   ]
  },
  {
   "cell_type": "code",
   "execution_count": 368,
   "metadata": {
    "collapsed": false
   },
   "outputs": [],
   "source": [
    "numbers_of_game = {}\n",
    "vins = {}\n",
    "push = {}\n",
    "lose = {}"
   ]
  },
  {
   "cell_type": "code",
   "execution_count": 369,
   "metadata": {
    "collapsed": false
   },
   "outputs": [],
   "source": [
    "for i in range(len(first_comand)):\n",
    "    if first_comand[i][0] in numbers_of_game:\n",
    "        numbers_of_game[first_comand[i][0]] += 1\n",
    "    else:\n",
    "        numbers_of_game[first_comand[i][0]] = 1\n",
    "        \n",
    "    if second_comand[i][0] in numbers_of_game:\n",
    "        numbers_of_game[second_comand[i][0]] += 1\n",
    "    else:\n",
    "        numbers_of_game[second_comand[i][0]] = 1"
   ]
  },
  {
   "cell_type": "code",
   "execution_count": 370,
   "metadata": {
    "collapsed": false
   },
   "outputs": [],
   "source": [
    "for i in range(len(first_comand)):\n",
    "    if first_comand[i][1] > second_comand[i][1]:\n",
    "        if first_comand[i][0] in vins:\n",
    "            vins[first_comand[i][0]] += 1\n",
    "        else:\n",
    "            vins[first_comand[i][0]] = 1\n",
    "    elif first_comand[i][1] < second_comand[i][1]:\n",
    "        if second_comand[i][0] in vins:\n",
    "            vins[second_comand[i][0]] += 1\n",
    "        else:\n",
    "            vins[second_comand[i][0]] = 1\n",
    "    else:\n",
    "        continue"
   ]
  },
  {
   "cell_type": "code",
   "execution_count": 371,
   "metadata": {
    "collapsed": true
   },
   "outputs": [],
   "source": [
    "for i in range(len(first_comand)):\n",
    "    if first_comand[i][1] < second_comand[i][1]:\n",
    "        if first_comand[i][0] in lose:\n",
    "            lose[first_comand[i][0]] += 1\n",
    "        else:\n",
    "            lose[first_comand[i][0]] = 1\n",
    "    elif first_comand[i][1] > second_comand[i][1]:\n",
    "        if second_comand[i][0] in lose:\n",
    "            lose[second_comand[i][0]] += 1\n",
    "        else:\n",
    "            lose[second_comand[i][0]] = 1\n",
    "    else:\n",
    "        continue"
   ]
  },
  {
   "cell_type": "code",
   "execution_count": 372,
   "metadata": {
    "collapsed": true
   },
   "outputs": [],
   "source": [
    "for i in range(len(first_comand)):\n",
    "    if first_comand[i][1] == second_comand[i][1]:\n",
    "        if first_comand[i][0] and second_comand[i][0] in push:\n",
    "            push[first_comand[i][0]] += 1\n",
    "            push[second_comand[i][0]] += 1\n",
    "        elif first_comand[i][0] and second_comand[i][0] not in push:\n",
    "            push[first_comand[i][0]] = 1\n",
    "            push[second_comand[i][0]] = 1\n",
    "        elif first_comand[i][0] in push and second_comand[i][0] not in push:\n",
    "            push[first_comand[i][0]] += 1\n",
    "            push[second_comand[i][0]] = 1\n",
    "        else:\n",
    "            push[first_comand[i][0]] = 1\n",
    "            push[second_comand[i][0]] += 1\n",
    "    else:\n",
    "        continue"
   ]
  },
  {
   "cell_type": "code",
   "execution_count": 379,
   "metadata": {
    "collapsed": true
   },
   "outputs": [],
   "source": [
    "for i in range(len(first_comand)):\n",
    "    if first_comand[i][0] not in push:\n",
    "        push[first_comand[i][0]] = 0\n",
    "    if first_comand[i][0] not in lose:\n",
    "        lose[first_comand[i][0]] = 0  \n",
    "    if first_comand[i][0] not in vins:\n",
    "        vins[first_comand[i][0]] = 0\n",
    "    else:\n",
    "        continue"
   ]
  },
  {
   "cell_type": "code",
   "execution_count": 380,
   "metadata": {
    "collapsed": false
   },
   "outputs": [
    {
     "data": {
      "text/plain": [
       "{'Зенит': 2, 'Спартак': 2, 'ЦСКА': 2}"
      ]
     },
     "execution_count": 380,
     "metadata": {},
     "output_type": "execute_result"
    }
   ],
   "source": [
    "numbers_of_game"
   ]
  },
  {
   "cell_type": "code",
   "execution_count": 381,
   "metadata": {
    "collapsed": false
   },
   "outputs": [
    {
     "data": {
      "text/plain": [
       "{'Зенит': 2, 'Спартак': 0, 'ЦСКА': 0}"
      ]
     },
     "execution_count": 381,
     "metadata": {},
     "output_type": "execute_result"
    }
   ],
   "source": [
    "vins"
   ]
  },
  {
   "cell_type": "code",
   "execution_count": 382,
   "metadata": {
    "collapsed": false
   },
   "outputs": [
    {
     "data": {
      "text/plain": [
       "{'Зенит': 0, 'Спартак': 1, 'ЦСКА': 1}"
      ]
     },
     "execution_count": 382,
     "metadata": {},
     "output_type": "execute_result"
    }
   ],
   "source": [
    "push"
   ]
  },
  {
   "cell_type": "code",
   "execution_count": 383,
   "metadata": {
    "collapsed": false
   },
   "outputs": [
    {
     "data": {
      "text/plain": [
       "{'Зенит': 0, 'Спартак': 1, 'ЦСКА': 1}"
      ]
     },
     "execution_count": 383,
     "metadata": {},
     "output_type": "execute_result"
    }
   ],
   "source": [
    "lose"
   ]
  },
  {
   "cell_type": "code",
   "execution_count": 280,
   "metadata": {
    "collapsed": false
   },
   "outputs": [],
   "source": [
    "for i in range(len(first_comand)):\n",
    "    print(first_comand[i][0], numbers_of_game[first_comand[i][0]], vins[first_comand[i][0]], )"
   ]
  },
  {
   "cell_type": "code",
   "execution_count": 282,
   "metadata": {
    "collapsed": false
   },
   "outputs": [],
   "source": [
    "test_dict = {'1': first, '2': second}"
   ]
  },
  {
   "cell_type": "code",
   "execution_count": 285,
   "metadata": {
    "collapsed": false
   },
   "outputs": [
    {
     "data": {
      "text/plain": [
       "'YES_1'"
      ]
     },
     "execution_count": 285,
     "metadata": {},
     "output_type": "execute_result"
    }
   ],
   "source": [
    "test_dict['1']['1.1']"
   ]
  },
  {
   "cell_type": "code",
   "execution_count": null,
   "metadata": {
    "collapsed": true
   },
   "outputs": [],
   "source": []
  }
 ],
 "metadata": {
  "kernelspec": {
   "display_name": "Python 3",
   "language": "python",
   "name": "python3"
  },
  "language_info": {
   "codemirror_mode": {
    "name": "ipython",
    "version": 3
   },
   "file_extension": ".py",
   "mimetype": "text/x-python",
   "name": "python",
   "nbconvert_exporter": "python",
   "pygments_lexer": "ipython3",
   "version": "3.5.2"
  }
 },
 "nbformat": 4,
 "nbformat_minor": 0
}
