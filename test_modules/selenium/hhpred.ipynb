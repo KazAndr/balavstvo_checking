{
 "cells": [
  {
   "cell_type": "code",
   "execution_count": 18,
   "metadata": {},
   "outputs": [],
   "source": [
    "import time\n",
    "\n",
    "import pandas as pd\n",
    "\n",
    "from selenium import webdriver\n",
    "from selenium.webdriver.common.by import By\n",
    "from selenium.webdriver.support.ui import WebDriverWait\n",
    "from selenium.webdriver.support import expected_conditions as EC\n",
    "from selenium.common.exceptions import TimeoutException"
   ]
  },
  {
   "cell_type": "code",
   "execution_count": 3,
   "metadata": {},
   "outputs": [],
   "source": [
    "table = pd.read_excel('CP012104_1_-_RAST.xls', sheet_name='Sheet1')"
   ]
  },
  {
   "cell_type": "code",
   "execution_count": 27,
   "metadata": {},
   "outputs": [],
   "source": [
    "driver = webdriver.Chrome()\n",
    "driver.wait = WebDriverWait(driver, 30)\n",
    "driver.get(\"https://toolkit.tuebingen.mpg.de/tools/hhpred\")\n",
    "xpath_textbox = '//*[@id=\"__BVID__121\"]'\n",
    "selector_submit = '//*[@id=\"__BVID__139\"]/div/button[1]'\n",
    "textbox = driver.wait.until(EC.presence_of_element_located(\n",
    "            (By.XPATH, xpath_textbox)))\n",
    "textbox.send_keys(f'M')\n",
    "time.sleep(5) # ожидание, что бы успеть принять условия пользовательского согла\n",
    "button = driver.wait.until(EC.element_to_be_clickable(\n",
    "            (By.XPATH, xpath_submit)))\n",
    "\n",
    "button.click()"
   ]
  },
  {
   "cell_type": "code",
   "execution_count": 5,
   "metadata": {},
   "outputs": [
    {
     "data": {
      "text/plain": [
       "'MGFKFRKSIKIAPGVRMNVSKKGVGVSAGVKGARVSTGPSGTRITTSVPGTGLSYEKRL'"
      ]
     },
     "execution_count": 5,
     "metadata": {},
     "output_type": "execute_result"
    }
   ],
   "source": [
    "table.aa_sequence[0]"
   ]
  },
  {
   "cell_type": "code",
   "execution_count": null,
   "metadata": {},
   "outputs": [],
   "source": [
    "//*[@id=\"__BVID__139\"]/div/button[1]"
   ]
  },
  {
   "cell_type": "code",
   "execution_count": null,
   "metadata": {},
   "outputs": [],
   "source": [
    "#__BVID__139 > div > button"
   ]
  }
 ],
 "metadata": {
  "kernelspec": {
   "display_name": "Python 3",
   "language": "python",
   "name": "python3"
  },
  "language_info": {
   "codemirror_mode": {
    "name": "ipython",
    "version": 3
   },
   "file_extension": ".py",
   "mimetype": "text/x-python",
   "name": "python",
   "nbconvert_exporter": "python",
   "pygments_lexer": "ipython3",
   "version": "3.7.4"
  }
 },
 "nbformat": 4,
 "nbformat_minor": 4
}
