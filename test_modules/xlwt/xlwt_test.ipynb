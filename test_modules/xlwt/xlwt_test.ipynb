{
 "cells": [
  {
   "cell_type": "code",
   "execution_count": 17,
   "metadata": {},
   "outputs": [],
   "source": [
    "import xlwt\n",
    "\n",
    "import os\n",
    "import sys\n",
    "import datetime\n",
    "import numpy as np\n",
    "import pandas as pd\n",
    "from tqdm import tqdm_notebook"
   ]
  },
  {
   "cell_type": "code",
   "execution_count": 5,
   "metadata": {},
   "outputs": [],
   "source": [
    "WORK_DIR = 'F:\\\\YandexDisk\\\\1.Работа\\\\Результаты обработки'"
   ]
  },
  {
   "cell_type": "code",
   "execution_count": 6,
   "metadata": {},
   "outputs": [
    {
     "data": {
      "application/vnd.jupyter.widget-view+json": {
       "model_id": "d69def1223424b6bae9068aaff58ccc8",
       "version_major": 2,
       "version_minor": 0
      },
      "text/plain": [
       "HBox(children=(IntProgress(value=1, bar_style='info', max=1), HTML(value='')))"
      ]
     },
     "metadata": {},
     "output_type": "display_data"
    },
    {
     "name": "stdout",
     "output_type": "stream",
     "text": [
      "\n"
     ]
    }
   ],
   "source": [
    "all_files =[]\n",
    "for path, dirs, files in tqdm_notebook(os.walk(WORK_DIR, topdown=False)):\n",
    "    files = [x for x in files if x[-13:] == \"_profiles.txt\" or  x[-5:] == \".srez\"] \n",
    "    all_files.extend(files)"
   ]
  },
  {
   "cell_type": "code",
   "execution_count": 7,
   "metadata": {},
   "outputs": [
    {
     "data": {
      "text/plain": [
       "12373"
      ]
     },
     "execution_count": 7,
     "metadata": {},
     "output_type": "execute_result"
    }
   ],
   "source": [
    "len(all_files)"
   ]
  },
  {
   "cell_type": "code",
   "execution_count": 8,
   "metadata": {},
   "outputs": [],
   "source": [
    "all_files = list(set(all_files))\n",
    "all_files = sorted(all_files, key=lambda x: datetime.datetime.strptime(x[2:6] +  ' ' + x[7:11], '%m%y %H%M'))\n",
    "#all_files = sorted(all_files, key=lambda x: datetime.datetime.strptime(x[7:11], '%H%M'))"
   ]
  },
  {
   "cell_type": "code",
   "execution_count": 9,
   "metadata": {},
   "outputs": [
    {
     "data": {
      "text/plain": [
       "['130210_0531+21_00_profiles.txt',\n",
       " '140910_0531+21_00_profiles.txt',\n",
       " '260910_0531+21_00_profiles.txt',\n",
       " '060910_0531+21_00_profiles.txt',\n",
       " '240910_0531+21_00_profiles.txt',\n",
       " '080910_0531+21_00_profiles.txt',\n",
       " '110910_0531+21_00_profiles.txt',\n",
       " '270910_0531+21_00_profiles.txt',\n",
       " '040910_0531+21_00_profiles.txt',\n",
       " '210910_0531+21_00_profiles.txt']"
      ]
     },
     "execution_count": 9,
     "metadata": {},
     "output_type": "execute_result"
    }
   ],
   "source": [
    "all_files[:10]"
   ]
  },
  {
   "cell_type": "code",
   "execution_count": 21,
   "metadata": {},
   "outputs": [],
   "source": [
    "book = xlwt.Workbook(encoding='utf-8', style_compression=2)\n",
    "    \n",
    "color = {'colour_42': (0x21, 204, 250, 204),\n",
    "         'colour_50': (0x22, 153, 204, 0),\n",
    "         'colour_10': (0x23, 255, 0, 0),\n",
    "         'colour_11': (0x24, 0, 255, 0),\n",
    "         'colour_13': (0x25, 255, 255, 0),\n",
    "         'colour_24': (0x26, 153, 153, 255),\n",
    "         'colour_12': (0x27, 0, 0, 255),\n",
    "         'colour_20': (0x28, 128, 0, 128),\n",
    "         'colour_53': (0x29, 255, 102, 0),\n",
    "         'colour_23': (0x30, 128, 128, 128),\n",
    "         'colour_16': (0x31, 128, 0, 0),\n",
    "         'colour_15': (0x32, 0, 255, 255),\n",
    "         'colour_58': (0x33, 0, 51, 0),\n",
    "         'colour_22': (0x34, 192, 192, 192),\n",
    "         'colour_45': (0x35, 255, 153, 204)\n",
    "        }\n",
    "\n",
    "\n",
    "color_name = ['colour_42', 'color_def', 'colour_50', 'color_def', 'color_def', 'colour_10', 'colour_11', \n",
    "              'colour_11', 'colour_13', 'colour_24', 'colour_12', 'colour_20', 'color_def', 'colour_53',\n",
    "              'colour_23', 'colour_16', 'colour_15', 'colour_58', 'colour_22', 'colour_45']\n",
    "legend_sing = ['+', ' ', ' ', '!...!!..!!!', '?', ' ', ' ', '50', ' ', ' ', ' ', ' ', '*', \n",
    "               ' ', ' ', ' ', ' ', ' ', ' ', ' ']\n",
    "\n",
    "legend_dis = [ 'Наблюдения произведены, обработаны в PV и др. Ничего интересного', \n",
    "              'Наблюдения не были произведены',\n",
    "              'Обнаружен ИИ сильно превышающий СП по S/N (или нечто интересное)',\n",
    "              'Степень интересности события (зависит от конкретного пульсара)',\n",
    "              'Нечто неидентифицируемое (странные помехи и т.п.)',\n",
    "              'Наблюдения произведены, но средний профиль не формируется',\n",
    "              'Обнаружен ГИ',\n",
    "              'Максимальное превышение амплитуды среднего профиля ИИ',\n",
    "              'Необработанные данные',\n",
    "              'Данные обработаны в RaP, но не обработаны в программах Смирновой ТВ',\n",
    "              'Сформированый СП находится в невыгодном, для анализа, положении',\n",
    "              'Проблемы с файлом',\n",
    "              'Большое количество помех (или одна, но сильная)',\n",
    "              'Произведена калибровка',\n",
    "              'Планируемые наблюдения',\n",
    "              'Программа тайминга',\n",
    "              'Копии данных  от наблюдателей',\n",
    "              'ADC',\n",
    "              'Наблюдения планировались, но совершены не были',\n",
    "              'Программа SMPR'\n",
    "             ]\n",
    "\n",
    "for key in color:\n",
    "        xlwt.add_palette_colour(key, color[key][0])\n",
    "        book.set_colour_RGB(color[key][0], \n",
    "                            color[key][1], \n",
    "                            color[key][2], \n",
    "                            color[key][3])"
   ]
  },
  {
   "cell_type": "code",
   "execution_count": 22,
   "metadata": {},
   "outputs": [],
   "source": [
    "def write_legend(sheet):\n",
    "\n",
    "    first_row_idx = max(pulsar_col.items())[1] + 3\n",
    "    for col, leg_s, leg_d in zip(color_name, legend_sing, legend_dis):\n",
    "        if col != 'color_def':\n",
    "            \n",
    "            sheet.write(first_row_idx, 0, leg_s, \n",
    "                        style= xlwt.easyxf('pattern: pattern solid, fore_colour ' +  col + '; \\\n",
    "                        borders: top_color black, bottom_color black, right_color black, \\\n",
    "                        left_color black, left thin, right thin, top thin, \\\n",
    "                        bottom thin; align: horiz center, vert center;')) \n",
    "            \n",
    "            sheet.write_merge(first_row_idx, first_row_idx, 1, 17, \n",
    "                              leg_d, \n",
    "                              style= xlwt.easyxf('borders: top_color black, bottom_color black, \\\n",
    "                              right_color black, left_color black, left thin, right thin, top thin, \\\n",
    "                              bottom thin; align: horiz left, vert center;'))\n",
    "            \n",
    "            sheet.write_merge(first_row_idx, first_row_idx, 18, 23, \n",
    "                              str(color[col][1:])[1:-1], \n",
    "                              style= xlwt.easyxf('borders: top_color black, bottom_color black, \\\n",
    "                              right_color black, left_color black, left thin, right thin, top thin, \\\n",
    "                              bottom thin; align: horiz center, vert center;'))\n",
    "            \n",
    "            sheet.write_merge(first_row_idx, first_row_idx, 24, 25, col[-2:], \n",
    "                              style= xlwt.easyxf('borders: top_color black, bottom_color black, \\\n",
    "                              right_color black, left_color black, left thin, right thin, top thin, \\\n",
    "                              bottom thin; align: horiz center, vert center;'))\n",
    "            \n",
    "        else:\n",
    "            \n",
    "            sheet.write(first_row_idx, 0, leg_s,\n",
    "                        style= xlwt.easyxf('borders: top_color black, bottom_color black, \\\n",
    "                        right_color black, left_color black, left thin, right thin, \\\n",
    "                        top thin, bottom thin; align: horiz center, vert center;'))\n",
    "            \n",
    "            sheet.write_merge(first_row_idx, first_row_idx, 1, 17, \n",
    "                              leg_d, \n",
    "                              style= xlwt.easyxf('borders: top_color black, bottom_color black, \\\n",
    "                              right_color black, left_color black, left thin, right thin, top thin, \\\n",
    "                              bottom thin; align: horiz left, vert center;'))\n",
    "            sheet.write_merge(first_row_idx, first_row_idx, 18, 23, \n",
    "                              ' ', \n",
    "                              style= xlwt.easyxf('borders: top_color black, bottom_color black, \\\n",
    "                              right_color black, left_color black, left thin, right thin, top thin, \\\n",
    "                              bottom thin; align: horiz center, vert center;'))\n",
    "            sheet.write_merge(first_row_idx, first_row_idx, 24, 25, ' ', \n",
    "                              style= xlwt.easyxf('borders: top_color black, bottom_color black, \\\n",
    "                              right_color black, left_color black, left thin, right thin, top thin, \\\n",
    "                              bottom thin; align: horiz center, vert center;'))\n",
    "        first_row_idx += 1\n",
    "    return None"
   ]
  },
  {
   "cell_type": "code",
   "execution_count": 23,
   "metadata": {},
   "outputs": [
    {
     "data": {
      "application/vnd.jupyter.widget-view+json": {
       "model_id": "9b4db9d5c6e24dd0acb855058828a61a",
       "version_major": 2,
       "version_minor": 0
      },
      "text/plain": [
       "HBox(children=(IntProgress(value=0, max=12021), HTML(value='')))"
      ]
     },
     "metadata": {},
     "output_type": "display_data"
    },
    {
     "name": "stdout",
     "output_type": "stream",
     "text": [
      "180214_0919+06_01.srez\n",
      "030814_0919+06_00.srez\n",
      "210814_0919+06_00_profiles.txt\n",
      "090814_0919+06_00.srez\n",
      "270814_0919+06_00.srez\n",
      "050814_0919+06_00_profiles.txt\n",
      "110814_0919+06_00_profiles.txt\n",
      "250814_0919+06_00_profiles.txt\n",
      "070814_0919+06_00_profiles.txt\n",
      "170814_0919+06_00_profiles.txt\n",
      "300814_0919+06_00_profiles.txt\n",
      "190814_0919+06_00_profiles.txt\n",
      "280814_0919+06_00_profiles.txt\n",
      "100814_0919+06_00_profiles.txt\n",
      "120814_0919+06_00_profiles.txt\n",
      "310814_0919+06_00.srez\n",
      "240814_0919+06_00.srez\n",
      "060814_0919+06_00.srez\n",
      "130814_0919+06_00.srez\n",
      "180814_0919+06_00.srez\n",
      "140814_0919+06_00_profiles.txt\n",
      "230814_0919+06_00.srez\n",
      "260814_0919+06_00.srez\n",
      "200814_0919+06_00.srez\n",
      "160814_0919+06_00_profiles.txt\n",
      "040814_0919+06_00.srez\n",
      "020814_0919+06_00.srez\n",
      "080415_1237+25_00_profiles.txt\n",
      "180216_0919+06_00_profiles.txt\n",
      "170316_1112+50_00_profiles.txt\n",
      "220316_1133+16_00_profiles.txt\n",
      "070416_1237+25_01_profiles.txt\n",
      "080416_1237+25_00_profiles.txt\n",
      "210516_1530+27_00_profiles.txt\n",
      "310716_2011+38_01_profiles.txt\n",
      "050816_2032+41_00_profiles.txt\n",
      "170816_2110+27_00.srez\n",
      "250217_0950+08_00_profiles.txt\n",
      "170317_1112+50_00_profiles.txt\n",
      "230317_1133+16_00_profiles.txt\n",
      "030717_0834+06_00_profiles.txt\n",
      "170318_1112+50_01_profiles.txt\n",
      "230318_1133+16_01_profiles.txt\n",
      "\n"
     ]
    }
   ],
   "source": [
    "\n",
    "for file in tqdm_notebook(all_files):\n",
    "    \n",
    "    day = file[:2]\n",
    "    month = file[2:4]\n",
    "    year = file[4:6]\n",
    "    name = file[7:14]\n",
    "    \n",
    "    puls_month = set([a[7:14] for a in all_files if a[2:6] == file[2:6]])\n",
    "    try:\n",
    "        sheet = book.add_sheet(month + '.20' + year)\n",
    "        start_index_row = 2\n",
    "        pulsar_col = {}\n",
    "        sheet.write(0, 1, 'Дата')\n",
    "        sheet.write(1, 0, 'Пульсар')\n",
    "        try:\n",
    "            for i in range(1, 32):\n",
    "                col = sheet.col(i+1)\n",
    "                col.width = 956\n",
    "                val = None\n",
    "                if len(str(i)) > 1:\n",
    "                    val = str(i)\n",
    "                else:\n",
    "                    val = '0' + str(i)\n",
    "            \n",
    "                sheet.write_merge(0, 1, i+1, i+1,  val, style= xlwt.easyxf('borders: \\\n",
    "                top_color black, bottom_color black, right_color black, left_color black,\\\n",
    "                                  left thin, right thin, top thin, bottom thin; \\\n",
    "                                  align: horiz center, vert center;')) \n",
    "        except:\n",
    "            e = sys.exc_info()[1]\n",
    "            print(e.args[0])\n",
    "            break\n",
    "            \n",
    "    except Exception:\n",
    "        pass\n",
    "    \n",
    "    \n",
    "    if name not in pulsar_col:\n",
    "        pulsar_col[name] = start_index_row\n",
    "        row = sheet.row(start_index_row)\n",
    "        row.height = 1956\n",
    "        sheet.write(start_index_row, 0, 'PSR_B'+ name) \n",
    "        sheet.write(start_index_row, int(day)+1, '+')\n",
    "        start_index_row += 1\n",
    "    else:\n",
    "        try:\n",
    "            sheet.write(pulsar_col[name], int(day)+1, '+')\n",
    "        except Exception:\n",
    "            print(file)\n",
    "    \n",
    "    if len(pulsar_col) == len(puls_month):\n",
    "        try:\n",
    "            write_legend(sheet)\n",
    "        except Exception:\n",
    "            continue\n",
    "    else:\n",
    "        continue"
   ]
  },
  {
   "cell_type": "code",
   "execution_count": 24,
   "metadata": {},
   "outputs": [],
   "source": [
    "book.save('xlwt_test.xls')"
   ]
  },
  {
   "cell_type": "code",
   "execution_count": null,
   "metadata": {
    "collapsed": true
   },
   "outputs": [],
   "source": []
  }
 ],
 "metadata": {
  "kernelspec": {
   "display_name": "Python 3",
   "language": "python",
   "name": "python3"
  },
  "language_info": {
   "codemirror_mode": {
    "name": "ipython",
    "version": 3
   },
   "file_extension": ".py",
   "mimetype": "text/x-python",
   "name": "python",
   "nbconvert_exporter": "python",
   "pygments_lexer": "ipython3",
   "version": "3.5.2"
  }
 },
 "nbformat": 4,
 "nbformat_minor": 1
}
